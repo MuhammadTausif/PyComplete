{
 "cells": [
  {
   "cell_type": "markdown",
   "metadata": {},
   "source": [
    "# Meta File"
   ]
  },
  {
   "cell_type": "code",
   "execution_count": 6,
   "metadata": {},
   "outputs": [
    {
     "name": "stdout",
     "output_type": "stream",
     "text": [
      "Plain text file created: C:\\Users\\Public\\Dev\\Ph.D\\2nd Semester\\CS-675-IRS\\Assignments\\First\\IRS-Meta_file_title_description.txt\n"
     ]
    }
   ],
   "source": [
    "import csv\n",
    "import os\n",
    "\n",
    "# Path to your CSV file\n",
    "input_csv_path = r\"C:\\Users\\Public\\Dev\\Ph.D\\2nd Semester\\CS-675-IRS\\Assignments\\First\\IRS-Meta_file_with_headings.csv\"\n",
    "\n",
    "# Output text file path\n",
    "output_txt_path = r\"C:\\Users\\Public\\Dev\\Ph.D\\2nd Semester\\CS-675-IRS\\Assignments\\First\\IRS-Meta_file_title_description.txt\"\n",
    "\n",
    "def csv_to_plain_text(csv_path, txt_path):\n",
    "    \"\"\"\n",
    "    Read the CSV at `csv_path`, exclude the 'Name' column, and\n",
    "    write each row's information to a plain text file `txt_path`\n",
    "    in the specified format.\n",
    "    \"\"\"\n",
    "    if not os.path.exists(csv_path):\n",
    "        print(f\"CSV file not found: {csv_path}\")\n",
    "        return\n",
    "\n",
    "    # Open the CSV for reading and a .txt file for writing\n",
    "    with open(csv_path, \"r\", encoding=\"utf-8\") as csv_file, \\\n",
    "         open(txt_path, \"w\", encoding=\"utf-8\") as txt_file:\n",
    "        \n",
    "        reader = csv.DictReader(csv_file)\n",
    "        \n",
    "        for row in reader:\n",
    "            # --- Read the columns you want ---\n",
    "            doc_id = row.get(\"Doc ID\", \"\").strip()\n",
    "            # Skip 'Name' column entirely (do not use row[\"Name\"])\n",
    "            author = row.get(\"Author\", \"\").strip()\n",
    "            year = row.get(\"Year\", \"\").strip()\n",
    "            research = row.get(\"Title\", \"\").strip()\n",
    "            description = row.get(\"Description\", \"\").strip()\n",
    "            original_source = row.get(\"Original Source\", \"\").strip()\n",
    "            \n",
    "            # --- Write the data in the desired plain-text format ---\n",
    "            txt_file.write(f\"Doc ID: {doc_id}\\n\")\n",
    "            \n",
    "            # We treat the CSV's 'Research' column as the paper \"Title\"\n",
    "            txt_file.write(f\"Title: {research}\\n\")\n",
    "            \n",
    "            txt_file.write(f\"Author: {author}\\n\")\n",
    "            # If you do NOT want to include the year, comment out the next line:\n",
    "            txt_file.write(f\"Year: {year}\\n\")\n",
    "            \n",
    "            txt_file.write(f\"Description: {description}\\n\")\n",
    "            txt_file.write(f\"Original Source: {original_source}\\n\")\n",
    "            txt_file.write(\"\\n\")  # Blank line separating entries\n",
    "\n",
    "    print(f\"Plain text file created: {txt_path}\")\n",
    "\n",
    "if __name__ == \"__main__\":\n",
    "    csv_to_plain_text(input_csv_path, output_txt_path)"
   ]
  }
 ],
 "metadata": {
  "kernelspec": {
   "display_name": ".venv",
   "language": "python",
   "name": "python3"
  },
  "language_info": {
   "codemirror_mode": {
    "name": "ipython",
    "version": 3
   },
   "file_extension": ".py",
   "mimetype": "text/x-python",
   "name": "python",
   "nbconvert_exporter": "python",
   "pygments_lexer": "ipython3",
   "version": "3.11.5"
  }
 },
 "nbformat": 4,
 "nbformat_minor": 2
}
