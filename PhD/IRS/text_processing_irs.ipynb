{
 "cells": [
  {
   "cell_type": "markdown",
   "metadata": {},
   "source": [
    "# IRS"
   ]
  },
  {
   "cell_type": "markdown",
   "metadata": {},
   "source": [
    "### Pre Processing"
   ]
  },
  {
   "cell_type": "markdown",
   "metadata": {},
   "source": [
    "### Unzip files"
   ]
  },
  {
   "cell_type": "code",
   "execution_count": null,
   "metadata": {},
   "outputs": [
    {
     "name": "stdout",
     "output_type": "stream",
     "text": [
      "Extracted '130-135.zip' into 'C:\\Users\\Public\\Dev\\Ph.D\\2nd Semester\\CS-675-IRS\\Assignments\\First\\100-250\\unzipped'\n",
      "Extracted '77-81 and 208 to 214.zip' into 'C:\\Users\\Public\\Dev\\Ph.D\\2nd Semester\\CS-675-IRS\\Assignments\\First\\100-250\\unzipped'\n",
      "Extracted 'IRS (100-107).zip' into 'C:\\Users\\Public\\Dev\\Ph.D\\2nd Semester\\CS-675-IRS\\Assignments\\First\\100-250\\unzipped'\n",
      "Extracted 'IRS (108-114) 2005.zip' into 'C:\\Users\\Public\\Dev\\Ph.D\\2nd Semester\\CS-675-IRS\\Assignments\\First\\100-250\\unzipped'\n",
      "Extracted 'IRS (115 to 121) meta orignal plain text.zip' into 'C:\\Users\\Public\\Dev\\Ph.D\\2nd Semester\\CS-675-IRS\\Assignments\\First\\100-250\\unzipped'\n",
      "Extracted 'IRS (123 - 129).zip' into 'C:\\Users\\Public\\Dev\\Ph.D\\2nd Semester\\CS-675-IRS\\Assignments\\First\\100-250\\unzipped'\n",
      "Extracted 'IRS (151-157).zip' into 'C:\\Users\\Public\\Dev\\Ph.D\\2nd Semester\\CS-675-IRS\\Assignments\\First\\100-250\\unzipped'\n",
      "Extracted 'IRS 188-192(2009).zip' into 'C:\\Users\\Public\\Dev\\Ph.D\\2nd Semester\\CS-675-IRS\\Assignments\\First\\100-250\\unzipped'\n",
      "Extracted 'IRS 214-221.zip' into 'C:\\Users\\Public\\Dev\\Ph.D\\2nd Semester\\CS-675-IRS\\Assignments\\First\\100-250\\unzipped'\n",
      "Extracted 'IRS(108-114).zip' into 'C:\\Users\\Public\\Dev\\Ph.D\\2nd Semester\\CS-675-IRS\\Assignments\\First\\100-250\\unzipped'\n",
      "Extracted 'IRS(115-121).zip' into 'C:\\Users\\Public\\Dev\\Ph.D\\2nd Semester\\CS-675-IRS\\Assignments\\First\\100-250\\unzipped'\n",
      "Extracted 'IRS(122-128).zip' into 'C:\\Users\\Public\\Dev\\Ph.D\\2nd Semester\\CS-675-IRS\\Assignments\\First\\100-250\\unzipped'\n",
      "Extracted 'IRS(136-142).zip' into 'C:\\Users\\Public\\Dev\\Ph.D\\2nd Semester\\CS-675-IRS\\Assignments\\First\\100-250\\unzipped'\n",
      "Extracted 'IRS(173-180).zip' into 'C:\\Users\\Public\\Dev\\Ph.D\\2nd Semester\\CS-675-IRS\\Assignments\\First\\100-250\\unzipped'\n",
      "Extracted 'IRS(193-200).zip' into 'C:\\Users\\Public\\Dev\\Ph.D\\2nd Semester\\CS-675-IRS\\Assignments\\First\\100-250\\unzipped'\n",
      "Extracted 'IRS(215-221).zip' into 'C:\\Users\\Public\\Dev\\Ph.D\\2nd Semester\\CS-675-IRS\\Assignments\\First\\100-250\\unzipped'\n",
      "Extracted 'IRS(222-228).zip' into 'C:\\Users\\Public\\Dev\\Ph.D\\2nd Semester\\CS-675-IRS\\Assignments\\First\\100-250\\unzipped'\n",
      "Extracted 'IRS(37-41).zip' into 'C:\\Users\\Public\\Dev\\Ph.D\\2nd Semester\\CS-675-IRS\\Assignments\\First\\100-250\\unzipped'\n"
     ]
    }
   ],
   "source": [
    "import os\n",
    "import zipfile\n",
    "\n",
    "# Define the path to the folder containing the zip files\n",
    "folder_path = \"path/to/your/folder\"  # Replace with your folder path\n",
    "\n",
    "# Define the path to the subfolder where the files will be extracted\n",
    "extract_folder = os.path.join(folder_path, \"unzipped\")\n",
    "\n",
    "# Create the subfolder if it doesn't exist\n",
    "os.makedirs(extract_folder, exist_ok=True)\n",
    "\n",
    "# Loop through all files in the folder\n",
    "for file_name in os.listdir(folder_path):\n",
    "    # Check if the file is a zip file\n",
    "    if file_name.endswith(\".zip\"):\n",
    "        zip_path = os.path.join(folder_path, file_name)\n",
    "        # Open the zip file\n",
    "        with zipfile.ZipFile(zip_path, 'r') as zip_ref:\n",
    "            # Extract all the contents into the subfolder\n",
    "            zip_ref.extractall(extract_folder)\n",
    "        print(f\"Extracted '{file_name}' into '{extract_folder}'\")\n"
   ]
  }
 ],
 "metadata": {
  "kernelspec": {
   "display_name": "Python 3",
   "language": "python",
   "name": "python3"
  },
  "language_info": {
   "codemirror_mode": {
    "name": "ipython",
    "version": 3
   },
   "file_extension": ".py",
   "mimetype": "text/x-python",
   "name": "python",
   "nbconvert_exporter": "python",
   "pygments_lexer": "ipython3",
   "version": "3.11.5"
  }
 },
 "nbformat": 4,
 "nbformat_minor": 2
}
