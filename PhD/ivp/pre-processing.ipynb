{
 "cells": [
  {
   "cell_type": "markdown",
   "metadata": {},
   "source": [
    "# Preprocessing"
   ]
  },
  {
   "cell_type": "code",
   "execution_count": 1,
   "metadata": {},
   "outputs": [
    {
     "name": "stdout",
     "output_type": "stream",
     "text": [
      "Dataset saved as Large_Network_Dataset.json\n"
     ]
    }
   ],
   "source": [
    "import json\n",
    "import random\n",
    "\n",
    "# Generate 200 nodes with random attributes\n",
    "nodes = [{\"id\": i, \n",
    "          \"name\": f\"Person_{i}\", \n",
    "          \"age\": random.randint(20, 60), \n",
    "          \"occupation\": random.choice([\"Engineer\", \"Designer\", \"Doctor\", \"Teacher\", \"Scientist\"])}\n",
    "         for i in range(1, 201)]\n",
    "\n",
    "# Generate edges\n",
    "edges = []\n",
    "for i in range(1, 201):\n",
    "    # Each node has a random number of connections (1 to 5) with other nodes\n",
    "    num_connections = random.randint(1, 5)\n",
    "    connections = random.sample(range(1, 201), num_connections)\n",
    "    \n",
    "    for conn in connections:\n",
    "        if conn != i:  # Avoid self-loops\n",
    "            edges.append({\n",
    "                \"source\": i,\n",
    "                \"target\": conn,\n",
    "                \"relationship\": random.choice([\"Friend\", \"Colleague\", \"Neighbor\"]),\n",
    "                \"weight\": random.randint(1, 3)\n",
    "            })\n",
    "\n",
    "# Create the final JSON structure\n",
    "network_data = {\n",
    "    \"nodes\": nodes,\n",
    "    \"edges\": edges\n",
    "}\n",
    "\n",
    "# Save to a JSON file\n",
    "json_file_path = 'Large_Network_Dataset.json'\n",
    "with open(json_file_path, 'w') as f:\n",
    "    json.dump(network_data, f, indent=4)\n",
    "\n",
    "print(f\"Dataset saved as {json_file_path}\")\n"
   ]
  },
  {
   "cell_type": "code",
   "execution_count": null,
   "metadata": {},
   "outputs": [
    {
     "name": "stdout",
     "output_type": "stream",
     "text": [
      "Dataset saved as Large_Network_Dataset_Named.json\n"
     ]
    }
   ],
   "source": [
    "import json\n",
    "import random\n",
    "\n",
    "# List of sample names to use\n",
    "sample_names = [\n",
    "    \"Alice\", \"Bob\", \"Charlie\", \"David\", \"Eve\", \"Frank\", \"Grace\", \"Hannah\", \"Isaac\", \"Jack\",\n",
    "    \"Katherine\", \"Liam\", \"Mia\", \"Nathan\", \"Olivia\", \"Paul\", \"Quinn\", \"Rachel\", \"Steve\", \"Tina\",\n",
    "    \"Uma\", \"Victor\", \"Wendy\", \"Xander\", \"Yara\", \"Zach\", \"Aaron\", \"Bella\", \"Carter\", \"Diana\",\n",
    "    \"Elena\", \"Fiona\", \"George\", \"Helen\", \"Ian\", \"Jenna\", \"Kyle\", \"Laura\", \"Mark\", \"Nina\",\n",
    "    \"Oscar\", \"Penny\", \"Quincy\", \"Rita\", \"Sam\", \"Tara\", \"Ulysses\", \"Vera\", \"Will\", \"Xena\",\n",
    "    \"Yvonne\", \"Zane\", \"Amber\", \"Blake\", \"Chloe\", \"Derek\", \"Ethan\", \"Faith\", \"Gabe\", \"Hope\",\n",
    "    \"Ivan\", \"Julia\", \"Ken\", \"Leah\", \"Mason\", \"Noah\", \"Owen\", \"Paula\", \"Roy\", \"Sophia\",\n",
    "    \"Tom\", \"Una\", \"Val\", \"Wade\", \"Ximena\", \"Yuri\", \"Zoey\"\n",
    "]\n",
    "\n",
    "# Extend names list to ensure there are 200 unique names\n",
    "extended_names = (sample_names * (200 // len(sample_names) + 1))[:200]\n",
    "\n",
    "# Generate 200 nodes with random attributes\n",
    "nodes = [{\"id\": i, \n",
    "          \"name\": extended_names[i-1], \n",
    "          \"age\": random.randint(20, 60), \n",
    "          \"occupation\": random.choice([\"Engineer\", \"Designer\", \"Doctor\", \"Teacher\", \"Scientist\"])}\n",
    "         for i in range(1, 201)]\n",
    "\n",
    "# Generate edges\n",
    "edges = []\n",
    "for i in range(1, 201):\n",
    "    # Each node has a random number of connections (1 to 5) with other nodes\n",
    "    num_connections = random.randint(1, 5)\n",
    "    connections = random.sample(range(1, 201), num_connections)\n",
    "    \n",
    "    for conn in connections:\n",
    "        if conn != i:  # Avoid self-loops\n",
    "            edges.append({\n",
    "                \"source\": i,\n",
    "                \"target\": conn,\n",
    "                \"relationship\": random.choice([\"Friend\", \"Colleague\", \"Neighbor\"]),\n",
    "                \"weight\": random.randint(1, 3)\n",
    "            })\n",
    "\n",
    "# Create the final JSON structure\n",
    "network_data = {\n",
    "    \"nodes\": nodes,\n",
    "    \"edges\": edges\n",
    "}\n",
    "\n",
    "# Save to a JSON file\n",
    "json_file_path = 'Large_Network_Dataset_Named.json'\n",
    "with open(json_file_path, 'w') as f:\n",
    "    json.dump(network_data, f, indent=4)\n",
    "\n",
    "print(f\"Dataset saved as {json_file_path}\")\n"
   ]
  },
  {
   "cell_type": "code",
   "execution_count": null,
   "metadata": {},
   "outputs": [],
   "source": []
  }
 ],
 "metadata": {
  "kernelspec": {
   "display_name": ".venv",
   "language": "python",
   "name": "python3"
  },
  "language_info": {
   "codemirror_mode": {
    "name": "ipython",
    "version": 3
   },
   "file_extension": ".py",
   "mimetype": "text/x-python",
   "name": "python",
   "nbconvert_exporter": "python",
   "pygments_lexer": "ipython3",
   "version": "3.11.5"
  }
 },
 "nbformat": 4,
 "nbformat_minor": 2
}
