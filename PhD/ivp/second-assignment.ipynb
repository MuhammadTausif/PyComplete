{
 "cells": [
  {
   "cell_type": "markdown",
   "metadata": {},
   "source": [
    "# Sceond Assignemtn"
   ]
  },
  {
   "cell_type": "markdown",
   "metadata": {},
   "source": [
    "### Steps:\n",
    "1. Install Required Libraries: Make sure you have networkx and lxml installed. You can install them using:\n",
    "    \n",
    "    ```pip install networkx lxml```"
   ]
  },
  {
   "cell_type": "code",
   "execution_count": null,
   "metadata": {},
   "outputs": [
    {
     "name": "stdout",
     "output_type": "stream",
     "text": [
      "Requirement already satisfied: networkx in c:\\users\\public\\dev\\practice\\pycomplete\\.venv\\lib\\site-packages (3.4.2)\n",
      "Collecting lxml\n",
      "  Downloading lxml-5.3.0-cp311-cp311-win_amd64.whl.metadata (3.9 kB)\n",
      "Downloading lxml-5.3.0-cp311-cp311-win_amd64.whl (3.8 MB)\n",
      "   ---------------------------------------- 0.0/3.8 MB ? eta -:--:--\n",
      "   ---------------------------------------- 0.0/3.8 MB ? eta -:--:--\n",
      "   ---------------------------------------- 0.0/3.8 MB ? eta -:--:--\n",
      "   ---------------------------------------- 0.0/3.8 MB ? eta -:--:--\n",
      "   ---------------------------------------- 0.0/3.8 MB ? eta -:--:--\n",
      "   ---------------------------------------- 0.0/3.8 MB ? eta -:--:--\n",
      "   ---------------------------------------- 0.0/3.8 MB 119.1 kB/s eta 0:00:32\n",
      "   ---------------------------------------- 0.0/3.8 MB 131.3 kB/s eta 0:00:29\n",
      "    --------------------------------------- 0.1/3.8 MB 182.2 kB/s eta 0:00:21\n",
      "   - -------------------------------------- 0.1/3.8 MB 285.2 kB/s eta 0:00:13\n",
      "   - -------------------------------------- 0.2/3.8 MB 367.6 kB/s eta 0:00:10\n",
      "   -- ------------------------------------- 0.2/3.8 MB 497.3 kB/s eta 0:00:08\n",
      "   --- ------------------------------------ 0.3/3.8 MB 571.2 kB/s eta 0:00:07\n",
      "   --- ------------------------------------ 0.4/3.8 MB 636.5 kB/s eta 0:00:06\n",
      "   ----- ---------------------------------- 0.6/3.8 MB 891.2 kB/s eta 0:00:04\n",
      "   ------- -------------------------------- 0.7/3.8 MB 1.1 MB/s eta 0:00:03\n",
      "   -------- ------------------------------- 0.8/3.8 MB 1.1 MB/s eta 0:00:03\n",
      "   ----------- ---------------------------- 1.1/3.8 MB 1.4 MB/s eta 0:00:02\n",
      "   --------------- ------------------------ 1.4/3.8 MB 1.8 MB/s eta 0:00:02\n",
      "   ---------------- ----------------------- 1.5/3.8 MB 1.9 MB/s eta 0:00:02\n",
      "   ----------------- ---------------------- 1.6/3.8 MB 1.8 MB/s eta 0:00:02\n",
      "   -------------------- ------------------- 2.0/3.8 MB 2.1 MB/s eta 0:00:01\n",
      "   --------------------- ------------------ 2.0/3.8 MB 2.0 MB/s eta 0:00:01\n",
      "   ----------------------- ---------------- 2.3/3.8 MB 2.2 MB/s eta 0:00:01\n",
      "   --------------------------- ------------ 2.6/3.8 MB 2.4 MB/s eta 0:00:01\n",
      "   ----------------------------- ---------- 2.9/3.8 MB 2.5 MB/s eta 0:00:01\n",
      "   --------------------------------- ------ 3.2/3.8 MB 2.7 MB/s eta 0:00:01\n",
      "   ------------------------------------ --- 3.5/3.8 MB 2.9 MB/s eta 0:00:01\n",
      "   ---------------------------------------  3.8/3.8 MB 3.0 MB/s eta 0:00:01\n",
      "   ---------------------------------------  3.8/3.8 MB 3.0 MB/s eta 0:00:01\n",
      "   ---------------------------------------- 3.8/3.8 MB 2.8 MB/s eta 0:00:00\n",
      "Installing collected packages: lxml\n",
      "Successfully installed lxml-5.3.0\n"
     ]
    },
    {
     "name": "stderr",
     "output_type": "stream",
     "text": [
      "\n",
      "[notice] A new release of pip is available: 24.0 -> 24.3.1\n",
      "[notice] To update, run: python.exe -m pip install --upgrade pip\n"
     ]
    }
   ],
   "source": [
    "!pip install networkx lxml\n"
   ]
  },
  {
   "cell_type": "markdown",
   "metadata": {},
   "source": [
    "#### Error in the file (cran_auther.gexf)\n",
    "\n",
    "Every attribute has a section **attvalues**, that is causing error, so writing a script to remove it."
   ]
  },
  {
   "cell_type": "code",
   "execution_count": 34,
   "metadata": {},
   "outputs": [
    {
     "name": "stdout",
     "output_type": "stream",
     "text": [
      "Removed all <attvalues> elements. Modified file saved as data3_no_attvalues.gexf\n"
     ]
    }
   ],
   "source": [
    "from xml.etree import ElementTree as ET\n",
    "\n",
    "# Load the GEXF file\n",
    "input_file = 'data3.gexf'  # Input file with attvalues\n",
    "output_file = 'data3_no_attvalues.gexf'  # Output file without attvalues\n",
    "\n",
    "# Remove the `ns0` prefix from the output\n",
    "ET.register_namespace('', \"http://www.gexf.net/1.0\")  # Register the namespace as the default\n",
    "\n",
    "# Parse the XML file\n",
    "tree = ET.parse(input_file)\n",
    "root = tree.getroot()\n",
    "\n",
    "# Define the namespace (based on the GEXF version)\n",
    "namespace = {'gexf': 'http://www.gexf.net/1.0'}\n",
    "\n",
    "# Find all <node> elements and remove <attvalues> child elements\n",
    "for node in root.findall(\".//gexf:node\", namespace):\n",
    "    attvalues = node.find(\"gexf:attvalues\", namespace)\n",
    "    if attvalues is not None:\n",
    "        node.remove(attvalues)\n",
    "\n",
    "# Save the modified XML to a new file\n",
    "tree.write(output_file, encoding=\"utf-8\", xml_declaration=True)\n",
    "\n",
    "print(f\"Removed all <attvalues> elements. Modified file saved as {output_file}\")"
   ]
  },
  {
   "cell_type": "code",
   "execution_count": null,
   "metadata": {},
   "outputs": [],
   "source": [
    "import xml.etree.ElementTree as ET\n",
    "import json\n",
    "\n",
    "# Load and parse the GEXF file\n",
    "gexf_file = 'data4.gexf'  # Replace with your GEXF file name\n",
    "tree = ET.parse(gexf_file)\n",
    "root = tree.getroot()\n",
    "\n",
    "# Define the namespace\n",
    "namespace = {'gexf': 'http://www.gexf.net/1.2draft'}\n",
    "\n",
    "# Convert GEXF to hierarchical JSON\n",
    "def convert_gexf_to_json(root, namespace):\n",
    "    nodes = {}\n",
    "    edges = []\n",
    "\n",
    "    # Extract nodes\n",
    "    for node in root.findall(\".//gexf:node\", namespace):\n",
    "        node_id = node.get(\"id\")\n",
    "        label = node.get(\"label\")\n",
    "        nodes[node_id] = {\n",
    "            \"id\": node_id,\n",
    "            \"name\": label,\n",
    "            \"data\": {},\n",
    "            \"children\": []\n",
    "        }\n",
    "\n",
    "    # Extract edges\n",
    "    for edge in root.findall(\".//gexf:edge\", namespace):\n",
    "        source = edge.get(\"source\")\n",
    "        target = edge.get(\"target\")\n",
    "        edges.append((source, target))\n",
    "\n",
    "    # Build hierarchical structure\n",
    "    for source, target in edges:\n",
    "        if source in nodes and target in nodes:\n",
    "            nodes[source][\"children\"].append(nodes[target])\n",
    "\n",
    "    # Find root (node without incoming edges)\n",
    "    child_ids = {target for _, target in edges}\n",
    "    root_ids = [node_id for node_id in nodes if node_id not in child_ids]\n",
    "    root_node = root_ids[0] if root_ids else None\n",
    "\n",
    "    # Return root node's hierarchical structure\n",
    "    return nodes[root_node] if root_node else {}\n",
    "\n",
    "# Convert the GEXF file into JSON format\n",
    "hierarchical_json = convert_gexf_to_json(root, namespace)\n",
    "\n",
    "# Save the JSON output to a file\n",
    "output_json = 'output.json'  # Name of the output file\n",
    "with open(output_json, 'w') as f:\n",
    "    json.dump(hierarchical_json, f, indent=4)\n",
    "\n",
    "print(f\"Hierarchical JSON saved to {output_json}\")"
   ]
  },
  {
   "cell_type": "code",
   "execution_count": null,
   "metadata": {},
   "outputs": [],
   "source": [
    "import xml.etree.ElementTree as ET\n",
    "import json\n",
    "\n",
    "# Load and parse the GEXF file\n",
    "gexf_file = 'data4.gexf'  # Replace with your GEXF file name\n",
    "tree = ET.parse(gexf_file)\n",
    "root = tree.getroot()\n",
    "\n",
    "# Define the namespace\n",
    "namespace = {'gexf': 'http://www.gexf.net/1.2draft'}\n",
    "\n",
    "def convert_gexf_to_json(root, namespace):\n",
    "    nodes = {}\n",
    "    edges = []\n",
    "\n",
    "    # Extract nodes\n",
    "    for node in root.findall(\".//gexf:node\", namespace):\n",
    "        node_id = node.get(\"id\")\n",
    "        label = node.get(\"label\")\n",
    "        nodes[node_id] = {\n",
    "            \"id\": node_id,\n",
    "            \"name\": label,\n",
    "            \"data\": {},\n",
    "            \"children\": []\n",
    "        }\n",
    "\n",
    "    # Extract edges\n",
    "    for edge in root.findall(\".//gexf:edge\", namespace):\n",
    "        source = edge.get(\"source\")\n",
    "        target = edge.get(\"target\")\n",
    "        edges.append((source, target))\n",
    "\n",
    "    # Function to recursively build hierarchy\n",
    "    def build_hierarchy(node_id, visited):\n",
    "        if node_id in visited:\n",
    "            return None  # Avoid circular references\n",
    "        visited.add(node_id)\n",
    "        node = nodes[node_id]\n",
    "        for _, target in filter(lambda edge: edge[0] == node_id, edges):\n",
    "            child = build_hierarchy(target, visited)\n",
    "            if child:\n",
    "                node[\"children\"].append(child)\n",
    "        visited.remove(node_id)  # Allow visiting other branches\n",
    "        return node\n",
    "\n",
    "    # Find root (node without incoming edges)\n",
    "    child_ids = {target for _, target in edges}\n",
    "    root_ids = [node_id for node_id in nodes if node_id not in child_ids]\n",
    "    root_node = root_ids[0] if root_ids else None\n",
    "\n",
    "    # Build hierarchical JSON\n",
    "    return build_hierarchy(root_node, set()) if root_node else {}\n",
    "\n",
    "# Convert and save\n",
    "hierarchical_json = convert_gexf_to_json(root, namespace)\n",
    "\n",
    "# Save to JSON file\n",
    "output_json = 'output.json'\n",
    "with open(output_json, 'w') as f:\n",
    "    json.dump(hierarchical_json, f, indent=4)\n"
   ]
  },
  {
   "cell_type": "code",
   "execution_count": 49,
   "metadata": {},
   "outputs": [
    {
     "name": "stdout",
     "output_type": "stream",
     "text": [
      "Collecting tqdm\n",
      "  Downloading tqdm-4.67.0-py3-none-any.whl.metadata (57 kB)\n",
      "     ---------------------------------------- 0.0/57.6 kB ? eta -:--:--\n",
      "     ------- -------------------------------- 10.2/57.6 kB ? eta -:--:--\n",
      "     ------- -------------------------------- 10.2/57.6 kB ? eta -:--:--\n",
      "     ------------- ------------------------- 20.5/57.6 kB 93.1 kB/s eta 0:00:01\n",
      "     ------------- ------------------------- 20.5/57.6 kB 93.1 kB/s eta 0:00:01\n",
      "     -------------------- ----------------- 30.7/57.6 kB 108.9 kB/s eta 0:00:01\n",
      "     --------------------------- ---------- 41.0/57.6 kB 122.9 kB/s eta 0:00:01\n",
      "     --------------------------------- ---- 51.2/57.6 kB 145.8 kB/s eta 0:00:01\n",
      "     -------------------------------------- 57.6/57.6 kB 151.4 kB/s eta 0:00:00\n",
      "Requirement already satisfied: colorama in c:\\users\\public\\dev\\practice\\pycomplete\\.venv\\lib\\site-packages (from tqdm) (0.4.6)\n",
      "Downloading tqdm-4.67.0-py3-none-any.whl (78 kB)\n",
      "   ---------------------------------------- 0.0/78.6 kB ? eta -:--:--\n",
      "   ----- ---------------------------------- 10.2/78.6 kB ? eta -:--:--\n",
      "   -------------------- ------------------- 41.0/78.6 kB 991.0 kB/s eta 0:00:01\n",
      "   ------------------------------------ --- 71.7/78.6 kB 653.6 kB/s eta 0:00:01\n",
      "   ---------------------------------------- 78.6/78.6 kB 627.1 kB/s eta 0:00:00\n",
      "Installing collected packages: tqdm\n",
      "Successfully installed tqdm-4.67.0\n"
     ]
    },
    {
     "name": "stderr",
     "output_type": "stream",
     "text": [
      "\n",
      "[notice] A new release of pip is available: 24.0 -> 24.3.1\n",
      "[notice] To update, run: python.exe -m pip install --upgrade pip\n"
     ]
    }
   ],
   "source": [
    "!pip install tqdm"
   ]
  },
  {
   "cell_type": "code",
   "execution_count": 50,
   "metadata": {},
   "outputs": [
    {
     "name": "stdout",
     "output_type": "stream",
     "text": [
      "Extracting nodes...\n"
     ]
    },
    {
     "name": "stderr",
     "output_type": "stream",
     "text": [
      "Nodes Processed: 100%|██████████| 840/840 [00:00<00:00, 83984.06it/s]\n"
     ]
    },
    {
     "name": "stdout",
     "output_type": "stream",
     "text": [
      "\n",
      "Extracting edges...\n"
     ]
    },
    {
     "name": "stderr",
     "output_type": "stream",
     "text": [
      "Edges Processed: 100%|██████████| 2248/2248 [00:00<00:00, 74904.83it/s]\n",
      "Building Hierarchy:   0%|          | 1/840 [00:00<00:03, 249.81it/s]"
     ]
    },
    {
     "name": "stdout",
     "output_type": "stream",
     "text": [
      "Hierarchical JSON saved to output.json\n"
     ]
    },
    {
     "name": "stderr",
     "output_type": "stream",
     "text": [
      "\n"
     ]
    }
   ],
   "source": [
    "import xml.etree.ElementTree as ET\n",
    "import json\n",
    "from tqdm import tqdm  # Import tqdm for the progress bar\n",
    "\n",
    "# Load and parse the GEXF file\n",
    "gexf_file = 'data4.gexf'  # Replace with your GEXF file name\n",
    "tree = ET.parse(gexf_file)\n",
    "root = tree.getroot()\n",
    "\n",
    "# Define the namespace\n",
    "namespace = {'gexf': 'http://www.gexf.net/1.2draft'}\n",
    "\n",
    "# Convert GEXF to hierarchical JSON\n",
    "def convert_gexf_to_json(root, namespace):\n",
    "    nodes = {}\n",
    "    edges = {}\n",
    "\n",
    "    # Extract nodes\n",
    "    node_elements = root.findall(\".//gexf:node\", namespace)\n",
    "    print(\"Extracting nodes...\")\n",
    "    for node in tqdm(node_elements, desc=\"Nodes Processed\"):\n",
    "        node_id = node.get(\"id\")\n",
    "        label = node.get(\"label\")\n",
    "        nodes[node_id] = {\n",
    "            \"id\": node_id,\n",
    "            \"name\": label,\n",
    "            \"data\": {},\n",
    "            \"children\": []\n",
    "        }\n",
    "\n",
    "    # Extract edges\n",
    "    edge_elements = root.findall(\".//gexf:edge\", namespace)\n",
    "    print(\"\\nExtracting edges...\")\n",
    "    for edge in tqdm(edge_elements, desc=\"Edges Processed\"):\n",
    "        source = edge.get(\"source\")\n",
    "        target = edge.get(\"target\")\n",
    "        if source not in edges:\n",
    "            edges[source] = []\n",
    "        edges[source].append(target)\n",
    "\n",
    "    # Build hierarchy iteratively (to avoid recursion limits and infinite loops)\n",
    "    def build_hierarchy(root_node_id):\n",
    "        stack = [(root_node_id, set())]  # Stack for DFS: (current_node, visited_set)\n",
    "        with tqdm(total=len(nodes), desc=\"Building Hierarchy\") as pbar:\n",
    "            while stack:\n",
    "                current_node_id, visited = stack.pop()\n",
    "\n",
    "                # Skip if already visited (break cycles)\n",
    "                if current_node_id in visited:\n",
    "                    continue\n",
    "\n",
    "                visited.add(current_node_id)\n",
    "                current_node = nodes[current_node_id]\n",
    "\n",
    "                # Add children\n",
    "                if current_node_id in edges:\n",
    "                    for child_id in edges[current_node_id]:\n",
    "                        if child_id not in visited:  # Avoid cycles\n",
    "                            stack.append((child_id, visited.copy()))\n",
    "                            current_node[\"children\"].append(nodes[child_id])\n",
    "                pbar.update(1)\n",
    "                yield current_node\n",
    "\n",
    "    # Find root (node without incoming edges)\n",
    "    incoming = {target for targets in edges.values() for target in targets}\n",
    "    root_ids = [node_id for node_id in nodes if node_id not in incoming]\n",
    "    root_node_id = root_ids[0] if root_ids else None\n",
    "\n",
    "    # Build and return hierarchy\n",
    "    return next(build_hierarchy(root_node_id)) if root_node_id else {}\n",
    "\n",
    "# Convert and save\n",
    "hierarchical_json = convert_gexf_to_json(root, namespace)\n",
    "\n",
    "# Save the JSON output to a file\n",
    "output_json = 'output.json'\n",
    "with open(output_json, 'w') as f:\n",
    "    json.dump(hierarchical_json, f, indent=4)\n",
    "\n",
    "print(f\"Hierarchical JSON saved to {output_json}\")"
   ]
  },
  {
   "cell_type": "code",
   "execution_count": 52,
   "metadata": {},
   "outputs": [
    {
     "name": "stdout",
     "output_type": "stream",
     "text": [
      "Extracting nodes...\n"
     ]
    },
    {
     "name": "stderr",
     "output_type": "stream",
     "text": [
      "Nodes Processed: 100%|██████████| 840/840 [00:00<00:00, 119788.36it/s]\n"
     ]
    },
    {
     "name": "stdout",
     "output_type": "stream",
     "text": [
      "\n",
      "Extracting edges...\n"
     ]
    },
    {
     "name": "stderr",
     "output_type": "stream",
     "text": [
      "Edges Processed: 100%|██████████| 2248/2248 [00:00<00:00, 72505.21it/s]\n",
      "Building Hierarchy:   7%|▋         | 56/840 [00:00<00:00, 18659.12it/s]\n"
     ]
    },
    {
     "name": "stdout",
     "output_type": "stream",
     "text": [
      "Hierarchical JSON saved to output.json\n"
     ]
    }
   ],
   "source": [
    "import xml.etree.ElementTree as ET\n",
    "import json\n",
    "from tqdm import tqdm  # Import tqdm for the progress bar\n",
    "\n",
    "# Load and parse the GEXF file\n",
    "gexf_file = 'example.gexf'  # Replace with your GEXF file name\n",
    "tree = ET.parse(gexf_file)\n",
    "root = tree.getroot()\n",
    "\n",
    "# Define the namespace\n",
    "namespace = {'gexf': 'http://www.gexf.net/1.2draft'}\n",
    "\n",
    "# Convert GEXF to hierarchical JSON\n",
    "def convert_gexf_to_json(root, namespace):\n",
    "    nodes = {}\n",
    "    edges = {}\n",
    "\n",
    "    # Extract nodes\n",
    "    node_elements = root.findall(\".//gexf:node\", namespace)\n",
    "    print(\"Extracting nodes...\")\n",
    "    for node in tqdm(node_elements, desc=\"Nodes Processed\"):\n",
    "        node_id = node.get(\"id\")\n",
    "        label = node.get(\"label\")\n",
    "        nodes[node_id] = {\n",
    "            \"id\": node_id,\n",
    "            \"name\": label,\n",
    "            \"data\": {},\n",
    "            \"children\": []\n",
    "        }\n",
    "\n",
    "    # Extract edges\n",
    "    edge_elements = root.findall(\".//gexf:edge\", namespace)\n",
    "    print(\"\\nExtracting edges...\")\n",
    "    for edge in tqdm(edge_elements, desc=\"Edges Processed\"):\n",
    "        source = edge.get(\"source\")\n",
    "        target = edge.get(\"target\")\n",
    "        if source not in edges:\n",
    "            edges[source] = []\n",
    "        edges[source].append(target)\n",
    "\n",
    "    # Build hierarchy iteratively with progress bar\n",
    "    def build_hierarchy(root_node_id):\n",
    "        stack = [(root_node_id, set())]  # Stack for DFS: (current_node, visited_set)\n",
    "        visited = set()\n",
    "        with tqdm(total=len(nodes), desc=\"Building Hierarchy\") as pbar:\n",
    "            while stack:\n",
    "                current_node_id, visited_set = stack.pop()\n",
    "\n",
    "                # Skip if already visited (break cycles)\n",
    "                if current_node_id in visited:\n",
    "                    continue\n",
    "\n",
    "                visited.add(current_node_id)\n",
    "                current_node = nodes[current_node_id]\n",
    "\n",
    "                # Add children\n",
    "                if current_node_id in edges:\n",
    "                    for child_id in edges[current_node_id]:\n",
    "                        if child_id not in visited:  # Avoid cycles\n",
    "                            stack.append((child_id, visited_set.copy()))\n",
    "                            current_node[\"children\"].append(nodes[child_id])\n",
    "                pbar.update(1)\n",
    "            return nodes[root_node_id]\n",
    "\n",
    "    # Find root (node without incoming edges)\n",
    "    incoming = {target for targets in edges.values() for target in targets}\n",
    "    root_ids = [node_id for node_id in nodes if node_id not in incoming]\n",
    "    root_node_id = root_ids[0] if root_ids else None\n",
    "\n",
    "    # Build and return hierarchy\n",
    "    return build_hierarchy(root_node_id) if root_node_id else {}\n",
    "\n",
    "# Convert and save\n",
    "hierarchical_json = convert_gexf_to_json(root, namespace)\n",
    "\n",
    "# Save the JSON output to a file\n",
    "output_json = 'output.json'\n",
    "with open(output_json, 'w') as f:\n",
    "    json.dump(hierarchical_json, f, indent=4)\n",
    "\n",
    "print(f\"Hierarchical JSON saved to {output_json}\")"
   ]
  },
  {
   "cell_type": "code",
   "execution_count": 44,
   "metadata": {},
   "outputs": [
    {
     "data": {
      "text/plain": [
       "<networkx.classes.multigraph.MultiGraph at 0x22e1fd36e50>"
      ]
     },
     "execution_count": 44,
     "metadata": {},
     "output_type": "execute_result"
    }
   ],
   "source": [
    "import networkx as nx\n",
    "import json\n",
    "\n",
    "# Load the GEXF file\n",
    "gexf_file = \"data4.gexf\"\n",
    "G = nx.read_gexf(gexf_file)\n",
    "G"
   ]
  },
  {
   "cell_type": "code",
   "execution_count": 45,
   "metadata": {},
   "outputs": [
    {
     "name": "stderr",
     "output_type": "stream",
     "text": [
      "c:\\Users\\Public\\Dev\\practice\\PyComplete\\.venv\\Lib\\site-packages\\networkx\\readwrite\\json_graph\\node_link.py:142: FutureWarning: \n",
      "The default value will be `edges=\"edges\" in NetworkX 3.6.\n",
      "\n",
      "To make this warning go away, explicitly set the edges kwarg, e.g.:\n",
      "\n",
      "  nx.node_link_data(G, edges=\"links\") to preserve current behavior, or\n",
      "  nx.node_link_data(G, edges=\"edges\") for forward compatibility.\n",
      "  warnings.warn(\n"
     ]
    },
    {
     "name": "stdout",
     "output_type": "stream",
     "text": [
      "GEXF file converted to cpan-authors.json\n"
     ]
    }
   ],
   "source": [
    "\n",
    "# Convert the graph to a dictionary\n",
    "data = nx.node_link_data(G)\n",
    "\n",
    "# Write the dictionary to a JSON file\n",
    "json_file = \"cpan-authors.json\"\n",
    "with open(json_file, \"w\") as f:\n",
    "    json.dump(data, f, indent=4)\n",
    "\n",
    "print(f\"GEXF file converted to {json_file}\")\n"
   ]
  },
  {
   "cell_type": "code",
   "execution_count": 53,
   "metadata": {},
   "outputs": [
    {
     "name": "stdout",
     "output_type": "stream",
     "text": [
      "Extracting nodes...\n"
     ]
    },
    {
     "name": "stderr",
     "output_type": "stream",
     "text": [
      "Nodes Processed: 100%|██████████| 840/840 [00:00<00:00, 64611.77it/s]\n"
     ]
    },
    {
     "name": "stdout",
     "output_type": "stream",
     "text": [
      "\n",
      "Extracting edges...\n"
     ]
    },
    {
     "name": "stderr",
     "output_type": "stream",
     "text": [
      "Edges Processed: 100%|██████████| 2248/2248 [00:00<00:00, 44955.11it/s]\n",
      "Building Hierarchy:   7%|▋         | 56/840 [00:00<00:00, 5600.67it/s] \n"
     ]
    },
    {
     "name": "stdout",
     "output_type": "stream",
     "text": [
      "Hierarchical JSON saved to output.json\n"
     ]
    }
   ],
   "source": [
    "import xml.etree.ElementTree as ET\n",
    "import json\n",
    "from tqdm import tqdm  # Import tqdm for the progress bar\n",
    "\n",
    "# Load and parse the GEXF file\n",
    "gexf_file = 'example.gexf'  # Replace with your GEXF file name\n",
    "tree = ET.parse(gexf_file)\n",
    "root = tree.getroot()\n",
    "\n",
    "# Define the namespace\n",
    "namespace = {'gexf': 'http://www.gexf.net/1.2draft'}\n",
    "\n",
    "# Convert GEXF to hierarchical JSON\n",
    "def convert_gexf_to_json(root, namespace):\n",
    "    nodes = {}\n",
    "    edges = {}\n",
    "\n",
    "    # Extract nodes\n",
    "    node_elements = root.findall(\".//gexf:node\", namespace)\n",
    "    print(\"Extracting nodes...\")\n",
    "    for node in tqdm(node_elements, desc=\"Nodes Processed\"):\n",
    "        node_id = node.get(\"id\")\n",
    "        label = node.get(\"label\")\n",
    "        nodes[node_id] = {\n",
    "            \"id\": node_id,\n",
    "            \"name\": label,\n",
    "            \"data\": {},\n",
    "            \"children\": []\n",
    "        }\n",
    "\n",
    "    # Extract edges\n",
    "    edge_elements = root.findall(\".//gexf:edge\", namespace)\n",
    "    print(\"\\nExtracting edges...\")\n",
    "    for edge in tqdm(edge_elements, desc=\"Edges Processed\"):\n",
    "        source = edge.get(\"source\")\n",
    "        target = edge.get(\"target\")\n",
    "        if source not in edges:\n",
    "            edges[source] = []\n",
    "        edges[source].append(target)\n",
    "\n",
    "    # Build hierarchy iteratively with progress bar\n",
    "    def build_hierarchy(root_node_id):\n",
    "        stack = [(root_node_id, set())]  # Stack for DFS: (current_node, visited_set)\n",
    "        visited = set()\n",
    "        processed_nodes = set()  # Track processed nodes for accurate progress\n",
    "\n",
    "        with tqdm(total=len(nodes), desc=\"Building Hierarchy\") as pbar:\n",
    "            while stack:\n",
    "                current_node_id, visited_set = stack.pop()\n",
    "\n",
    "                # Skip if already visited (break cycles)\n",
    "                if current_node_id in visited:\n",
    "                    continue\n",
    "\n",
    "                visited.add(current_node_id)\n",
    "                processed_nodes.add(current_node_id)  # Add to processed nodes\n",
    "                current_node = nodes[current_node_id]\n",
    "\n",
    "                # Add children\n",
    "                if current_node_id in edges:\n",
    "                    for child_id in edges[current_node_id]:\n",
    "                        if child_id not in visited:  # Avoid cycles\n",
    "                            stack.append((child_id, visited_set.copy()))\n",
    "                            current_node[\"children\"].append(nodes[child_id])\n",
    "                pbar.update(1)\n",
    "\n",
    "            # Account for skipped nodes to ensure 100% progress\n",
    "            pbar.n = len(processed_nodes)\n",
    "            pbar.refresh()\n",
    "\n",
    "        return nodes[root_node_id]\n",
    "\n",
    "    # Find root (node without incoming edges)\n",
    "    incoming = {target for targets in edges.values() for target in targets}\n",
    "    root_ids = [node_id for node_id in nodes if node_id not in incoming]\n",
    "    root_node_id = root_ids[0] if root_ids else None\n",
    "\n",
    "    # Build and return hierarchy\n",
    "    return build_hierarchy(root_node_id) if root_node_id else {}\n",
    "\n",
    "# Convert and save\n",
    "hierarchical_json = convert_gexf_to_json(root, namespace)\n",
    "\n",
    "# Save the JSON output to a file\n",
    "output_json = 'output.json'\n",
    "with open(output_json, 'w') as f:\n",
    "    json.dump(hierarchical_json, f, indent=4)\n",
    "\n",
    "print(f\"Hierarchical JSON saved to {output_json}\")\n"
   ]
  },
  {
   "cell_type": "code",
   "execution_count": 54,
   "metadata": {},
   "outputs": [
    {
     "name": "stdout",
     "output_type": "stream",
     "text": [
      "JSON file has been created successfully: laptop_price_dataset.json\n"
     ]
    }
   ],
   "source": [
    "import pandas as pd\n",
    "\n",
    "# Specify the input CSV file and output JSON file paths\n",
    "input_csv_file = 'laptop_price - dataset.csv'  # Replace with your CSV file name\n",
    "output_json_file = 'laptop_price_dataset.json'  # Desired output JSON file name\n",
    "\n",
    "# Read the CSV file into a DataFrame\n",
    "data = pd.read_csv(input_csv_file)\n",
    "\n",
    "# Convert the DataFrame to JSON and save it to a file\n",
    "data.to_json(output_json_file, orient='records', indent=4)\n",
    "\n",
    "print(f\"JSON file has been created successfully: {output_json_file}\")\n"
   ]
  }
 ],
 "metadata": {
  "kernelspec": {
   "display_name": ".venv",
   "language": "python",
   "name": "python3"
  },
  "language_info": {
   "codemirror_mode": {
    "name": "ipython",
    "version": 3
   },
   "file_extension": ".py",
   "mimetype": "text/x-python",
   "name": "python",
   "nbconvert_exporter": "python",
   "pygments_lexer": "ipython3",
   "version": "3.11.5"
  }
 },
 "nbformat": 4,
 "nbformat_minor": 2
}
