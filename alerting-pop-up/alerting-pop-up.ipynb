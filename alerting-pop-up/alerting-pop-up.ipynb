{
 "cells": [
  {
   "cell_type": "markdown",
   "metadata": {},
   "source": [
    "# Alerting pop up"
   ]
  },
  {
   "cell_type": "code",
   "execution_count": 2,
   "metadata": {},
   "outputs": [
    {
     "ename": "KeyboardInterrupt",
     "evalue": "",
     "output_type": "error",
     "traceback": [
      "\u001b[1;31m---------------------------------------------------------------------------\u001b[0m",
      "\u001b[1;31mKeyboardInterrupt\u001b[0m                         Traceback (most recent call last)",
      "Cell \u001b[1;32mIn [2], line 24\u001b[0m\n\u001b[0;32m     21\u001b[0m     window\u001b[38;5;241m.\u001b[39mmainloop()\n\u001b[0;32m     23\u001b[0m \u001b[38;5;66;03m# Call the function to create the popup\u001b[39;00m\n\u001b[1;32m---> 24\u001b[0m \u001b[43mcreate_popup\u001b[49m\u001b[43m(\u001b[49m\u001b[43m)\u001b[49m\n\u001b[0;32m     26\u001b[0m \u001b[38;5;66;03m# Print a success message\u001b[39;00m\n\u001b[0;32m     27\u001b[0m \u001b[38;5;28mprint\u001b[39m(\u001b[38;5;124mf\u001b[39m\u001b[38;5;124m\"\u001b[39m\u001b[38;5;124mA popup window will appear after \u001b[39m\u001b[38;5;132;01m{\u001b[39;00mdelay\u001b[38;5;132;01m}\u001b[39;00m\u001b[38;5;124m seconds.\u001b[39m\u001b[38;5;124m\"\u001b[39m)\n",
      "Cell \u001b[1;32mIn [2], line 21\u001b[0m, in \u001b[0;36mcreate_popup\u001b[1;34m()\u001b[0m\n\u001b[0;32m     18\u001b[0m message\u001b[38;5;241m.\u001b[39mpack()\n\u001b[0;32m     20\u001b[0m \u001b[38;5;66;03m# Start the Tkinter event loop\u001b[39;00m\n\u001b[1;32m---> 21\u001b[0m \u001b[43mwindow\u001b[49m\u001b[38;5;241;43m.\u001b[39;49m\u001b[43mmainloop\u001b[49m\u001b[43m(\u001b[49m\u001b[43m)\u001b[49m\n",
      "File \u001b[1;32mc:\\Python311\\Lib\\tkinter\\__init__.py:1485\u001b[0m, in \u001b[0;36mMisc.mainloop\u001b[1;34m(self, n)\u001b[0m\n\u001b[0;32m   1483\u001b[0m \u001b[38;5;28;01mdef\u001b[39;00m \u001b[38;5;21mmainloop\u001b[39m(\u001b[38;5;28mself\u001b[39m, n\u001b[38;5;241m=\u001b[39m\u001b[38;5;241m0\u001b[39m):\n\u001b[0;32m   1484\u001b[0m \u001b[38;5;250m    \u001b[39m\u001b[38;5;124;03m\"\"\"Call the mainloop of Tk.\"\"\"\u001b[39;00m\n\u001b[1;32m-> 1485\u001b[0m     \u001b[38;5;28;43mself\u001b[39;49m\u001b[38;5;241;43m.\u001b[39;49m\u001b[43mtk\u001b[49m\u001b[38;5;241;43m.\u001b[39;49m\u001b[43mmainloop\u001b[49m\u001b[43m(\u001b[49m\u001b[43mn\u001b[49m\u001b[43m)\u001b[49m\n",
      "\u001b[1;31mKeyboardInterrupt\u001b[0m: "
     ]
    }
   ],
   "source": [
    "import tkinter as tk\n",
    "import time\n",
    "\n",
    "# Define the time delay in seconds\n",
    "delay = 10\n",
    "\n",
    "# Wait for the specified time\n",
    "time.sleep(delay)\n",
    "\n",
    "# Create a simple popup window\n",
    "def create_popup():\n",
    "    # Create a new Tkinter window\n",
    "    window = tk.Tk()\n",
    "    window.title(\"Popup Window\")\n",
    "\n",
    "    # Create a label with a message\n",
    "    message = tk.Label(window, text=\"This is a popup window!\")\n",
    "    message.pack()\n",
    "\n",
    "    # Start the Tkinter event loop\n",
    "    window.mainloop()\n",
    "\n",
    "# Call the function to create the popup\n",
    "create_popup()\n",
    "\n",
    "# Print a success message\n",
    "print(f\"A popup window will appear after {delay} seconds.\")\n"
   ]
  },
  {
   "cell_type": "code",
   "execution_count": 1,
   "metadata": {},
   "outputs": [
    {
     "name": "stdout",
     "output_type": "stream",
     "text": [
      "A popup window will appear after 5 seconds and stay on top of all other windows.\n"
     ]
    }
   ],
   "source": [
    "import tkinter as tk\n",
    "from threading import Timer\n",
    "\n",
    "# Define the time delay in seconds\n",
    "delay = 5\n",
    "\n",
    "# Function to create a popup window\n",
    "def create_popup():\n",
    "    # Create a new Tkinter window\n",
    "    window = tk.Tk()\n",
    "    window.title(\"Popup Window\")\n",
    "\n",
    "    # Set the window to stay on top of all other windows\n",
    "    window.attributes('-topmost', True)\n",
    "\n",
    "    # Create a label with a message\n",
    "    message = tk.Label(window, text=\"This is a popup window!\")\n",
    "    message.pack()\n",
    "\n",
    "    # Start the Tkinter event loop\n",
    "    window.mainloop()\n",
    "\n",
    "# Create a timer that calls the create_popup function after the delay\n",
    "t = Timer(delay, create_popup)\n",
    "t.start()\n",
    "\n",
    "# Print a success message\n",
    "print(f\"A popup window will appear after {delay} seconds and stay on top of all other windows.\")\n"
   ]
  },
  {
   "cell_type": "code",
   "execution_count": 4,
   "metadata": {},
   "outputs": [
    {
     "name": "stdout",
     "output_type": "stream",
     "text": [
      "A fullscreen popup window will appear after 60 seconds and reappear after being closed.\n"
     ]
    },
    {
     "ename": "",
     "evalue": "",
     "output_type": "error",
     "traceback": [
      "\u001b[1;31mThe Kernel crashed while executing code in the current cell or a previous cell. \n",
      "\u001b[1;31mPlease review the code in the cell(s) to identify a possible cause of the failure. \n",
      "\u001b[1;31mClick <a href='https://aka.ms/vscodeJupyterKernelCrash'>here</a> for more info. \n",
      "\u001b[1;31mView Jupyter <a href='command:jupyter.viewOutput'>log</a> for further details."
     ]
    }
   ],
   "source": [
    "import tkinter as tk\n",
    "from threading import Timer\n",
    "\n",
    "# Define the time delay in seconds\n",
    "delay = 60\n",
    "\n",
    "# Function to create a popup window\n",
    "def create_popup():\n",
    "    # Create a new Tkinter window\n",
    "    window = tk.Tk()\n",
    "    window.title(\"Popup Window\")\n",
    "\n",
    "    # Set the window to stay on top of all other windows\n",
    "    window.attributes('-topmost', True)\n",
    "\n",
    "    # Set the window to cover the whole screen\n",
    "    window.attributes('-fullscreen', True)\n",
    "\n",
    "    # Function to close the window and restart the timer\n",
    "    def on_close():\n",
    "        window.destroy()\n",
    "        start_timer()\n",
    "\n",
    "    # Bind the close event to the on_close function\n",
    "    window.protocol(\"WM_DELETE_WINDOW\", on_close)\n",
    "\n",
    "    # Create a label with a message\n",
    "    message = tk.Label(window, text=\"This is a popup window!\", font=(\"Helvetica\", 24))\n",
    "    message.pack(expand=True)\n",
    "\n",
    "    # Start the Tkinter event loop\n",
    "    window.mainloop()\n",
    "\n",
    "# Function to start the timer\n",
    "def start_timer():\n",
    "    t = Timer(delay, create_popup)\n",
    "    t.start()\n",
    "\n",
    "# Start the timer for the first time\n",
    "start_timer()\n",
    "\n",
    "# Print a success message\n",
    "print(f\"A fullscreen popup window will appear after {delay} seconds and reappear after being closed.\")"
   ]
  },
  {
   "cell_type": "code",
   "execution_count": null,
   "metadata": {},
   "outputs": [],
   "source": []
  }
 ],
 "metadata": {
  "kernelspec": {
   "display_name": "Python 3",
   "language": "python",
   "name": "python3"
  },
  "language_info": {
   "codemirror_mode": {
    "name": "ipython",
    "version": 3
   },
   "file_extension": ".py",
   "mimetype": "text/x-python",
   "name": "python",
   "nbconvert_exporter": "python",
   "pygments_lexer": "ipython3",
   "version": "3.11.5"
  }
 },
 "nbformat": 4,
 "nbformat_minor": 2
}
