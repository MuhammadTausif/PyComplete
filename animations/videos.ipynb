{
 "cells": [
  {
   "cell_type": "code",
   "execution_count": 1,
   "metadata": {},
   "outputs": [],
   "source": [
    "from manim import *"
   ]
  },
  {
   "cell_type": "code",
   "execution_count": 2,
   "metadata": {},
   "outputs": [
    {
     "data": {
      "text/html": [
       "<pre style=\"white-space:pre;overflow-x:auto;line-height:normal;font-family:Menlo,'DejaVu Sans Mono',consolas,'Courier New',monospace\">Manim Community <span style=\"color: #008000; text-decoration-color: #008000\">v0.18.1</span>\n",
       "\n",
       "</pre>\n"
      ],
      "text/plain": [
       "Manim Community \u001b[32mv0.\u001b[0m\u001b[32m18.1\u001b[0m\n",
       "\n"
      ]
     },
     "metadata": {},
     "output_type": "display_data"
    },
    {
     "name": "stderr",
     "output_type": "stream",
     "text": [
      "                                                                     \r"
     ]
    },
    {
     "data": {
      "text/html": [
       "<video src=\"media\\jupyter\\SquareToCircle@2025-03-18@22-02-41.mp4\" controls autoplay loop style=\"max-width: 60%;\"  >\n",
       "      Your browser does not support the <code>video</code> element.\n",
       "    </video>"
      ],
      "text/plain": [
       "<IPython.core.display.Video object>"
      ]
     },
     "metadata": {},
     "output_type": "display_data"
    }
   ],
   "source": [
    "%%manim -ql -v Warning SquareToCircle\n",
    "\n",
    "class SquareToCircle(Scene):\n",
    "   def construct(self):\n",
    "      square = Square()\n",
    "      circle = Circle()\n",
    "      circle.set_fill(PINK, opacity=0.5)\n",
    "      self.play(Create(square))\n",
    "      self.play(Transform(square, circle))\n",
    "      self.wait()"
   ]
  },
  {
   "cell_type": "code",
   "execution_count": 3,
   "metadata": {},
   "outputs": [],
   "source": [
    "from manim import *"
   ]
  },
  {
   "cell_type": "code",
   "execution_count": 5,
   "metadata": {},
   "outputs": [
    {
     "data": {
      "text/html": [
       "<pre style=\"white-space:pre;overflow-x:auto;line-height:normal;font-family:Menlo,'DejaVu Sans Mono',consolas,'Courier New',monospace\">Manim Community <span style=\"color: #008000; text-decoration-color: #008000\">v0.18.1</span>\n",
       "\n",
       "</pre>\n"
      ],
      "text/plain": [
       "Manim Community \u001b[32mv0.\u001b[0m\u001b[32m18.1\u001b[0m\n",
       "\n"
      ]
     },
     "metadata": {},
     "output_type": "display_data"
    },
    {
     "name": "stderr",
     "output_type": "stream",
     "text": [
      "                                                                                                       \r"
     ]
    },
    {
     "data": {
      "text/html": [
       "<video src=\"media\\jupyter\\HorizontalToVertical@2025-03-22@04-52-28.mp4\" controls autoplay loop style=\"max-width: 60%;\"  >\n",
       "      Your browser does not support the <code>video</code> element.\n",
       "    </video>"
      ],
      "text/plain": [
       "<IPython.core.display.Video object>"
      ]
     },
     "metadata": {},
     "output_type": "display_data"
    }
   ],
   "source": [
    "%%manim -ql -v Warning HorizontalToVertical\n",
    "\n",
    "class HorizontalToVertical(Scene):\n",
    "    def construct(self):\n",
    "        # Step 1: Create 5 squares\n",
    "        boxes = VGroup(*[Square(side_length=1).set_color(BLUE) for _ in range(5)])\n",
    "\n",
    "        # Step 2: Arrange them horizontally\n",
    "        boxes.arrange(RIGHT, buff=0.5)\n",
    "        self.play(FadeIn(boxes))\n",
    "\n",
    "        self.wait(1)\n",
    "\n",
    "        # Step 3: Animate them to vertical layout\n",
    "        self.play(boxes.animate.arrange(DOWN, buff=0.5).move_to(ORIGIN))\n",
    "\n",
    "        self.wait(1)\n",
    "\n"
   ]
  },
  {
   "cell_type": "code",
   "execution_count": 8,
   "metadata": {},
   "outputs": [
    {
     "data": {
      "text/html": [
       "<pre style=\"white-space:pre;overflow-x:auto;line-height:normal;font-family:Menlo,'DejaVu Sans Mono',consolas,'Courier New',monospace\">Manim Community <span style=\"color: #008000; text-decoration-color: #008000\">v0.18.1</span>\n",
       "\n",
       "</pre>\n"
      ],
      "text/plain": [
       "Manim Community \u001b[32mv0.\u001b[0m\u001b[32m18.1\u001b[0m\n",
       "\n"
      ]
     },
     "metadata": {},
     "output_type": "display_data"
    },
    {
     "name": "stderr",
     "output_type": "stream",
     "text": [
      "                                                                                             \r"
     ]
    },
    {
     "data": {
      "text/html": [
       "<video src=\"media\\jupyter\\HorizontalToVerticalResized@2025-03-22@04-55-05.mp4\" controls autoplay loop style=\"max-width: 60%;\"  >\n",
       "      Your browser does not support the <code>video</code> element.\n",
       "    </video>"
      ],
      "text/plain": [
       "<IPython.core.display.Video object>"
      ]
     },
     "metadata": {},
     "output_type": "display_data"
    }
   ],
   "source": [
    "%%manim -ql -v Warning HorizontalToVerticalResized\n",
    "\n",
    "class HorizontalToVerticalResized(Scene):\n",
    "    def construct(self):\n",
    "        # Total height of the screen (frame_height = 8 by default in Manim)\n",
    "        total_height = config.frame_height\n",
    "\n",
    "        # Number of boxes\n",
    "        num_boxes = 5\n",
    "\n",
    "        # Calculate side length so that all boxes fit vertically with small buffer\n",
    "        box_height = (total_height - 0.5 * (num_boxes - 1)) / num_boxes  # 0.5 buff between boxes\n",
    "        box_size = box_height  # Since it's a square\n",
    "\n",
    "        # Step 1: Create boxes\n",
    "        boxes = VGroup(*[Square(side_length=box_size).set_color(BLUE) for _ in range(num_boxes)])\n",
    "\n",
    "        # Step 2: Arrange horizontally\n",
    "        boxes.arrange(RIGHT, buff=0.5)\n",
    "        self.play(FadeIn(boxes))\n",
    "        self.wait(1)\n",
    "\n",
    "        # Step 3: Animate into vertical arrangement, centered on screen\n",
    "        self.play(boxes.animate.arrange(DOWN, buff=0.5).move_to(ORIGIN))\n",
    "        self.wait(1)\n"
   ]
  },
  {
   "cell_type": "code",
   "execution_count": 10,
   "metadata": {},
   "outputs": [
    {
     "data": {
      "text/html": [
       "<pre style=\"white-space:pre;overflow-x:auto;line-height:normal;font-family:Menlo,'DejaVu Sans Mono',consolas,'Courier New',monospace\">Manim Community <span style=\"color: #008000; text-decoration-color: #008000\">v0.18.1</span>\n",
       "\n",
       "</pre>\n"
      ],
      "text/plain": [
       "Manim Community \u001b[32mv0.\u001b[0m\u001b[32m18.1\u001b[0m\n",
       "\n"
      ]
     },
     "metadata": {},
     "output_type": "display_data"
    },
    {
     "name": "stderr",
     "output_type": "stream",
     "text": [
      "                                                                                             \r"
     ]
    },
    {
     "data": {
      "text/html": [
       "<video src=\"media\\jupyter\\VerticalBoxes@2025-03-22@04-57-05.mp4\" controls autoplay loop style=\"max-width: 60%;\"  >\n",
       "      Your browser does not support the <code>video</code> element.\n",
       "    </video>"
      ],
      "text/plain": [
       "<IPython.core.display.Video object>"
      ]
     },
     "metadata": {},
     "output_type": "display_data"
    }
   ],
   "source": [
    "%%manim -ql -v Warning VerticalBoxes\n",
    "\n",
    "class VerticalBoxes(Scene):\n",
    "    def construct(self):\n",
    "        # Create 5 equally sized squares\n",
    "        boxes = VGroup(*[Square(side_length=1).set_color(BLUE) for _ in range(10)])\n",
    "        \n",
    "        # Arrange them vertically with spacing\n",
    "        boxes.arrange(DOWN, buff=0.5)\n",
    "        \n",
    "        # Move them to the center of the screen\n",
    "        boxes.move_to(ORIGIN)\n",
    "        \n",
    "        # Show boxes\n",
    "        self.play(FadeIn(boxes))\n",
    "        self.wait()\n"
   ]
  },
  {
   "cell_type": "code",
   "execution_count": 11,
   "metadata": {},
   "outputs": [
    {
     "data": {
      "text/html": [
       "<pre style=\"white-space:pre;overflow-x:auto;line-height:normal;font-family:Menlo,'DejaVu Sans Mono',consolas,'Courier New',monospace\">Manim Community <span style=\"color: #008000; text-decoration-color: #008000\">v0.18.1</span>\n",
       "\n",
       "</pre>\n"
      ],
      "text/plain": [
       "Manim Community \u001b[32mv0.\u001b[0m\u001b[32m18.1\u001b[0m\n",
       "\n"
      ]
     },
     "metadata": {},
     "output_type": "display_data"
    },
    {
     "name": "stderr",
     "output_type": "stream",
     "text": [
      "                                                                                            \r"
     ]
    },
    {
     "data": {
      "text/html": [
       "<video src=\"media\\jupyter\\MoveBoxesOneByOne@2025-03-22@04-59-12.mp4\" controls autoplay loop style=\"max-width: 60%;\"  >\n",
       "      Your browser does not support the <code>video</code> element.\n",
       "    </video>"
      ],
      "text/plain": [
       "<IPython.core.display.Video object>"
      ]
     },
     "metadata": {},
     "output_type": "display_data"
    }
   ],
   "source": [
    "%%manim -ql -v Warning MoveBoxesOneByOne\n",
    "\n",
    "class MoveBoxesOneByOne(Scene):\n",
    "    def construct(self):\n",
    "        # Create 6 boxes (Squares)\n",
    "        boxes = VGroup(*[Square(side_length=1).set_stroke(BLUE, 2) for _ in range(6)])\n",
    "        \n",
    "        # Arrange them horizontally with some spacing\n",
    "        boxes.arrange(RIGHT, buff=1)\n",
    "        \n",
    "        # Fade in the boxes\n",
    "        self.play(FadeIn(boxes))\n",
    "        self.wait()\n",
    "\n",
    "        # Move each box up one by one with a small delay\n",
    "        for box in boxes:\n",
    "            self.play(box.animate.shift(UP * 2))\n",
    "            self.wait(0.1)  # Wait 0.1 second before moving the next box\n",
    "\n",
    "        self.wait()\n"
   ]
  },
  {
   "cell_type": "code",
   "execution_count": 12,
   "metadata": {},
   "outputs": [
    {
     "data": {
      "text/html": [
       "<pre style=\"white-space:pre;overflow-x:auto;line-height:normal;font-family:Menlo,'DejaVu Sans Mono',consolas,'Courier New',monospace\">Manim Community <span style=\"color: #008000; text-decoration-color: #008000\">v0.18.1</span>\n",
       "\n",
       "</pre>\n"
      ],
      "text/plain": [
       "Manim Community \u001b[32mv0.\u001b[0m\u001b[32m18.1\u001b[0m\n",
       "\n"
      ]
     },
     "metadata": {},
     "output_type": "display_data"
    },
    {
     "name": "stderr",
     "output_type": "stream",
     "text": [
      "                                                                                            \r"
     ]
    },
    {
     "data": {
      "text/html": [
       "<video src=\"media\\jupyter\\MoveBoxesToVerticalOneByOne@2025-03-22@05-01-00.mp4\" controls autoplay loop style=\"max-width: 60%;\"  >\n",
       "      Your browser does not support the <code>video</code> element.\n",
       "    </video>"
      ],
      "text/plain": [
       "<IPython.core.display.Video object>"
      ]
     },
     "metadata": {},
     "output_type": "display_data"
    }
   ],
   "source": [
    "%%manim -ql -v Warning MoveBoxesToVerticalOneByOne\n",
    "\n",
    "class MoveBoxesToVerticalOneByOne(Scene):\n",
    "    def construct(self):\n",
    "        # 1) Create 5 boxes and arrange them horizontally\n",
    "        boxes = VGroup(*[Square(side_length=1).set_stroke(BLUE, 2) for _ in range(5)])\n",
    "        boxes.arrange(RIGHT, buff=1)\n",
    "        \n",
    "        self.play(FadeIn(boxes))\n",
    "        self.wait()\n",
    "\n",
    "        # 2) Determine final positions if arranged vertically\n",
    "        #    (We'll create a temporary copy, arrange it vertically, and read off positions)\n",
    "        temp_boxes = boxes.copy().arrange(DOWN, buff=1)\n",
    "        final_positions = [box.get_center() for box in temp_boxes]\n",
    "\n",
    "        # 3) Move each box to its final vertical position one by one\n",
    "        for i, box in enumerate(boxes):\n",
    "            self.play(box.animate.move_to(final_positions[i]))\n",
    "            self.wait(0.1)  # Wait 0.1s before moving the next box\n",
    "\n",
    "        self.wait()\n"
   ]
  },
  {
   "cell_type": "code",
   "execution_count": 13,
   "metadata": {},
   "outputs": [
    {
     "data": {
      "text/html": [
       "<pre style=\"white-space:pre;overflow-x:auto;line-height:normal;font-family:Menlo,'DejaVu Sans Mono',consolas,'Courier New',monospace\">Manim Community <span style=\"color: #008000; text-decoration-color: #008000\">v0.18.1</span>\n",
       "\n",
       "</pre>\n"
      ],
      "text/plain": [
       "Manim Community \u001b[32mv0.\u001b[0m\u001b[32m18.1\u001b[0m\n",
       "\n"
      ]
     },
     "metadata": {},
     "output_type": "display_data"
    },
    {
     "name": "stderr",
     "output_type": "stream",
     "text": [
      "                                                                                             \r"
     ]
    },
    {
     "data": {
      "text/html": [
       "<video src=\"media\\jupyter\\MoveBoxesToTopLeftVertical@2025-03-22@05-02-43.mp4\" controls autoplay loop style=\"max-width: 60%;\"  >\n",
       "      Your browser does not support the <code>video</code> element.\n",
       "    </video>"
      ],
      "text/plain": [
       "<IPython.core.display.Video object>"
      ]
     },
     "metadata": {},
     "output_type": "display_data"
    }
   ],
   "source": [
    "%%manim -ql -v Warning MoveBoxesToTopLeftVertical\n",
    "\n",
    "import numpy as np\n",
    "\n",
    "class MoveBoxesToTopLeftVertical(Scene):\n",
    "    def construct(self):\n",
    "        # Create 5 boxes (Squares) with side length 1\n",
    "        boxes = VGroup(*[Square(side_length=1).set_stroke(BLUE, 2) for _ in range(5)])\n",
    "        # Arrange them horizontally initially\n",
    "        boxes.arrange(RIGHT, buff=1)\n",
    "        self.play(FadeIn(boxes))\n",
    "        self.wait(1)\n",
    "\n",
    "        # Define margin from the frame edges\n",
    "        margin = 0.5\n",
    "        # Calculate the top-left coordinates (based on Manim's coordinate system)\n",
    "        top_left_x = -config.frame_width / 2 + margin\n",
    "        top_left_y =  config.frame_height / 2 - margin\n",
    "\n",
    "        # For a square of side 1, its center is offset by 0.5 from the edge.\n",
    "        first_box_center = np.array([top_left_x + 0.5, top_left_y - 0.5, 0])\n",
    "        # Define vertical buffer between boxes\n",
    "        buff = 0.5\n",
    "        \n",
    "        # Compute final center positions for each box in a vertical column.\n",
    "        final_positions = [\n",
    "            first_box_center - np.array([0, i * (1 + buff), 0])\n",
    "            for i in range(len(boxes))\n",
    "        ]\n",
    "\n",
    "        # Animate moving each box one by one to its final position\n",
    "        for i, box in enumerate(boxes):\n",
    "            self.play(box.animate.move_to(final_positions[i]))\n",
    "            self.wait(0.1)  # Wait 0.1 second before moving the next box\n",
    "\n",
    "        self.wait(1)\n"
   ]
  },
  {
   "cell_type": "code",
   "execution_count": 14,
   "metadata": {},
   "outputs": [
    {
     "data": {
      "text/html": [
       "<pre style=\"white-space:pre;overflow-x:auto;line-height:normal;font-family:Menlo,'DejaVu Sans Mono',consolas,'Courier New',monospace\">Manim Community <span style=\"color: #008000; text-decoration-color: #008000\">v0.18.1</span>\n",
       "\n",
       "</pre>\n"
      ],
      "text/plain": [
       "Manim Community \u001b[32mv0.\u001b[0m\u001b[32m18.1\u001b[0m\n",
       "\n"
      ]
     },
     "metadata": {},
     "output_type": "display_data"
    },
    {
     "name": "stderr",
     "output_type": "stream",
     "text": [
      "                                                                                             \r"
     ]
    },
    {
     "data": {
      "text/html": [
       "<video src=\"media\\jupyter\\MoveBoxesWithLetters@2025-03-22@05-17-48.mp4\" controls autoplay loop style=\"max-width: 60%;\"  >\n",
       "      Your browser does not support the <code>video</code> element.\n",
       "    </video>"
      ],
      "text/plain": [
       "<IPython.core.display.Video object>"
      ]
     },
     "metadata": {},
     "output_type": "display_data"
    }
   ],
   "source": [
    "%%manim -ql -v Warning MoveBoxesWithLetters\n",
    "\n",
    "import numpy as np\n",
    "\n",
    "class MoveBoxesWithLetters(Scene):\n",
    "    def construct(self):\n",
    "        # Create 5 boxes (Squares) with side length 1\n",
    "        boxes = VGroup(*[Square(side_length=1).set_stroke(BLUE, 2) for _ in range(5)])\n",
    "        # Arrange them horizontally initially\n",
    "        boxes.arrange(RIGHT, buff=1)\n",
    "        self.play(FadeIn(boxes))\n",
    "        self.wait(1)\n",
    "        \n",
    "        # Define margin from the frame edges\n",
    "        margin = 0.5\n",
    "        # Calculate the top-left coordinates (Manim's coordinate system)\n",
    "        top_left_x = -config.frame_width / 2 + margin\n",
    "        top_left_y = config.frame_height / 2 - margin\n",
    "        # For a square of side 1, its center is offset by 0.5 from the edge.\n",
    "        first_box_center = np.array([top_left_x + 0.5, top_left_y - 0.5, 0])\n",
    "        # Define vertical buffer between boxes\n",
    "        buff = 0.5\n",
    "        # Compute final center positions for each box in a vertical column.\n",
    "        final_positions = [\n",
    "            first_box_center - np.array([0, i * (1 + buff), 0])\n",
    "            for i in range(len(boxes))\n",
    "        ]\n",
    "        \n",
    "        # Positive letters to display (forming the word \"SMILE\")\n",
    "        letters = [\"S\", \"M\", \"I\", \"L\", \"E\"]\n",
    "        \n",
    "        # Animate each box moving to its final position one by one,\n",
    "        # and then display its corresponding letter to its left.\n",
    "        for i, box in enumerate(boxes):\n",
    "            self.play(box.animate.move_to(final_positions[i]))\n",
    "            self.wait(0.1)\n",
    "            # Create the text letter\n",
    "            letter_text = Text(letters[i], font_size=48)\n",
    "            # Position the text to the left of the box\n",
    "            letter_text.next_to(box, LEFT, buff=0.2)\n",
    "            # Animate the text appearing (e.g., fade in)\n",
    "            self.play(FadeIn(letter_text))\n",
    "            self.wait(0.1)\n",
    "            \n",
    "        self.wait(1)\n"
   ]
  },
  {
   "cell_type": "code",
   "execution_count": 15,
   "metadata": {},
   "outputs": [
    {
     "data": {
      "text/html": [
       "<pre style=\"white-space:pre;overflow-x:auto;line-height:normal;font-family:Menlo,'DejaVu Sans Mono',consolas,'Courier New',monospace\">Manim Community <span style=\"color: #008000; text-decoration-color: #008000\">v0.18.1</span>\n",
       "\n",
       "</pre>\n"
      ],
      "text/plain": [
       "Manim Community \u001b[32mv0.\u001b[0m\u001b[32m18.1\u001b[0m\n",
       "\n"
      ]
     },
     "metadata": {},
     "output_type": "display_data"
    },
    {
     "name": "stderr",
     "output_type": "stream",
     "text": [
      "                                                                                       \r"
     ]
    },
    {
     "data": {
      "text/html": [
       "<video src=\"media\\jupyter\\MoveBoxesWithLetters@2025-03-22@05-19-22.mp4\" controls autoplay loop style=\"max-width: 60%;\"  >\n",
       "      Your browser does not support the <code>video</code> element.\n",
       "    </video>"
      ],
      "text/plain": [
       "<IPython.core.display.Video object>"
      ]
     },
     "metadata": {},
     "output_type": "display_data"
    }
   ],
   "source": [
    "%%manim -ql -v Warning MoveBoxesWithLetters\n",
    "\n",
    "import numpy as np\n",
    "\n",
    "class MoveBoxesWithLetters(Scene):\n",
    "    def construct(self):\n",
    "        # 1) Create 5 boxes\n",
    "        boxes = VGroup(*[\n",
    "            Square(side_length=1).set_stroke(BLUE, 2) \n",
    "            for _ in range(5)\n",
    "        ])\n",
    "        # Arrange them horizontally\n",
    "        boxes.arrange(RIGHT, buff=1)\n",
    "        \n",
    "        self.play(FadeIn(boxes))\n",
    "        self.wait(1)\n",
    "\n",
    "        # 2) Compute the final vertical positions (top-left)\n",
    "        margin = 0.5\n",
    "        top_left_x = -config.frame_width / 2 + margin\n",
    "        top_left_y = config.frame_height / 2 - margin\n",
    "\n",
    "        # Each box is 1 unit in size, so its center is offset by 0.5 from the edges\n",
    "        first_box_center = np.array([top_left_x + 0.5, top_left_y - 0.5, 0])\n",
    "        vertical_buff = 0.5  # spacing between boxes\n",
    "\n",
    "        final_positions = [\n",
    "            first_box_center - np.array([0, i * (1 + vertical_buff), 0])\n",
    "            for i in range(len(boxes))\n",
    "        ]\n",
    "\n",
    "        # 3) Letters to place inside each box (spells \"SMILE\")\n",
    "        letters = [\"S\", \"M\", \"I\", \"L\", \"E\"]\n",
    "\n",
    "        # 4) Move each box to its final position, then place a letter inside\n",
    "        for i, box in enumerate(boxes):\n",
    "            # Move box to vertical position\n",
    "            self.play(box.animate.move_to(final_positions[i]))\n",
    "            self.wait(0.1)\n",
    "\n",
    "            # Create the text for this box\n",
    "            letter_text = Text(letters[i], font_size=48)\n",
    "            # Center the letter in the box\n",
    "            letter_text.move_to(box.get_center())\n",
    "\n",
    "            # Fade in the letter\n",
    "            self.play(FadeIn(letter_text))\n",
    "            self.wait(0.1)\n",
    "\n",
    "        self.wait(1)\n"
   ]
  },
  {
   "cell_type": "code",
   "execution_count": 29,
   "metadata": {},
   "outputs": [
    {
     "data": {
      "text/html": [
       "<pre style=\"white-space:pre;overflow-x:auto;line-height:normal;font-family:Menlo,'DejaVu Sans Mono',consolas,'Courier New',monospace\">Manim Community <span style=\"color: #008000; text-decoration-color: #008000\">v0.18.1</span>\n",
       "\n",
       "</pre>\n"
      ],
      "text/plain": [
       "Manim Community \u001b[32mv0.\u001b[0m\u001b[32m18.1\u001b[0m\n",
       "\n"
      ]
     },
     "metadata": {},
     "output_type": "display_data"
    },
    {
     "name": "stderr",
     "output_type": "stream",
     "text": [
      "                                                                                               \r"
     ]
    },
    {
     "data": {
      "text/html": [
       "<video src=\"media\\jupyter\\MoveBoxesWithLettersAndLines@2025-03-22@11-19-37.mp4\" controls autoplay loop style=\"max-width: 60%;\"  >\n",
       "      Your browser does not support the <code>video</code> element.\n",
       "    </video>"
      ],
      "text/plain": [
       "<IPython.core.display.Video object>"
      ]
     },
     "metadata": {},
     "output_type": "display_data"
    }
   ],
   "source": [
    "%%manim -ql -v Warning MoveBoxesWithLettersAndLines\n",
    "\n",
    "import numpy as np\n",
    "\n",
    "class MoveBoxesWithLettersAndLines(Scene):\n",
    "    def construct(self):\n",
    "        \n",
    "        # 3) Letters to place inside each box (spells \"SMILE\")\n",
    "        letters = [\"S\", \"M\", \"I\", \"L\", \"E\"]\n",
    "\n",
    "        # 1) Create 5 boxes\n",
    "        boxes = VGroup(*[\n",
    "            Square(side_length=1).set_stroke(BLUE, 2)\n",
    "            for _ in enumerate(range(5))\n",
    "        ])\n",
    "        # Arrange them horizontally\n",
    "        boxes.arrange(RIGHT, buff=1)\n",
    "        \n",
    "        \n",
    "        self.play(FadeIn(boxes))\n",
    "        self.wait(1)\n",
    "\n",
    "        # Animate each box in sequence\n",
    "        for i, box_h in enumerate(boxes):\n",
    "\n",
    "            # Create and place the letter in the box\n",
    "            letter_text_h = Text(letters[i], font_size=48)\n",
    "            letter_text_h.move_to(box_h.get_center())\n",
    "            self.play(FadeIn(letter_text_h))\n",
    "\n",
    "        # 2) Compute the final vertical positions (top-left)\n",
    "        margin = 0.5\n",
    "        top_left_x = -config.frame_width / 2 + margin\n",
    "        top_left_y = config.frame_height / 2 - margin\n",
    "        # Each box is 1 unit in size, so center offset by 0.5\n",
    "        first_box_center = np.array([top_left_x + 0.5, top_left_y - 0.5, 0])\n",
    "        vertical_buff = 0.5  # spacing between boxes\n",
    "\n",
    "        final_positions = [\n",
    "            first_box_center - np.array([0, i * (1 + vertical_buff), 0])\n",
    "            for i in range(len(boxes))\n",
    "        ]\n",
    "\n",
    "        \n",
    "        # 4) Phrases to appear on red lines\n",
    "        phrases = [\n",
    "            \"Stay Positive\",\n",
    "            \"Make It Happen\",\n",
    "            \"Imagine Greatness\",\n",
    "            \"Live Happily\",\n",
    "            \"Enjoy Life\"\n",
    "        ]\n",
    "\n",
    "        # Animate each box in sequence\n",
    "        for i, box in enumerate(boxes):\n",
    "            # Move the box to its final vertical position\n",
    "            self.play(box.animate.move_to(final_positions[i]))\n",
    "            self.wait(0.1)\n",
    "\n",
    "            # Create and place the letter in the box\n",
    "            letter_text = Text(letters[i], font_size=48)\n",
    "            letter_text.move_to(box.get_center())\n",
    "            self.play(FadeIn(letter_text))\n",
    "            self.wait(0.1)\n",
    "\n",
    "            # 5) Draw a red line to the right of the box and place a phrase\n",
    "            line_start = box.get_right() + RIGHT * 0.1\n",
    "            line_end = line_start + RIGHT * 1  # length of the line\n",
    "            line = Line(line_start, line_end, color=RED)\n",
    "            self.play(Create(line))\n",
    "\n",
    "            # Position the phrase near the end of the line\n",
    "            phrase_text = Text(phrases[i], font_size=36)\n",
    "            phrase_text.next_to(line, RIGHT, buff=0.2)\n",
    "            self.play(Write(phrase_text))\n",
    "            self.wait(0.2)\n",
    "\n",
    "        self.wait(1)\n"
   ]
  },
  {
   "cell_type": "code",
   "execution_count": 30,
   "metadata": {},
   "outputs": [
    {
     "data": {
      "text/html": [
       "<pre style=\"white-space:pre;overflow-x:auto;line-height:normal;font-family:Menlo,'DejaVu Sans Mono',consolas,'Courier New',monospace\">Manim Community <span style=\"color: #008000; text-decoration-color: #008000\">v0.18.1</span>\n",
       "\n",
       "</pre>\n"
      ],
      "text/plain": [
       "Manim Community \u001b[32mv0.\u001b[0m\u001b[32m18.1\u001b[0m\n",
       "\n"
      ]
     },
     "metadata": {},
     "output_type": "display_data"
    },
    {
     "name": "stderr",
     "output_type": "stream",
     "text": [
      "                                                                                                        \r"
     ]
    },
    {
     "data": {
      "text/html": [
       "<video src=\"media\\jupyter\\MoveBoxesWithLettersAndLinesGrouped@2025-03-22@11-24-01.mp4\" controls autoplay loop style=\"max-width: 60%;\"  >\n",
       "      Your browser does not support the <code>video</code> element.\n",
       "    </video>"
      ],
      "text/plain": [
       "<IPython.core.display.Video object>"
      ]
     },
     "metadata": {},
     "output_type": "display_data"
    }
   ],
   "source": [
    "%%manim -ql -v Warning MoveBoxesWithLettersAndLinesGrouped\n",
    "\n",
    "\n",
    "from manim import *\n",
    "import numpy as np\n",
    "\n",
    "class MoveBoxesWithLettersAndLinesGrouped(Scene):\n",
    "    def construct(self):\n",
    "        \n",
    "        # Letters to place inside each box (spells \"SMILE\")\n",
    "        letters = [\"S\", \"M\", \"I\", \"L\", \"E\"]\n",
    "\n",
    "        # 1) Create a VGroup to hold all \"box+letter\" subgroups\n",
    "        boxes = VGroup()\n",
    "        \n",
    "        # Create 5 box+letter pairs\n",
    "        for i in range(5):\n",
    "            box = Square(side_length=1).set_stroke(BLUE, 2)\n",
    "            letter_in_box = Text(letters[i], font_size=48)\n",
    "            # Center the letter in the box\n",
    "            letter_in_box.move_to(box.get_center())\n",
    "            \n",
    "            # Group the box with its letter so they move together\n",
    "            box_with_letter = VGroup(box, letter_in_box)\n",
    "            boxes.add(box_with_letter)\n",
    "\n",
    "        # Arrange them horizontally\n",
    "        boxes.arrange(RIGHT, buff=1)\n",
    "        \n",
    "        # Fade in all boxes (and letters) together\n",
    "        self.play(FadeIn(boxes))\n",
    "        self.wait(1)\n",
    "\n",
    "        # 2) Compute the final vertical positions (top-left)\n",
    "        margin = 0.5\n",
    "        top_left_x = -config.frame_width / 2 + margin\n",
    "        top_left_y = config.frame_height / 2 - margin\n",
    "        first_box_center = np.array([top_left_x + 0.5, top_left_y - 0.5, 0])\n",
    "        vertical_buff = 0.5  # spacing between boxes\n",
    "\n",
    "        final_positions = [\n",
    "            first_box_center - np.array([0, i * (1 + vertical_buff), 0])\n",
    "            for i in range(len(boxes))\n",
    "        ]\n",
    "\n",
    "        # 3) Phrases to appear on red lines\n",
    "        phrases = [\n",
    "            \"Stay Positive\",\n",
    "            \"Make It Happen\",\n",
    "            \"Imagine Greatness\",\n",
    "            \"Live Happily\",\n",
    "            \"Enjoy Life\"\n",
    "        ]\n",
    "\n",
    "        # 4) Move each box+letter pair to its final position, then draw lines & phrases\n",
    "        for i, box_with_letter in enumerate(boxes):\n",
    "            # Move the group (box & letter) together\n",
    "            self.play(box_with_letter.animate.move_to(final_positions[i]))\n",
    "            self.wait(0.1)\n",
    "\n",
    "            # Draw a red line to the right of the box\n",
    "            # (box_with_letter[0] is the actual box; get its right edge)\n",
    "            actual_box = box_with_letter[0]\n",
    "            line_start = actual_box.get_right() + RIGHT * 0.1\n",
    "            line_end = line_start + RIGHT * 2  # length of the line\n",
    "            line = Line(line_start, line_end, color=RED)\n",
    "            self.play(Create(line))\n",
    "\n",
    "            # Position the phrase near the end of the line\n",
    "            phrase_text = Text(phrases[i], font_size=36)\n",
    "            phrase_text.next_to(line, RIGHT, buff=0.2)\n",
    "            self.play(Write(phrase_text))\n",
    "            self.wait(0.2)\n",
    "\n",
    "        self.wait(1)\n"
   ]
  },
  {
   "cell_type": "code",
   "execution_count": null,
   "metadata": {},
   "outputs": [],
   "source": []
  }
 ],
 "metadata": {
  "kernelspec": {
   "display_name": "Python 3",
   "language": "python",
   "name": "python3"
  },
  "language_info": {
   "codemirror_mode": {
    "name": "ipython",
    "version": 3
   },
   "file_extension": ".py",
   "mimetype": "text/x-python",
   "name": "python",
   "nbconvert_exporter": "python",
   "pygments_lexer": "ipython3",
   "version": "3.11.5"
  }
 },
 "nbformat": 4,
 "nbformat_minor": 2
}
