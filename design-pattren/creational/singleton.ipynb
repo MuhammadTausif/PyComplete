{
 "cells": [
  {
   "cell_type": "markdown",
   "metadata": {},
   "source": [
    "# Singleton Desing Pattern (Creational)"
   ]
  },
  {
   "cell_type": "markdown",
   "metadata": {},
   "source": [
    "Sure! The Singleton pattern ensures that a class has only one instance and provides a global point of access to that instance. Here's an example in Python:\n",
    "\n",
    "### Singleton Pattern in Python\n",
    "\n",
    "```python\n",
    "class Singleton:\n",
    "    _instance = None\n",
    "\n",
    "    def __new__(cls, *args, **kwargs):\n",
    "        if not cls._instance:\n",
    "            cls._instance = super(Singleton, cls).__new__(cls, *args, **kwargs)\n",
    "        return cls._instance\n",
    "\n",
    "    def __init__(self, value):\n",
    "        if not hasattr(self, '_initialized'):  # to prevent reinitialization\n",
    "            self.value = value\n",
    "            self._initialized = True\n",
    "\n",
    "    def get_value(self):\n",
    "        return self.value\n",
    "\n",
    "    def set_value(self, value):\n",
    "        self.value = value\n",
    "\n",
    "# Usage\n",
    "singleton1 = Singleton(\"First Instance\")\n",
    "print(singleton1.get_value())  # Output: First Instance\n",
    "\n",
    "singleton2 = Singleton(\"Second Instance\")\n",
    "print(singleton2.get_value())  # Output: First Instance\n",
    "\n",
    "print(singleton1 is singleton2)  # Output: True\n",
    "```\n",
    "\n",
    "### Explanation\n",
    "\n",
    "1. **`_instance`**: This class variable holds the single instance of the class.\n",
    "\n",
    "2. **`__new__` method**: This special method is responsible for creating a new instance of the class. In this method, we check if the `_instance` variable is `None`. If it is, we create a new instance using `super(Singleton, cls).__new__(cls, *args, **kwargs)` and assign it to `_instance`.\n",
    "\n",
    "3. **`__init__` method**: This method initializes the instance. We use a check to ensure that initialization happens only once by using an attribute `_initialized`.\n",
    "\n",
    "4. **Methods `get_value` and `set_value`**: These are example methods to get and set the value of the singleton instance.\n",
    "\n",
    "### Usage\n",
    "\n",
    "- When we create `singleton1` with the value \"First Instance\", the Singleton instance is created and initialized.\n",
    "- When we create `singleton2` with the value \"Second Instance\", it does not create a new instance but returns the already created instance. Thus, the value remains \"First Instance\".\n",
    "- The check `singleton1 is singleton2` returns `True`, indicating both variables point to the same instance.\n",
    "\n",
    "This ensures that there is only one instance of the Singleton class throughout the application."
   ]
  },
  {
   "cell_type": "code",
   "execution_count": 2,
   "metadata": {},
   "outputs": [
    {
     "name": "stdout",
     "output_type": "stream",
     "text": [
      "First Instance\n",
      "First Instance\n",
      "True\n"
     ]
    }
   ],
   "source": [
    "class Singleton:\n",
    "    _instance = None\n",
    "\n",
    "    def __new__(cls, *args, **kwargs):\n",
    "        if cls._instance is None:\n",
    "            cls._instance = super().__new__(cls)\n",
    "        return cls._instance\n",
    "\n",
    "    def __init__(self, value):\n",
    "        if not hasattr(self, '_initialized'):  # to prevent reinitialization\n",
    "            self.value = value\n",
    "            self._initialized = True\n",
    "\n",
    "    def get_value(self):\n",
    "        return self.value\n",
    "\n",
    "    def set_value(self, value):\n",
    "        self.value = value\n",
    "\n",
    "# Usage\n",
    "singleton1 = Singleton(\"First Instance\")\n",
    "print(singleton1.get_value())  # Output: First Instance\n",
    "\n",
    "singleton2 = Singleton(\"Second Instance\")\n",
    "print(singleton2.get_value())  # Output: First Instance\n",
    "\n",
    "print(singleton1 is singleton2)  # Output: True\n"
   ]
  },
  {
   "cell_type": "code",
   "execution_count": 3,
   "metadata": {},
   "outputs": [
    {
     "name": "stdout",
     "output_type": "stream",
     "text": [
      "{'database': 'example.db', 'host': 'localhost', 'port': 5432}\n",
      "True\n"
     ]
    }
   ],
   "source": [
    "import threading\n",
    "\n",
    "class ConfigurationManager:\n",
    "    _instance = None\n",
    "    _lock = threading.Lock()\n",
    "\n",
    "    def __new__(cls, *args, **kwargs):\n",
    "        if not cls._instance:\n",
    "            with cls._lock:\n",
    "                if not cls._instance:\n",
    "                    cls._instance = super().__new__(cls)\n",
    "        return cls._instance\n",
    "\n",
    "    def __init__(self):\n",
    "        if not hasattr(self, '_initialized'):\n",
    "            self._config = self._load_config()\n",
    "            self._initialized = True\n",
    "\n",
    "    def _load_config(self):\n",
    "        # Simulate loading configuration from a file\n",
    "        return {\n",
    "            \"database\": \"example.db\",\n",
    "            \"host\": \"localhost\",\n",
    "            \"port\": 5432\n",
    "        }\n",
    "\n",
    "    def get_config(self):\n",
    "        return self._config\n",
    "\n",
    "# Usage\n",
    "config1 = ConfigurationManager()\n",
    "config2 = ConfigurationManager()\n",
    "print(config1.get_config())  # Output: {'database': 'example.db', 'host': 'localhost', 'port': 5432}\n",
    "print(config1 is config2)  # Output: True\n"
   ]
  },
  {
   "cell_type": "code",
   "execution_count": null,
   "metadata": {},
   "outputs": [],
   "source": []
  }
 ],
 "metadata": {
  "kernelspec": {
   "display_name": ".venv",
   "language": "python",
   "name": "python3"
  },
  "language_info": {
   "codemirror_mode": {
    "name": "ipython",
    "version": 3
   },
   "file_extension": ".py",
   "mimetype": "text/x-python",
   "name": "python",
   "nbconvert_exporter": "python",
   "pygments_lexer": "ipython3",
   "version": "3.11.5"
  }
 },
 "nbformat": 4,
 "nbformat_minor": 2
}
