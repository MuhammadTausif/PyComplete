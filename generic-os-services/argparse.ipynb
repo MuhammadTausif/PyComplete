{
 "cells": [
  {
   "cell_type": "markdown",
   "metadata": {},
   "source": [
    "# argparse"
   ]
  },
  {
   "cell_type": "markdown",
   "metadata": {},
   "source": [
    "1. Basic Argument Parsing: This example shows how to parse a single positional argument."
   ]
  },
  {
   "cell_type": "code",
   "execution_count": 2,
   "metadata": {},
   "outputs": [
    {
     "name": "stderr",
     "output_type": "stream",
     "text": [
      "usage: ipykernel_launcher.py [-h] N [N ...]\n",
      "ipykernel_launcher.py: error: the following arguments are required: N\n"
     ]
    },
    {
     "ename": "SystemExit",
     "evalue": "2",
     "output_type": "error",
     "traceback": [
      "An exception has occurred, use %tb to see the full traceback.\n",
      "\u001b[1;31mSystemExit\u001b[0m\u001b[1;31m:\u001b[0m 2\n"
     ]
    }
   ],
   "source": [
    "import argparse\n",
    "\n",
    "# Create the parser\n",
    "parser = argparse.ArgumentParser(description='Process some integers.')\n",
    "\n",
    "# Add the arguments\n",
    "parser.add_argument('integers', metavar='N', type=int, nargs='+',\n",
    "                    help='an integer for the accumulator')\n",
    "\n",
    "# Execute the parse_args() method\n",
    "args = parser.parse_args()\n",
    "\n",
    "print(args.integers)\n"
   ]
  },
  {
   "cell_type": "markdown",
   "metadata": {},
   "source": [
    "Optional Arguments: Here’s how to add optional arguments with default values and help descriptions"
   ]
  },
  {
   "cell_type": "code",
   "execution_count": 3,
   "metadata": {},
   "outputs": [
    {
     "name": "stderr",
     "output_type": "stream",
     "text": [
      "usage: ipykernel_launcher.py [-h] [--sum]\n",
      "ipykernel_launcher.py: error: unrecognized arguments: --f=c:\\Users\\hp\\AppData\\Roaming\\jupyter\\runtime\\kernel-v2-2780W3CcwF1jv6Az.json\n"
     ]
    },
    {
     "ename": "SystemExit",
     "evalue": "2",
     "output_type": "error",
     "traceback": [
      "An exception has occurred, use %tb to see the full traceback.\n",
      "\u001b[1;31mSystemExit\u001b[0m\u001b[1;31m:\u001b[0m 2\n"
     ]
    }
   ],
   "source": [
    "import argparse\n",
    "\n",
    "parser = argparse.ArgumentParser(description='A simple script.')\n",
    "\n",
    "# Optional argument with a default value\n",
    "parser.add_argument('--sum', dest='accumulate', action='store_const',\n",
    "                    const=sum, default=max,\n",
    "                    help='sum the integers (default: find the max)')\n",
    "\n",
    "args = parser.parse_args()\n",
    "print(args.accumulate(args.integers))\n"
   ]
  },
  {
   "cell_type": "markdown",
   "metadata": {},
   "source": [
    "Boolean Flags: This example demonstrates the use of boolean flags that, when present, set a variable to True."
   ]
  },
  {
   "cell_type": "code",
   "execution_count": 4,
   "metadata": {},
   "outputs": [
    {
     "name": "stderr",
     "output_type": "stream",
     "text": [
      "usage: ipykernel_launcher.py [-h] [-v]\n",
      "ipykernel_launcher.py: error: unrecognized arguments: --f=c:\\Users\\hp\\AppData\\Roaming\\jupyter\\runtime\\kernel-v2-2780W3CcwF1jv6Az.json\n"
     ]
    },
    {
     "ename": "SystemExit",
     "evalue": "2",
     "output_type": "error",
     "traceback": [
      "An exception has occurred, use %tb to see the full traceback.\n",
      "\u001b[1;31mSystemExit\u001b[0m\u001b[1;31m:\u001b[0m 2\n"
     ]
    }
   ],
   "source": [
    "import argparse\n",
    "\n",
    "parser = argparse.ArgumentParser(description='Flag example')\n",
    "\n",
    "# Boolean flag\n",
    "parser.add_argument('-v', '--verbose', action='store_true',\n",
    "                    help='increase output verbosity')\n",
    "\n",
    "args = parser.parse_args()\n",
    "if args.verbose:\n",
    "    print(\"Verbosity turned on\")\n"
   ]
  },
  {
   "cell_type": "markdown",
   "metadata": {},
   "source": [
    "Sub-commands: argparse can also support sub-commands, which allows for a more complex command-line interface."
   ]
  },
  {
   "cell_type": "code",
   "execution_count": 5,
   "metadata": {},
   "outputs": [
    {
     "name": "stderr",
     "output_type": "stream",
     "text": [
      "usage: PROG [-h] {a,b} ...\n",
      "PROG: error: unrecognized arguments: --f=c:\\Users\\hp\\AppData\\Roaming\\jupyter\\runtime\\kernel-v2-2780W3CcwF1jv6Az.json\n"
     ]
    },
    {
     "ename": "SystemExit",
     "evalue": "2",
     "output_type": "error",
     "traceback": [
      "An exception has occurred, use %tb to see the full traceback.\n",
      "\u001b[1;31mSystemExit\u001b[0m\u001b[1;31m:\u001b[0m 2\n"
     ]
    }
   ],
   "source": [
    "import argparse\n",
    "\n",
    "# Create the top-level parser\n",
    "parser = argparse.ArgumentParser(prog='PROG')\n",
    "subparsers = parser.add_subparsers(help='sub-command help')\n",
    "\n",
    "# Create the parser for the \"a\" command\n",
    "parser_a = subparsers.add_parser('a', help='a help')\n",
    "parser_a.add_argument('bar', type=int, help='bar help')\n",
    "\n",
    "# Create the parser for the \"b\" command\n",
    "parser_b = subparsers.add_parser('b', help='b help')\n",
    "parser_b.add_argument('--baz', choices='XYZ', help='baz help')\n",
    "\n",
    "# Parse the args\n",
    "args = parser.parse_args()\n"
   ]
  },
  {
   "cell_type": "code",
   "execution_count": null,
   "metadata": {},
   "outputs": [],
   "source": []
  }
 ],
 "metadata": {
  "kernelspec": {
   "display_name": "Python 3",
   "language": "python",
   "name": "python3"
  },
  "language_info": {
   "codemirror_mode": {
    "name": "ipython",
    "version": 3
   },
   "file_extension": ".py",
   "mimetype": "text/x-python",
   "name": "python",
   "nbconvert_exporter": "python",
   "pygments_lexer": "ipython3",
   "version": "3.11.5"
  }
 },
 "nbformat": 4,
 "nbformat_minor": 2
}
