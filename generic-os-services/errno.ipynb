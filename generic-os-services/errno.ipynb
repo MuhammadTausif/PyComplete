{
 "cells": [
  {
   "cell_type": "markdown",
   "metadata": {},
   "source": [
    "# errno"
   ]
  },
  {
   "cell_type": "code",
   "execution_count": 1,
   "metadata": {},
   "outputs": [],
   "source": [
    "import errno"
   ]
  },
  {
   "cell_type": "code",
   "execution_count": 3,
   "metadata": {},
   "outputs": [
    {
     "data": {
      "text/plain": [
       "'EPERM'"
      ]
     },
     "execution_count": 3,
     "metadata": {},
     "output_type": "execute_result"
    }
   ],
   "source": [
    "errno.errorcode[errno.EPERM]"
   ]
  },
  {
   "cell_type": "code",
   "execution_count": 4,
   "metadata": {},
   "outputs": [
    {
     "data": {
      "text/plain": [
       "dict_keys([19, 10065, 122, 120, 40, 32, 22, 132, 4, 10068, 41, 10055, 134, 10071, 10, 10062, 18, 7, 3, 10040, 10047, 10064, 10046, 10042, 16, 10035, 10056, 10058, 9, 5, 10041, 28, 8, 10037, 10050, 13, 42, 20, 1, 33, 10061, 21, 10043, 30, 10049, 111, 104, 23, 29, 121, 10052, 10060, 2, 17, 10069, 125, 14, 27, 36, 10057, 10039, 39, 10053, 10051, 10070, 124, 12, 10038, 31, 34, 10054, 10048, 10045, 11, 38, 25, 10044, 137, 10059, 24, 139, 10036, 6, 10024, 10092, 10067, 10014, 10093, 10063, 10066, 10013, 10000, 10009, 10101, 10004, 10091, 10022, 105, 133, 127, 129])"
      ]
     },
     "execution_count": 4,
     "metadata": {},
     "output_type": "execute_result"
    }
   ],
   "source": [
    "errno.errorcode.keys()"
   ]
  },
  {
   "cell_type": "code",
   "execution_count": 5,
   "metadata": {},
   "outputs": [
    {
     "data": {
      "text/plain": [
       "{19: 'ENODEV',\n",
       " 10065: 'WSAEHOSTUNREACH',\n",
       " 122: 'ENOMSG',\n",
       " 120: 'ENODATA',\n",
       " 40: 'ENOSYS',\n",
       " 32: 'EPIPE',\n",
       " 22: 'EINVAL',\n",
       " 132: 'EOVERFLOW',\n",
       " 4: 'EINTR',\n",
       " 10068: 'WSAEUSERS',\n",
       " 41: 'ENOTEMPTY',\n",
       " 10055: 'WSAENOBUFS',\n",
       " 134: 'EPROTO',\n",
       " 10071: 'WSAEREMOTE',\n",
       " 10: 'ECHILD',\n",
       " 10062: 'WSAELOOP',\n",
       " 18: 'EXDEV',\n",
       " 7: 'E2BIG',\n",
       " 3: 'ESRCH',\n",
       " 10040: 'WSAEMSGSIZE',\n",
       " 10047: 'WSAEAFNOSUPPORT',\n",
       " 10064: 'WSAEHOSTDOWN',\n",
       " 10046: 'WSAEPFNOSUPPORT',\n",
       " 10042: 'WSAENOPROTOOPT',\n",
       " 16: 'EBUSY',\n",
       " 10035: 'WSAEWOULDBLOCK',\n",
       " 10056: 'WSAEISCONN',\n",
       " 10058: 'WSAESHUTDOWN',\n",
       " 9: 'EBADF',\n",
       " 5: 'EIO',\n",
       " 10041: 'WSAEPROTOTYPE',\n",
       " 28: 'ENOSPC',\n",
       " 8: 'ENOEXEC',\n",
       " 10037: 'WSAEALREADY',\n",
       " 10050: 'WSAENETDOWN',\n",
       " 13: 'EACCES',\n",
       " 42: 'EILSEQ',\n",
       " 20: 'ENOTDIR',\n",
       " 1: 'EPERM',\n",
       " 33: 'EDOM',\n",
       " 10061: 'WSAECONNREFUSED',\n",
       " 21: 'EISDIR',\n",
       " 10043: 'WSAEPROTONOSUPPORT',\n",
       " 30: 'EROFS',\n",
       " 10049: 'WSAEADDRNOTAVAIL',\n",
       " 111: 'EIDRM',\n",
       " 104: 'EBADMSG',\n",
       " 23: 'ENFILE',\n",
       " 29: 'ESPIPE',\n",
       " 121: 'ENOLINK',\n",
       " 10052: 'WSAENETRESET',\n",
       " 10060: 'WSAETIMEDOUT',\n",
       " 2: 'ENOENT',\n",
       " 17: 'EEXIST',\n",
       " 10069: 'WSAEDQUOT',\n",
       " 125: 'ENOSTR',\n",
       " 14: 'EFAULT',\n",
       " 27: 'EFBIG',\n",
       " 36: 'EDEADLOCK',\n",
       " 10057: 'WSAENOTCONN',\n",
       " 10039: 'WSAEDESTADDRREQ',\n",
       " 39: 'ENOLCK',\n",
       " 10053: 'WSAECONNABORTED',\n",
       " 10051: 'WSAENETUNREACH',\n",
       " 10070: 'WSAESTALE',\n",
       " 124: 'ENOSR',\n",
       " 12: 'ENOMEM',\n",
       " 10038: 'WSAENOTSOCK',\n",
       " 31: 'EMLINK',\n",
       " 34: 'ERANGE',\n",
       " 10054: 'WSAECONNRESET',\n",
       " 10048: 'WSAEADDRINUSE',\n",
       " 10045: 'WSAEOPNOTSUPP',\n",
       " 11: 'EAGAIN',\n",
       " 38: 'ENAMETOOLONG',\n",
       " 25: 'ENOTTY',\n",
       " 10044: 'WSAESOCKTNOSUPPORT',\n",
       " 137: 'ETIME',\n",
       " 10059: 'WSAETOOMANYREFS',\n",
       " 24: 'EMFILE',\n",
       " 139: 'ETXTBSY',\n",
       " 10036: 'WSAEINPROGRESS',\n",
       " 6: 'ENXIO',\n",
       " 10024: 'WSAEMFILE',\n",
       " 10092: 'WSAVERNOTSUPPORTED',\n",
       " 10067: 'WSAEPROCLIM',\n",
       " 10014: 'WSAEFAULT',\n",
       " 10093: 'WSANOTINITIALISED',\n",
       " 10063: 'WSAENAMETOOLONG',\n",
       " 10066: 'WSAENOTEMPTY',\n",
       " 10013: 'WSAEACCES',\n",
       " 10000: 'WSABASEERR',\n",
       " 10009: 'WSAEBADF',\n",
       " 10101: 'WSAEDISCON',\n",
       " 10004: 'WSAEINTR',\n",
       " 10091: 'WSASYSNOTREADY',\n",
       " 10022: 'WSAEINVAL',\n",
       " 105: 'ECANCELED',\n",
       " 133: 'EOWNERDEAD',\n",
       " 127: 'ENOTRECOVERABLE',\n",
       " 129: 'ENOTSUP'}"
      ]
     },
     "execution_count": 5,
     "metadata": {},
     "output_type": "execute_result"
    }
   ],
   "source": [
    "errno.errorcode"
   ]
  },
  {
   "cell_type": "code",
   "execution_count": null,
   "metadata": {},
   "outputs": [],
   "source": []
  }
 ],
 "metadata": {
  "kernelspec": {
   "display_name": ".venv",
   "language": "python",
   "name": "python3"
  },
  "language_info": {
   "codemirror_mode": {
    "name": "ipython",
    "version": 3
   },
   "file_extension": ".py",
   "mimetype": "text/x-python",
   "name": "python",
   "nbconvert_exporter": "python",
   "pygments_lexer": "ipython3",
   "version": "3.11.5"
  }
 },
 "nbformat": 4,
 "nbformat_minor": 2
}
