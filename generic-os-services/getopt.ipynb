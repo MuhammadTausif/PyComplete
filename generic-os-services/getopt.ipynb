{
 "cells": [
  {
   "cell_type": "markdown",
   "metadata": {},
   "source": [
    "# getopt"
   ]
  },
  {
   "cell_type": "markdown",
   "metadata": {},
   "source": [
    "11 Jun 2024"
   ]
  },
  {
   "cell_type": "code",
   "execution_count": 4,
   "metadata": {},
   "outputs": [
    {
     "name": "stdout",
     "output_type": "stream",
     "text": [
      "['-a', '-b', '-cfoo', '-d', 'bar', 'a1', 'a2']\n",
      "[('-a', ''), ('-b', ''), ('-c', 'foo'), ('-d', 'bar')]\n",
      "['a1', 'a2']\n"
     ]
    }
   ],
   "source": [
    "import getopt\n",
    "args = '-a -b -cfoo -d bar a1 a2'.split()\n",
    "print(args)\n",
    "# ['-a', '-b', '-cfoo', '-d', 'bar', 'a1', 'a2']\n",
    "optlist, args = getopt.getopt(args, 'abc:d:')\n",
    "print(optlist)\n",
    "# [('-a', ''), ('-b', ''), ('-c', 'foo'), ('-d', 'bar')]\n",
    "print(args)"
   ]
  },
  {
   "cell_type": "code",
   "execution_count": 3,
   "metadata": {},
   "outputs": [
    {
     "name": "stdout",
     "output_type": "stream",
     "text": [
      "['--condition=foo', '--testing', '--output-file', 'abc.def', '-x', 'a1', 'a2']\n",
      "[('--condition', 'foo'), ('--testing', ''), ('--output-file', 'abc.def'), ('-x', '')]\n",
      "['a1', 'a2']\n"
     ]
    }
   ],
   "source": [
    "s = '--condition=foo --testing --output-file abc.def -x a1 a2'\n",
    "args = s.split()\n",
    "print(args)\n",
    "# ['--condition=foo', '--testing', '--output-file', 'abc.def', '-x', 'a1', 'a2']\n",
    "optlist, args = getopt.getopt(args, 'x', ['condition=', 'output-file=', 'testing'])\n",
    "print(optlist)\n",
    "# [('--condition', 'foo'), ('--testing', ''), ('--output-file', 'abc.def'), ('-x', '')]\n",
    "print(args)\n",
    "# ['a1', 'a2']"
   ]
  },
  {
   "cell_type": "code",
   "execution_count": null,
   "metadata": {},
   "outputs": [],
   "source": []
  }
 ],
 "metadata": {
  "kernelspec": {
   "display_name": "Python 3",
   "language": "python",
   "name": "python3"
  },
  "language_info": {
   "codemirror_mode": {
    "name": "ipython",
    "version": 3
   },
   "file_extension": ".py",
   "mimetype": "text/x-python",
   "name": "python",
   "nbconvert_exporter": "python",
   "pygments_lexer": "ipython3",
   "version": "3.11.5"
  }
 },
 "nbformat": 4,
 "nbformat_minor": 2
}
