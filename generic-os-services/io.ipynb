{
 "cells": [
  {
   "cell_type": "markdown",
   "metadata": {},
   "source": [
    "# io"
   ]
  },
  {
   "cell_type": "code",
   "execution_count": 1,
   "metadata": {},
   "outputs": [],
   "source": [
    "import io"
   ]
  },
  {
   "cell_type": "code",
   "execution_count": 2,
   "metadata": {},
   "outputs": [
    {
     "name": "stdout",
     "output_type": "stream",
     "text": [
      "['BlockingIOError', 'open', 'open_code', 'IOBase', 'RawIOBase', 'FileIO', 'BytesIO', 'StringIO', 'BufferedIOBase', 'BufferedReader', 'BufferedWriter', 'BufferedRWPair', 'BufferedRandom', 'TextIOBase', 'TextIOWrapper', 'UnsupportedOperation', 'SEEK_SET', 'SEEK_CUR', 'SEEK_END']\n"
     ]
    }
   ],
   "source": [
    "print(io.__all__)"
   ]
  },
  {
   "cell_type": "code",
   "execution_count": 5,
   "metadata": {},
   "outputs": [
    {
     "name": "stdout",
     "output_type": "stream",
     "text": [
      "1 :-  BlockingIOError \n",
      "2 :-  open \n",
      "3 :-  open_code \n",
      "4 :-  IOBase \n",
      "5 :-  RawIOBase \n",
      "6 :-  FileIO \n",
      "7 :-  BytesIO \n",
      "8 :-  StringIO \n",
      "9 :-  BufferedIOBase \n",
      "10 :-  BufferedReader \n",
      "11 :-  BufferedWriter \n",
      "12 :-  BufferedRWPair \n",
      "13 :-  BufferedRandom \n",
      "14 :-  TextIOBase \n",
      "15 :-  TextIOWrapper \n",
      "16 :-  UnsupportedOperation \n",
      "17 :-  SEEK_SET \n",
      "18 :-  SEEK_CUR \n",
      "19 :-  SEEK_END \n"
     ]
    }
   ],
   "source": [
    "for i, _ in enumerate(io.__all__):\n",
    "    print(i + 1, \":- \", _, end=\" \\n\")"
   ]
  },
  {
   "cell_type": "code",
   "execution_count": null,
   "metadata": {},
   "outputs": [],
   "source": []
  }
 ],
 "metadata": {
  "kernelspec": {
   "display_name": "Python 3",
   "language": "python",
   "name": "python3"
  },
  "language_info": {
   "codemirror_mode": {
    "name": "ipython",
    "version": 3
   },
   "file_extension": ".py",
   "mimetype": "text/x-python",
   "name": "python",
   "nbconvert_exporter": "python",
   "pygments_lexer": "ipython3",
   "version": "3.11.5"
  }
 },
 "nbformat": 4,
 "nbformat_minor": 2
}
