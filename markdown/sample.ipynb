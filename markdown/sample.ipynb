{
 "cells": [
  {
   "cell_type": "markdown",
   "metadata": {},
   "source": [
    "# Markdown"
   ]
  },
  {
   "cell_type": "markdown",
   "metadata": {},
   "source": [
    "## Character Formatting"
   ]
  },
  {
   "cell_type": "markdown",
   "metadata": {
    "vscode": {
     "languageId": "plaintext"
    }
   },
   "source": [
    "You should read this, it's **very important**.\n",
    "\n",
    "You _might_ want to read this.\n",
    "\n",
    "~~Never mind~~ - it wasn't _that_ important.\n",
    "\n",
    "Let's try a few `combinations`:\n",
    "**This text is strong, ~~this text is strong with strikethrough~~, and _this text is formatted with strong emphasis_**\n",
    "\n",
    "***This text is formatted with strong emphasis too.***\n",
    "\n",
    "Simple code block\n",
    "~~~\n",
    "## Code block\n",
    "import pandas as pd\n",
    "import numpy as np\n",
    "~~~\n",
    "\n",
    "Python code block\n",
    "```python\n",
    "## Code block\n",
    "import pandas as pd\n",
    "import numpy as np\n",
    "```"
   ]
  },
  {
   "cell_type": "markdown",
   "metadata": {},
   "source": [
    "## Headings"
   ]
  },
  {
   "cell_type": "markdown",
   "metadata": {
    "vscode": {
     "languageId": "plaintext"
    }
   },
   "source": [
    "# Heading 1\n",
    "## Heading 2\n",
    "### Heading 3\n",
    "#### Heading 4\n",
    "##### Heading 5\n",
    "###### Heading 6\n",
    "\n",
    "Heading 1 - Alternative Syntax\n",
    "========\n",
    "\n",
    "Heading 2 - Alternative Syntax\n",
    "--------\n"
   ]
  },
  {
   "cell_type": "markdown",
   "metadata": {},
   "source": [
    "## Paragraphs and Line Breaks"
   ]
  },
  {
   "cell_type": "markdown",
   "metadata": {},
   "source": [
    "Even though this text is written on two separate lines,\n",
    "it is parsed as a single paragraph.\n",
    "\n",
    "This paragraph is separated from the previous paragraph\n",
    "by a blank line."
   ]
  },
  {
   "cell_type": "markdown",
   "metadata": {},
   "source": [
    "## Thematic Breaks"
   ]
  },
  {
   "cell_type": "markdown",
   "metadata": {},
   "source": [
    "The underscores on the next line create a thematic break below this paragraph.\n",
    "___\n",
    "The minus signs below must be separated from this paragraph by a blank line.\n",
    "If not, they are parsed as a level 2 heading.\n",
    "\n",
    "----\n",
    "Three or more asterisks also create a thematic break.\n",
    "****"
   ]
  },
  {
   "cell_type": "markdown",
   "metadata": {},
   "source": [
    "## Block Quotes"
   ]
  },
  {
   "cell_type": "markdown",
   "metadata": {},
   "source": [
    "> Use quote blocks to emulate reply text.\n",
    "> This line is part of the same quote.\n",
    "\n",
    "This line is not formatted and does not belong to the quote block.\n",
    "\n",
    "> This block spans multiple paragraphs.\n",
    ">\n",
    "> The second paragraph is grouped with the previous paragraph in the same quote block.\n",
    "> Character formatting is _also_ supported inside the **quote block**.\n",
    "\n",
    "> Quote blocks can also be nested.\n",
    ">> When you start a new line with additional > characters,\n",
    ">>> it simulates a threaded conversation."
   ]
  },
  {
   "cell_type": "markdown",
   "metadata": {},
   "source": [
    "## Indented Code Blocks﻿"
   ]
  },
  {
   "cell_type": "markdown",
   "metadata": {},
   "source": [
    "Start an indented code block following a paragraph with a blank line and at least four spaces of indentation:\n",
    "\n",
    "    This is a code block.\n",
    "\n",
    "    Blank lines between indented lines do not end the code block.\n",
    "\n",
    "    Here is some HTML:\n",
    "        <div class=\"footer\">\n",
    "             2009—2017 JetBrains · All rights reserved\n",
    "        </div>\n",
    "This line of text is not indented. It ends the code block and starts a new paragraph."
   ]
  },
  {
   "cell_type": "markdown",
   "metadata": {},
   "source": [
    "## Fenced Code Blocks"
   ]
  },
  {
   "cell_type": "markdown",
   "metadata": {},
   "source": [
    "Set multiple lines of code in fenced code blocks.\n",
    "\n",
    "```\n",
    "action: function(ctx) {\n",
    "    workflow.check(!ctx.issue.isChanged('votes'), workflow.i18n('Voting for a resolved issue is not allowed.'));\n",
    "},\n",
    "```\n",
    "\n",
    "The following code block uses syntax highlighting for Haskell:\n",
    "```hs\n",
    "-- Point-free style\n",
    "fib :: Integer -> Integer\n",
    "fib = (fibs !!)\n",
    "where fibs = 0 : scanl (+) 1 fibs\n",
    "\n",
    "-- Explicit\n",
    "fib :: Integer -> Integer\n",
    "fib n = fibs !! n\n",
    "where fibs = 0 : scanl (+) 1 fibs\n",
    "```"
   ]
  },
  {
   "cell_type": "markdown",
   "metadata": {},
   "source": [
    "## Lists"
   ]
  },
  {
   "cell_type": "markdown",
   "metadata": {},
   "source": [
    "Things I need to do today:\n",
    "1. Fix usability problem\n",
    "2. Clean up the page\n",
    "   * Make the headings bigger\n",
    "2. Push my changes\n",
    "3. Create code review\n",
    "   * Describe my changes\n",
    "   * Assign reviewers\n",
    "     * Ask for feedback"
   ]
  },
  {
   "cell_type": "markdown",
   "metadata": {},
   "source": [
    "## Images"
   ]
  },
  {
   "cell_type": "markdown",
   "metadata": {},
   "source": [
    "\n",
    "Here's an image link to the Markdown logo on Wikipedia:\n",
    "\n",
    "Inline:\n",
    "![Markdown logo](https://upload.wikimedia.org/wikipedia/commons/thumb/4/48/Markdown-mark.svg/208px-Markdown-mark.svg.png \"Markdown\")\n",
    "\n",
    "Reference style:\n",
    "![Markdown logo][logo]\n",
    "\n",
    "[logo]: https://upload.wikimedia.org/wikipedia/commons/thumb/4/48/Markdown-mark.svg/208px-Markdown-mark.svg.png \"Markdown\"\n",
    "\n",
    "Markdown also supports images as links.\n",
    "Just wrap the entire image reference in brackets then add the target URL in parenthesis after the image reference.\n",
    "People use this syntax to insert a thumbnail image that links to a video on a video sharing platform.\n",
    "\n",
    "Here's a reference to the latest video promotion for YouTrack:\n",
    "\n",
    "[![YouTrack — Maintain Order In A World of Chaos](https://img.youtube.com/vi/rhAunB7UQFQ/sddefault.jpg)](https://www.youtube.com/watch?v=rhAunB7UQFQ)"
   ]
  },
  {
   "cell_type": "markdown",
   "metadata": {},
   "source": []
  },
  {
   "cell_type": "markdown",
   "metadata": {},
   "source": [
    "## Backslash Escapes"
   ]
  },
  {
   "cell_type": "markdown",
   "metadata": {},
   "source": [
    "Here are a few examples of backslash escapes:\n",
    "\n",
    "\\*not emphasis*\n",
    "\\`not an inline code span`\n",
    "1\\. not an ordered list\n",
    "\\* not an unordered list\n",
    "\\# not a heading\n",
    "\n",
    "\\This is not a backslash escape - the escaped character is not a markup character."
   ]
  },
  {
   "cell_type": "markdown",
   "metadata": {},
   "source": [
    "## Tables"
   ]
  },
  {
   "cell_type": "markdown",
   "metadata": {},
   "source": [
    "Kitchen Cleanup Rotation\n",
    "\n",
    "| Month    | Assignee | Backup |\n",
    "| -------- | -------- | ------ |\n",
    "| January  | Dave     | Steve  |\n",
    "| February | Gregg    | Karen  |\n",
    "| March    | Diane    | Jorge  |\n",
    "\n",
    "Here's the same text with character formatting.\n",
    "+ The text in the first column is flush right.\n",
    "+ The text in the second column is centered.\n",
    "+ The Markdown is stripped down to the minimum syntax that is required to render the table.\n",
    "\n",
    "Month | Assignee | Backup\n",
    "---:|:---:| ---\n",
    "**January** | Dave | _Steve_\n",
    "**February** | Gregg | _Karen_\n",
    "**March** | Diane | _Jorge_"
   ]
  },
  {
   "cell_type": "markdown",
   "metadata": {},
   "source": [
    "## Links"
   ]
  },
  {
   "cell_type": "markdown",
   "metadata": {},
   "source": [
    "[inline link](https://www.jetbrains.com)\n",
    "\n",
    "[inline link with tooltip](https://www.jetbrains.com \"JetBrains: Development Tools for Professionals and Teams\")\n",
    "\n",
    "[reference link][1]\n",
    "\n",
    "[1]: https://www.jetbrains.com"
   ]
  },
  {
   "cell_type": "markdown",
   "metadata": {},
   "source": [
    "## Autolinks﻿"
   ]
  },
  {
   "cell_type": "markdown",
   "metadata": {},
   "source": [
    "Both of these URLs are parsed as links:\n",
    "\n",
    "<https://youtrack.jetbrains.com/issues>\n",
    "https://youtrack.jetbrains.com/issues\n",
    "\n",
    "Email addresses are also converted into \"mailto\" links when set in angle brackets:\n",
    "\n",
    "<webmaster@jetbrains.com>\n"
   ]
  },
  {
   "cell_type": "markdown",
   "metadata": {},
   "source": []
  }
 ],
 "metadata": {
  "language_info": {
   "name": "python"
  }
 },
 "nbformat": 4,
 "nbformat_minor": 2
}
