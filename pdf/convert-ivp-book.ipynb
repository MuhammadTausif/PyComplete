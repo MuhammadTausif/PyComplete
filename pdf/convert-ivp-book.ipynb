{
 "cells": [
  {
   "cell_type": "markdown",
   "metadata": {},
   "source": [
    "# Split IVP Book"
   ]
  },
  {
   "cell_type": "code",
   "execution_count": 2,
   "metadata": {},
   "outputs": [
    {
     "data": {
      "text/plain": [
       "'C:\\\\Users\\\\Public\\\\Dev\\\\Ph.D\\\\1st Semester\\\\CS-861-IVP\\\\Riccardo_Mazza_Introduction_to_Information_Visualization__2009_Pages_16_to_30.pdf'"
      ]
     },
     "execution_count": 2,
     "metadata": {},
     "output_type": "execute_result"
    }
   ],
   "source": [
    "from PyPDF2 import PdfReader, PdfWriter\n",
    "\n",
    "# Input and output file paths\n",
    "path = r\"C:\\Users\\Public\\Dev\\Ph.D\\1st Semester\\CS-861-IVP\\Riccardo_Mazza_Introduction_to_Information_Visualization__2009.pdf\"\n",
    "input_pdf_path = path\n",
    "output_pdf_path = r\"C:\\Users\\Public\\Dev\\Ph.D\\1st Semester\\CS-861-IVP\\Riccardo_Mazza_Introduction_to_Information_Visualization__2009_Pages_16_to_30.pdf\"\n",
    "\n",
    "# Create a PDF reader and writer\n",
    "reader = PdfReader(input_pdf_path)\n",
    "writer = PdfWriter()\n",
    "\n",
    "# Add pages 16 to 30 (zero-based index in PyPDF2)\n",
    "for page_num in range(15, 30):  # 16th page is index 15, 30th page is index 29\n",
    "    writer.add_page(reader.pages[page_num])\n",
    "\n",
    "# Write the output PDF\n",
    "with open(output_pdf_path, \"wb\") as output_pdf:\n",
    "    writer.write(output_pdf)\n",
    "\n",
    "output_pdf_path\n"
   ]
  },
  {
   "cell_type": "code",
   "execution_count": 4,
   "metadata": {},
   "outputs": [
    {
     "data": {
      "text/plain": [
       "'C:\\\\Users\\\\Public\\\\Dev\\\\Ph.D\\\\1st Semester\\\\CS-861-IVP\\\\Riccardo_Mazza_Introduction_to_Information_Visualization__2009_Pages_32_to_46.pdf'"
      ]
     },
     "execution_count": 4,
     "metadata": {},
     "output_type": "execute_result"
    }
   ],
   "source": [
    "from PyPDF2 import PdfReader, PdfWriter\n",
    "\n",
    "# Input and output file paths\n",
    "path = r\"C:\\Users\\Public\\Dev\\Ph.D\\1st Semester\\CS-861-IVP\\Riccardo_Mazza_Introduction_to_Information_Visualization__2009.pdf\"\n",
    "input_pdf_path = path\n",
    "output_pdf_path = r\"C:\\Users\\Public\\Dev\\Ph.D\\1st Semester\\CS-861-IVP\\Riccardo_Mazza_Introduction_to_Information_Visualization__2009_Pages_32_to_46.pdf\"\n",
    "\n",
    "# Create a PDF reader and writer\n",
    "reader = PdfReader(input_pdf_path)\n",
    "writer = PdfWriter()\n",
    "\n",
    "# Add pages 16 to 30 (zero-based index in PyPDF2)\n",
    "for page_num in range(30, 46):  # 16th page is index 15, 30th page is index 29\n",
    "    writer.add_page(reader.pages[page_num])\n",
    "\n",
    "# Write the output PDF\n",
    "with open(output_pdf_path, \"wb\") as output_pdf:\n",
    "    writer.write(output_pdf)\n",
    "\n",
    "output_pdf_path\n"
   ]
  },
  {
   "cell_type": "code",
   "execution_count": 1,
   "metadata": {},
   "outputs": [],
   "source": [
    "from PyPDF2 import PdfReader, PdfWriter"
   ]
  },
  {
   "cell_type": "code",
   "execution_count": 5,
   "metadata": {},
   "outputs": [
    {
     "data": {
      "text/plain": [
       "'C:\\\\Users\\\\Public\\\\Dev\\\\Ph.D\\\\1st Semester\\\\CS-861-IVP\\\\Ch_3_Pages_46_to_58.pdf'"
      ]
     },
     "execution_count": 5,
     "metadata": {},
     "output_type": "execute_result"
    }
   ],
   "source": [
    "\n",
    "# Input and output file paths\n",
    "path = r\"C:\\Users\\Public\\Dev\\Ph.D\\1st Semester\\CS-861-IVP\\Riccardo_Mazza_Introduction_to_Information_Visualization__2009.pdf\"\n",
    "input_pdf_path = path\n",
    "output_pdf_path = r\"C:\\Users\\Public\\Dev\\Ph.D\\1st Semester\\CS-861-IVP\\Ch_3_Pages_46_to_58.pdf\"\n",
    "\n",
    "# Create a PDF reader and writer\n",
    "reader = PdfReader(input_pdf_path)\n",
    "writer = PdfWriter()\n",
    "\n",
    "# Add pages 16 to 30 (zero-based index in PyPDF2)\n",
    "for page_num in range(46, 58):  # 16th page is index 15, 30th page is index 29\n",
    "    writer.add_page(reader.pages[page_num])\n",
    "\n",
    "# Write the output PDF\n",
    "with open(output_pdf_path, \"wb\") as output_pdf:\n",
    "    writer.write(output_pdf)\n",
    "\n",
    "output_pdf_path\n"
   ]
  },
  {
   "cell_type": "code",
   "execution_count": 8,
   "metadata": {},
   "outputs": [
    {
     "data": {
      "text/plain": [
       "'C:\\\\Users\\\\Public\\\\Dev\\\\Ph.D\\\\1st Semester\\\\CS-861-IVP\\\\Ch_9_Pages_116_to_135.pdf'"
      ]
     },
     "execution_count": 8,
     "metadata": {},
     "output_type": "execute_result"
    }
   ],
   "source": [
    "\n",
    "# Input and output file paths\n",
    "path = r\"C:\\Users\\Public\\Dev\\Ph.D\\1st Semester\\CS-861-IVP\\Riccardo_Mazza_Introduction_to_Information_Visualization__2009.pdf\"\n",
    "input_pdf_path = path\n",
    "output_pdf_path = r\"C:\\Users\\Public\\Dev\\Ph.D\\1st Semester\\CS-861-IVP\\Ch_9_Pages_116_to_135.pdf\"\n",
    "\n",
    "# Create a PDF reader and writer\n",
    "reader = PdfReader(input_pdf_path)\n",
    "writer = PdfWriter()\n",
    "\n",
    "# Add pages 16 to 30 (zero-based index in PyPDF2)\n",
    "for page_num in range(116, 135):  # 16th page is index 15, 30th page is index 29\n",
    "    writer.add_page(reader.pages[page_num])\n",
    "\n",
    "# Write the output PDF\n",
    "with open(output_pdf_path, \"wb\") as output_pdf:\n",
    "    writer.write(output_pdf)\n",
    "\n",
    "output_pdf_path\n"
   ]
  },
  {
   "cell_type": "markdown",
   "metadata": {},
   "source": [
    "### Computational Modeling Book Chapter 2"
   ]
  },
  {
   "cell_type": "code",
   "execution_count": 3,
   "metadata": {},
   "outputs": [
    {
     "data": {
      "text/plain": [
       "'C:\\\\Users\\\\Public\\\\Dev\\\\Ph.D\\\\2nd Semester\\\\CSC-827-CM\\\\Introduction_to_Computational_Modeling_Ch_2_Pages_50_96.pdf'"
      ]
     },
     "execution_count": 3,
     "metadata": {},
     "output_type": "execute_result"
    }
   ],
   "source": [
    "\n",
    "from PyPDF2 import PdfReader, PdfWriter\n",
    "\n",
    "# Input and output file paths\n",
    "path = r\"C:\\Users\\Public\\Dev\\Ph.D\\2nd Semester\\CSC-827-CM\\Shiflet_(2014)_-_Introductin_to_Computational_Science,_Modeling_and_Simlation_for_Sciences_2nd_Edition.pdf\"\n",
    "input_pdf_path = path\n",
    "output_pdf_path = r\"C:\\Users\\Public\\Dev\\Ph.D\\2nd Semester\\CSC-827-CM\\Introduction_to_Computational_Modeling_Ch_2_Pages_50_96.pdf\"\n",
    "\n",
    "# Create a PDF reader and writer\n",
    "reader = PdfReader(input_pdf_path)\n",
    "writer = PdfWriter()\n",
    "\n",
    "# Add pages 16 to 30 (zero-based index in PyPDF2)\n",
    "for page_num in range(51, 95):  # 16th page is index 15, 30th page is index 29\n",
    "    writer.add_page(reader.pages[page_num])\n",
    "\n",
    "# Write the output PDF\n",
    "with open(output_pdf_path, \"wb\") as output_pdf:\n",
    "    writer.write(output_pdf)\n",
    "\n",
    "output_pdf_path\n"
   ]
  },
  {
   "cell_type": "markdown",
   "metadata": {},
   "source": [
    "### Computational Modeling Book Chapter 2 (Module 2.3)"
   ]
  },
  {
   "cell_type": "code",
   "execution_count": 6,
   "metadata": {},
   "outputs": [
    {
     "data": {
      "text/plain": [
       "'C:\\\\Users\\\\Public\\\\Dev\\\\Ph.D\\\\2nd Semester\\\\CSC-827-CM\\\\Introduction_to_Computational_Modeling_Ch_2_Module_2_3_Pages_71_81.pdf'"
      ]
     },
     "execution_count": 6,
     "metadata": {},
     "output_type": "execute_result"
    }
   ],
   "source": [
    "\n",
    "from PyPDF2 import PdfReader, PdfWriter\n",
    "\n",
    "# Input and output file paths\n",
    "path = r\"C:\\Users\\Public\\Dev\\Ph.D\\2nd Semester\\CSC-827-CM\\Shiflet_(2014)_-_Introductin_to_Computational_Science,_Modeling_and_Simlation_for_Sciences_2nd_Edition.pdf\"\n",
    "input_pdf_path = path\n",
    "output_pdf_path = r\"C:\\Users\\Public\\Dev\\Ph.D\\2nd Semester\\CSC-827-CM\\Introduction_to_Computational_Modeling_Ch_2_Module_2_3_Pages_71_81.pdf\"\n",
    "\n",
    "# Create a PDF reader and writer\n",
    "reader = PdfReader(input_pdf_path)\n",
    "writer = PdfWriter()\n",
    "\n",
    "# Add pages 16 to 30 (zero-based index in PyPDF2)\n",
    "for page_num in range(70, 80):  # 16th page is index 15, 30th page is index 29\n",
    "    writer.add_page(reader.pages[page_num])\n",
    "\n",
    "# Write the output PDF\n",
    "with open(output_pdf_path, \"wb\") as output_pdf:\n",
    "    writer.write(output_pdf)\n",
    "\n",
    "output_pdf_path\n"
   ]
  }
 ],
 "metadata": {
  "kernelspec": {
   "display_name": ".venv",
   "language": "python",
   "name": "python3"
  },
  "language_info": {
   "codemirror_mode": {
    "name": "ipython",
    "version": 3
   },
   "file_extension": ".py",
   "mimetype": "text/x-python",
   "name": "python",
   "nbconvert_exporter": "python",
   "pygments_lexer": "ipython3",
   "version": "3.11.5"
  }
 },
 "nbformat": 4,
 "nbformat_minor": 2
}
