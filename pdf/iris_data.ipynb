{
 "cells": [
  {
   "cell_type": "markdown",
   "metadata": {},
   "source": [
    "# IRIS Data"
   ]
  },
  {
   "cell_type": "code",
   "execution_count": 1,
   "metadata": {},
   "outputs": [
    {
     "name": "stdout",
     "output_type": "stream",
     "text": [
      "c:\\Users\\Public\\Dev\\practice\\PyComplete\\.venv\n"
     ]
    }
   ],
   "source": [
    "import sys\n",
    "print(sys.prefix)"
   ]
  },
  {
   "cell_type": "code",
   "execution_count": 11,
   "metadata": {},
   "outputs": [],
   "source": [
    "path = r'C:\\Users\\Public\\Dev\\Tex\\Bank Statement\\UBL-22-Jun-2024 17_44_22.pdf'\n",
    "path_o = r'C:\\Users\\Public\\Dev\\Tex\\Bank Statement\\UBL-22-Jun-2024 17_44_22 (first_five_pages).pdf'\n",
    "path_f = r'C:\\Users\\Public\\Dev\\Tex\\Bank Statement\\UBL-22-Jun-2024 17_44_22 (first_page).pdf'\n",
    "path_csv = r'C:\\Users\\Public\\Dev\\Tex\\Bank Statement\\csv_file.csv'"
   ]
  },
  {
   "cell_type": "code",
   "execution_count": 12,
   "metadata": {},
   "outputs": [],
   "source": [
    "import PyPDF2\n",
    "\n",
    "def extract_first_five_pages(input_pdf_path, output_pdf_path):\n",
    "    # Open the input PDF file\n",
    "    with open(input_pdf_path, 'rb') as input_pdf:\n",
    "        # Create a PdfFileReader object\n",
    "        pdf_reader = PyPDF2.PdfReader(input_pdf)\n",
    "\n",
    "        # Create a PdfFileWriter object\n",
    "        pdf_writer = PyPDF2.PdfWriter()\n",
    "\n",
    "        # Add the first 5 pages to the PdfFileWriter object\n",
    "        for page_num in range(min(1, len(pdf_reader.pages))):\n",
    "            pdf_writer.add_page(pdf_reader.pages[page_num])\n",
    "\n",
    "        # Write the output PDF file\n",
    "        with open(output_pdf_path, 'wb') as output_pdf:\n",
    "            pdf_writer.write(output_pdf)\n",
    "\n",
    "# Example usage\n",
    "input_pdf_path = path\n",
    "output_pdf_path = path_f\n",
    "extract_first_five_pages(input_pdf_path, output_pdf_path)"
   ]
  },
  {
   "cell_type": "code",
   "execution_count": 19,
   "metadata": {},
   "outputs": [
    {
     "name": "stdout",
     "output_type": "stream",
     "text": [
      "Table extracted and saved to C:\\Users\\Public\\Dev\\Tex\\Bank Statement\\csv_file.csv\n"
     ]
    },
    {
     "ename": "",
     "evalue": "",
     "output_type": "error",
     "traceback": [
      "\u001b[1;31mThe Kernel crashed while executing code in the current cell or a previous cell. \n",
      "\u001b[1;31mPlease review the code in the cell(s) to identify a possible cause of the failure. \n",
      "\u001b[1;31mClick <a href='https://aka.ms/vscodeJupyterKernelCrash'>here</a> for more info. \n",
      "\u001b[1;31mView Jupyter <a href='command:jupyter.viewOutput'>log</a> for further details."
     ]
    }
   ],
   "source": [
    "import PyPDF2\n",
    "import pandas as pd\n",
    "import re\n",
    "\n",
    "def extract_table_from_pdf(pdf_path, output_csv_path):\n",
    "    # Open the PDF file\n",
    "    with open(pdf_path, 'rb') as file:\n",
    "        pdf_reader = PyPDF2.PdfReader(file)\n",
    "        text = \"\"\n",
    "        # Extract text from the first 5 pages\n",
    "        for page_num in range(min(5, len(pdf_reader.pages))):\n",
    "            page = pdf_reader.pages[page_num]\n",
    "            text += page.extract_text()\n",
    "    \n",
    "    # Define regex to match the rows of the table\n",
    "    table_pattern = re.compile(r'(\\d{2}-[A-Za-z]{3}-\\d{4})\\s+(.+?)\\s+(\\d{0,2}[-\\d]*)\\s+(\\d+,\\d{3}|\\d)\\s+(\\d+,\\d{3}|\\d)\\s+(\\d+,\\d{3}|\\d+.\\d{2})')\n",
    "    matches = table_pattern.findall(text)\n",
    "    \n",
    "    # Create a DataFrame from the extracted table data\n",
    "    df = pd.DataFrame(matches, columns=['Date', 'Particulars', 'Inst. No.', 'Debit', 'Credit', 'Balance'])\n",
    "    \n",
    "    # Save the DataFrame to a CSV file\n",
    "    df.to_csv(output_csv_path, index=False)\n",
    "\n",
    "# Example usage\n",
    "pdf_path = path_f\n",
    "output_csv_path = path_csv\n",
    "extract_table_from_pdf(pdf_path, output_csv_path)\n",
    "\n",
    "print(f\"Table extracted and saved to {output_csv_path}\")\n"
   ]
  },
  {
   "cell_type": "code",
   "execution_count": 15,
   "metadata": {},
   "outputs": [],
   "source": [
    "pdf_path = path_f\n",
    "import PyPDF2\n",
    "import re"
   ]
  },
  {
   "cell_type": "code",
   "execution_count": 16,
   "metadata": {},
   "outputs": [
    {
     "name": "stdout",
     "output_type": "stream",
     "text": [
      "Account Statemen t\n",
      "Printed on June 22, 2024\n",
      "Page 1 o f 194 11-Apr-2014 - 22- Jun-2024 Account Number: 0447 -214204571\n",
      "Dhoke Allah Y ar \n",
      "Post Oﬃc e Dhamiak \n",
      "Soha waBalanc e:PKR 45,458.62\n",
      "As of:22 J une, 2024\n",
      "Account type: Ubl Sa vings A ccount\n",
      "Currency: PKR\n",
      "Reg. C ell N o:03225252454\n",
      "IBAN N o:PK84UNIL0109000214204571\n",
      "CIF:34151678\n",
      "Branch: Soha wa, Jhelum\n",
      "Branch C ode: 0447\n",
      "DATE PARTICULARS INST . NO . DEBIT CREDIT BALANCE\n",
      "11-Apr-2014 ** O pening Balanc e 0 0 0.00\n",
      "12-Apr-2014 TRANSFER FROM 201009794 INTL XFR\n",
      "TO 2142045710 500 500.00\n",
      "14-Apr-2014 CHEQUE BOOK ISSU ANCE CHARGES 250 0 250.00\n",
      "15-Apr-2014 DEBIT CARD ISS. CHG ( GOLD ) 250 0 0.00\n",
      "16-M ay-2014 CHEQUE REALIZA TION 81038264 0 15,675 15,675.00\n",
      "16-M ay-2014 OBC PROCESSING CHARGES 250 0 15,425. 00\n",
      "16-M ay-2014 FEDER AL EX CISE DUTY 40 0 15,385. 00\n",
      "16-M ay-2014 MISC CHARGES - POST AGE 100 0 15,285. 00\n",
      "16-M ay-2014 FEDER AL EX CISE DUTY 16 0 15,269 .00\n",
      "16-M ay-2014 DEBIT CARD ISS. CHG ( GOLD ) 250 0 15,019.00\n",
      "16-M ay-2014 FEDER AL EX CISE DUTY 80 0 14,939.00\n",
      "16-M ay-2014 SMS FEES CARDS 50 0 14,889 .00\n",
      "16-M ay-2014 FEDER AL EX CISE DUTY 8 0 14,881. 00Muhammad T ausee f\n",
      "Activity S ummary\n",
      "UBLUnitedBankL td\n",
      " ubldigital\n",
      " ubldigital\n",
      " United-Bank -Limit ed\n",
      " ubldigitalFor la test schedule o f char ges, kindly visit y our br anch or \n",
      "UBL w ebsit e www .ubldigital.c om www .ubldigital.c om\n",
      "111-825-888\n"
     ]
    }
   ],
   "source": [
    "text = \"\"\n",
    "with open(pdf_path, 'rb') as file:\n",
    "    pdf_reader = PyPDF2.PdfReader(file)\n",
    "    text = \"\"\n",
    "    # Extract text from the first page\n",
    "    page = pdf_reader.pages[0]\n",
    "    text = page.extract_text()\n",
    "\n",
    "print(text)"
   ]
  },
  {
   "cell_type": "code",
   "execution_count": 18,
   "metadata": {},
   "outputs": [
    {
     "name": "stdout",
     "output_type": "stream",
     "text": [
      "Account Statemen t\n",
      "____Printed on June 22, 2024\n",
      "____Page 1 o f 194 11-Apr-2014 - 22- Jun-2024 Account Number: 0447 -214204571\n",
      "____Dhoke Allah Y ar \n",
      "____Post Oﬃc e Dhamiak \n",
      "____Soha waBalanc e:PKR 45,458.62\n",
      "____As of:22 J une, 2024\n",
      "____Account type: Ubl Sa vings A ccount\n",
      "____Currency: PKR\n",
      "____Reg. C ell N o:03225252454\n",
      "____IBAN N o:PK84UNIL0109000214204571\n",
      "____CIF:34151678\n",
      "____Branch: Soha wa, Jhelum\n",
      "____Branch C ode: 0447\n",
      "____DATE PARTICULARS INST . NO . DEBIT CREDIT BALANCE\n",
      "____11-Apr-2014 ** O pening Balanc e 0 0 0.00\n",
      "____12-Apr-2014 TRANSFER FROM 201009794 INTL XFR\n",
      "____TO 2142045710 500 500.00\n",
      "____14-Apr-2014 CHEQUE BOOK ISSU ANCE CHARGES 250 0 250.00\n",
      "____15-Apr-2014 DEBIT CARD ISS. CHG ( GOLD ) 250 0 0.00\n",
      "____16-M ay-2014 CHEQUE REALIZA TION 81038264 0 15,675 15,675.00\n",
      "____16-M ay-2014 OBC PROCESSING CHARGES 250 0 15,425. 00\n",
      "____16-M ay-2014 FEDER AL EX CISE DUTY 40 0 15,385. 00\n",
      "____16-M ay-2014 MISC CHARGES - POST AGE 100 0 15,285. 00\n",
      "____16-M ay-2014 FEDER AL EX CISE DUTY 16 0 15,269 .00\n",
      "____16-M ay-2014 DEBIT CARD ISS. CHG ( GOLD ) 250 0 15,019.00\n",
      "____16-M ay-2014 FEDER AL EX CISE DUTY 80 0 14,939.00\n",
      "____16-M ay-2014 SMS FEES CARDS 50 0 14,889 .00\n",
      "____16-M ay-2014 FEDER AL EX CISE DUTY 8 0 14,881. 00Muhammad T ausee f\n",
      "____Activity S ummary\n",
      "____UBLUnitedBankL td\n",
      "____ ubldigital\n",
      "____ ubldigital\n",
      "____ United-Bank -Limit ed\n",
      "____ ubldigitalFor la test schedule o f char ges, kindly visit y our br anch or \n",
      "____UBL w ebsit e www .ubldigital.c om www .ubldigital.c om\n",
      "____111-825-888\n",
      "____"
     ]
    }
   ],
   "source": [
    "lines = text.split('\\n')\n",
    "for l in lines:\n",
    "    print(l, end='\\n____')"
   ]
  }
 ],
 "metadata": {
  "kernelspec": {
   "display_name": ".venv",
   "language": "python",
   "name": "python3"
  },
  "language_info": {
   "codemirror_mode": {
    "name": "ipython",
    "version": 3
   },
   "file_extension": ".py",
   "mimetype": "text/x-python",
   "name": "python",
   "nbconvert_exporter": "python",
   "pygments_lexer": "ipython3",
   "version": "3.11.5"
  }
 },
 "nbformat": 4,
 "nbformat_minor": 2
}
