{
 "cells": [
  {
   "cell_type": "markdown",
   "metadata": {},
   "source": [
    "### I will convert/split PDF to slides"
   ]
  },
  {
   "cell_type": "code",
   "execution_count": 2,
   "metadata": {},
   "outputs": [],
   "source": [
    "path = r\"C:\\Users\\Public\\Dev\\Ph.D\\2nd Semester\\CS-675-IRS\\Lectures Slides\\Introduction and His Pres of Information.pdf\"\n"
   ]
  },
  {
   "cell_type": "code",
   "execution_count": 4,
   "metadata": {},
   "outputs": [
    {
     "name": "stdout",
     "output_type": "stream",
     "text": [
      "Splitted PDF saved as: C:\\Users\\Public\\Dev\\Ph.D\\2nd Semester\\CS-675-IRS\\Lectures Slides\\Introduction and His Pres of Information_splitted.pdf\n"
     ]
    }
   ],
   "source": [
    "import copy\n",
    "from PyPDF2 import PdfReader, PdfWriter\n",
    "\n",
    "# Define paths (using raw strings to avoid escape issues on Windows)\n",
    "folder_path = r\"C:\\Users\\Public\\Dev\\Ph.D\\2nd Semester\\CS-675-IRS\\Lectures Slides\"\n",
    "input_file_name = \"Introduction and His Pres of Information.pdf\"\n",
    "output_file_name = \"Introduction and His Pres of Information_splitted.pdf\"\n",
    "\n",
    "input_path = f\"{folder_path}\\\\{input_file_name}\"\n",
    "output_path = f\"{folder_path}\\\\{output_file_name}\"\n",
    "\n",
    "reader = PdfReader(input_path)\n",
    "writer = PdfWriter()\n",
    "\n",
    "# Process each page\n",
    "for page in reader.pages:\n",
    "    # Deep copy to keep original page intact for both halves\n",
    "    page_left = copy.deepcopy(page)\n",
    "    page_right = copy.deepcopy(page)\n",
    "    \n",
    "    # Get original page dimensions\n",
    "    ll_x, ll_y = float(page.mediabox.lower_left[0]), float(page.mediabox.lower_left[1])\n",
    "    ur_x, ur_y = float(page.mediabox.upper_right[0]), float(page.mediabox.upper_right[1])\n",
    "    \n",
    "    # Compute the vertical mid-point\n",
    "    mid_x = ll_x + (ur_x - ll_x) / 2\n",
    "\n",
    "    # Crop for the left half: from left edge to mid-point\n",
    "    page_left.cropbox.lower_left = (ll_x, ll_y)\n",
    "    page_left.cropbox.upper_right = (mid_x, ur_y)\n",
    "    \n",
    "    # Crop for the right half: from mid-point to right edge\n",
    "    page_right.cropbox.lower_left = (mid_x, ll_y)\n",
    "    page_right.cropbox.upper_right = (ur_x, ur_y)\n",
    "    \n",
    "    # Add both halves as new pages to the output PDF\n",
    "    writer.add_page(page_left)\n",
    "    writer.add_page(page_right)\n",
    "\n",
    "# Save the resulting PDF\n",
    "with open(output_path, \"wb\") as output_pdf:\n",
    "    writer.write(output_pdf)\n",
    "\n",
    "print(f\"Splitted PDF saved as: {output_path}\")\n"
   ]
  },
  {
   "cell_type": "markdown",
   "metadata": {},
   "source": [
    "#### Horizental Split"
   ]
  },
  {
   "cell_type": "code",
   "execution_count": 5,
   "metadata": {},
   "outputs": [
    {
     "name": "stdout",
     "output_type": "stream",
     "text": [
      "Splitted PDF saved as: C:\\Users\\Public\\Dev\\Ph.D\\2nd Semester\\CS-675-IRS\\Lectures Slides\\Introduction and His Pres of Information_splitted.pdf\n"
     ]
    }
   ],
   "source": [
    "import copy\n",
    "from PyPDF2 import PdfReader, PdfWriter\n",
    "\n",
    "# Define paths (using raw strings to avoid escape issues on Windows)\n",
    "folder_path = r\"C:\\Users\\Public\\Dev\\Ph.D\\2nd Semester\\CS-675-IRS\\Lectures Slides\"\n",
    "input_file_name = \"Introduction and His Pres of Information.pdf\"\n",
    "output_file_name = \"Introduction and His Pres of Information_splitted.pdf\"\n",
    "\n",
    "input_path = f\"{folder_path}\\\\{input_file_name}\"\n",
    "output_path = f\"{folder_path}\\\\{output_file_name}\"\n",
    "\n",
    "reader = PdfReader(input_path)\n",
    "writer = PdfWriter()\n",
    "\n",
    "# Process each page: split into lower and upper halves\n",
    "for page in reader.pages:\n",
    "    # Create deep copies for the two halves\n",
    "    page_bottom = copy.deepcopy(page)\n",
    "    page_top = copy.deepcopy(page)\n",
    "    \n",
    "    # Get the original page dimensions\n",
    "    ll_x, ll_y = float(page.mediabox.lower_left[0]), float(page.mediabox.lower_left[1])\n",
    "    ur_x, ur_y = float(page.mediabox.upper_right[0]), float(page.mediabox.upper_right[1])\n",
    "    \n",
    "    # Compute the horizontal mid-point\n",
    "    mid_y = ll_y + (ur_y - ll_y) / 2\n",
    "\n",
    "    # Crop for the bottom half (lower part of the page)\n",
    "    page_bottom.cropbox.lower_left = (ll_x, ll_y)\n",
    "    page_bottom.cropbox.upper_right = (ur_x, mid_y)\n",
    "    \n",
    "    # Crop for the top half (upper part of the page)\n",
    "    page_top.cropbox.lower_left = (ll_x, mid_y)\n",
    "    page_top.cropbox.upper_right = (ur_x, ur_y)\n",
    "    \n",
    "    # Add both halves as new pages to the output PDF\n",
    "    writer.add_page(page_bottom)\n",
    "    writer.add_page(page_top)\n",
    "\n",
    "# Save the resulting PDF\n",
    "with open(output_path, \"wb\") as output_pdf:\n",
    "    writer.write(output_pdf)\n",
    "\n",
    "print(f\"Splitted PDF saved as: {output_path}\")\n"
   ]
  },
  {
   "cell_type": "markdown",
   "metadata": {},
   "source": [
    "#### Upper and Lower part correction"
   ]
  },
  {
   "cell_type": "code",
   "execution_count": 6,
   "metadata": {},
   "outputs": [
    {
     "name": "stdout",
     "output_type": "stream",
     "text": [
      "Splitted PDF saved as: C:\\Users\\Public\\Dev\\Ph.D\\2nd Semester\\CS-675-IRS\\Lectures Slides\\Introduction and His Pres of Information_splitted.pdf\n"
     ]
    }
   ],
   "source": [
    "import copy\n",
    "from PyPDF2 import PdfReader, PdfWriter\n",
    "\n",
    "# Define paths (using raw strings to avoid escape issues on Windows)\n",
    "folder_path = r\"C:\\Users\\Public\\Dev\\Ph.D\\2nd Semester\\CS-675-IRS\\Lectures Slides\"\n",
    "input_file_name = \"Introduction and His Pres of Information.pdf\"\n",
    "output_file_name = \"Introduction and His Pres of Information_splitted.pdf\"\n",
    "\n",
    "input_path = f\"{folder_path}\\\\{input_file_name}\"\n",
    "output_path = f\"{folder_path}\\\\{output_file_name}\"\n",
    "\n",
    "reader = PdfReader(input_path)\n",
    "writer = PdfWriter()\n",
    "\n",
    "# Process each page: split into upper and lower halves\n",
    "for page in reader.pages:\n",
    "    # Create deep copies for the two halves\n",
    "    page_bottom = copy.deepcopy(page)\n",
    "    page_top = copy.deepcopy(page)\n",
    "    \n",
    "    # Get the original page dimensions\n",
    "    ll_x, ll_y = float(page.mediabox.lower_left[0]), float(page.mediabox.lower_left[1])\n",
    "    ur_x, ur_y = float(page.mediabox.upper_right[0]), float(page.mediabox.upper_right[1])\n",
    "    \n",
    "    # Compute the horizontal mid-point\n",
    "    mid_y = ll_y + (ur_y - ll_y) / 2\n",
    "\n",
    "    # Crop for the bottom half (lower part of the page)\n",
    "    page_bottom.cropbox.lower_left = (ll_x, ll_y)\n",
    "    page_bottom.cropbox.upper_right = (ur_x, mid_y)\n",
    "    \n",
    "    # Crop for the top half (upper part of the page)\n",
    "    page_top.cropbox.lower_left = (ll_x, mid_y)\n",
    "    page_top.cropbox.upper_right = (ur_x, ur_y)\n",
    "    \n",
    "    # Add the top half first, then the bottom half to the output PDF\n",
    "    writer.add_page(page_top)\n",
    "    writer.add_page(page_bottom)\n",
    "\n",
    "# Save the resulting PDF\n",
    "with open(output_path, \"wb\") as output_pdf:\n",
    "    writer.write(output_pdf)\n",
    "\n",
    "print(f\"Splitted PDF saved as: {output_path}\")\n"
   ]
  },
  {
   "cell_type": "code",
   "execution_count": null,
   "metadata": {},
   "outputs": [],
   "source": []
  }
 ],
 "metadata": {
  "kernelspec": {
   "display_name": ".venv",
   "language": "python",
   "name": "python3"
  },
  "language_info": {
   "codemirror_mode": {
    "name": "ipython",
    "version": 3
   },
   "file_extension": ".py",
   "mimetype": "text/x-python",
   "name": "python",
   "nbconvert_exporter": "python",
   "pygments_lexer": "ipython3",
   "version": "3.11.5"
  }
 },
 "nbformat": 4,
 "nbformat_minor": 2
}
