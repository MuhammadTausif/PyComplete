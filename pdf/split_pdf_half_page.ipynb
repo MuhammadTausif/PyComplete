{
 "cells": [
  {
   "cell_type": "markdown",
   "metadata": {},
   "source": [
    "## Split PDF Half"
   ]
  },
  {
   "cell_type": "code",
   "execution_count": 5,
   "metadata": {},
   "outputs": [
    {
     "name": "stdout",
     "output_type": "stream",
     "text": [
      "Splitted PDF saved as: C:\\Users\\Public\\Dev\\Ph.D\\2nd Semester\\CSC-614-SQAT\\Lecture Slides\\3.QualityInDesignAllSlides_splitted.pdf\n"
     ]
    }
   ],
   "source": [
    "import copy\n",
    "from PyPDF2 import PdfReader, PdfWriter\n",
    "\n",
    "# Define paths (using raw strings to avoid escape issues on Windows)\n",
    "folder_path = r\"C:\\Users\\Public\\Dev\\Ph.D\\2nd Semester\\CSC-614-SQAT\\Lecture Slides\"\n",
    "input_file_name = \"3.QualityInDesignAllSlides.pdf\"\n",
    "output_file_name = \"3.QualityInDesignAllSlides_splitted.pdf\"\n",
    "\n",
    "input_path = f\"{folder_path}\\\\{input_file_name}\"\n",
    "output_path = f\"{folder_path}\\\\{output_file_name}\"\n",
    "\n",
    "reader = PdfReader(input_path)\n",
    "writer = PdfWriter()\n",
    "\n",
    "# Process each page: split into upper and lower halves\n",
    "for page in reader.pages:\n",
    "    # Create deep copies for the two halves\n",
    "    page_bottom = copy.deepcopy(page)\n",
    "    page_top = copy.deepcopy(page)\n",
    "    \n",
    "    # Get the original page dimensions\n",
    "    ll_x, ll_y = float(page.mediabox.lower_left[0]), float(page.mediabox.lower_left[1])\n",
    "    ur_x, ur_y = float(page.mediabox.upper_right[0]), float(page.mediabox.upper_right[1])\n",
    "    \n",
    "    # Compute the horizontal mid-point\n",
    "    mid_y = ll_y + (ur_y - ll_y) / 2\n",
    "\n",
    "    # Crop for the bottom half (lower part of the page)\n",
    "    page_bottom.cropbox.lower_left = (ll_x, ll_y)\n",
    "    page_bottom.cropbox.upper_right = (ur_x, mid_y)\n",
    "    \n",
    "    # Crop for the top half (upper part of the page)\n",
    "    page_top.cropbox.lower_left = (ll_x, mid_y)\n",
    "    page_top.cropbox.upper_right = (ur_x, ur_y)\n",
    "    \n",
    "    # Add the top half first, then the bottom half to the output PDF\n",
    "    writer.add_page(page_top)\n",
    "    writer.add_page(page_bottom)\n",
    "\n",
    "# Save the resulting PDF\n",
    "with open(output_path, \"wb\") as output_pdf:\n",
    "    writer.write(output_pdf)\n",
    "\n",
    "print(f\"Splitted PDF saved as: {output_path}\")\n"
   ]
  }
 ],
 "metadata": {
  "kernelspec": {
   "display_name": ".venv",
   "language": "python",
   "name": "python3"
  },
  "language_info": {
   "codemirror_mode": {
    "name": "ipython",
    "version": 3
   },
   "file_extension": ".py",
   "mimetype": "text/x-python",
   "name": "python",
   "nbconvert_exporter": "python",
   "pygments_lexer": "ipython3",
   "version": "3.11.5"
  }
 },
 "nbformat": 4,
 "nbformat_minor": 2
}
