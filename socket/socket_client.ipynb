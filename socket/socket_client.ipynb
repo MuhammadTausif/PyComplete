{
 "cells": [
  {
   "cell_type": "markdown",
   "metadata": {},
   "source": [
    "# Socket Client"
   ]
  },
  {
   "cell_type": "code",
   "execution_count": 4,
   "metadata": {},
   "outputs": [
    {
     "name": "stdout",
     "output_type": "stream",
     "text": [
      "Received 'Thank you for connecting' from the server\n"
     ]
    }
   ],
   "source": [
    "import socket\n",
    "\n",
    "# Create a socket object using IPv4 and TCP protocol\n",
    "client_socket = socket.socket(socket.AF_INET, socket.SOCK_STREAM)\n",
    "\n",
    "# Connect to the server\n",
    "client_socket.connect(('localhost', 9999))\n",
    "\n",
    "# Send data to the server\n",
    "message = 'Hello, server!'\n",
    "client_socket.send(message.encode())\n",
    "\n",
    "# Receive data from the server\n",
    "response = client_socket.recv(1024)\n",
    "print(f\"Received '{response.decode()}' from the server\")\n",
    "\n",
    "# Close the connection\n",
    "client_socket.close()\n"
   ]
  },
  {
   "cell_type": "code",
   "execution_count": 8,
   "metadata": {},
   "outputs": [
    {
     "name": "stdout",
     "output_type": "stream",
     "text": [
      "DESKTOP-T8LIA84\n"
     ]
    }
   ],
   "source": [
    "host = socket.gethostname() \n",
    "print(host)"
   ]
  },
  {
   "cell_type": "code",
   "execution_count": 2,
   "metadata": {},
   "outputs": [
    {
     "ename": "TimeoutError",
     "evalue": "[WinError 10060] A connection attempt failed because the connected party did not properly respond after a period of time, or established connection failed because connected host has failed to respond",
     "output_type": "error",
     "traceback": [
      "\u001b[1;31m---------------------------------------------------------------------------\u001b[0m",
      "\u001b[1;31mTimeoutError\u001b[0m                              Traceback (most recent call last)",
      "Cell \u001b[1;32mIn [2], line 7\u001b[0m\n\u001b[0;32m      5\u001b[0m \u001b[38;5;66;03m# Connect to the server\u001b[39;00m\n\u001b[0;32m      6\u001b[0m server_address \u001b[38;5;241m=\u001b[39m (\u001b[38;5;124m'\u001b[39m\u001b[38;5;124m103.121.179.74\u001b[39m\u001b[38;5;124m'\u001b[39m, \u001b[38;5;241m12345\u001b[39m)  \u001b[38;5;66;03m# Server IP and the port\u001b[39;00m\n\u001b[1;32m----> 7\u001b[0m \u001b[43mclient_socket\u001b[49m\u001b[38;5;241;43m.\u001b[39;49m\u001b[43mconnect\u001b[49m\u001b[43m(\u001b[49m\u001b[43mserver_address\u001b[49m\u001b[43m)\u001b[49m\n\u001b[0;32m      9\u001b[0m \u001b[38;5;66;03m# Receive data from the server\u001b[39;00m\n\u001b[0;32m     10\u001b[0m data \u001b[38;5;241m=\u001b[39m client_socket\u001b[38;5;241m.\u001b[39mrecv(\u001b[38;5;241m1024\u001b[39m)\n",
      "\u001b[1;31mTimeoutError\u001b[0m: [WinError 10060] A connection attempt failed because the connected party did not properly respond after a period of time, or established connection failed because connected host has failed to respond"
     ]
    }
   ],
   "source": [
    "import socket\n",
    "\n",
    "client_socket = socket.socket(socket.AF_INET, socket.SOCK_STREAM)\n",
    "\n",
    "# Connect to the server\n",
    "server_address = ('103.121.179.74', 12345)  # Server IP and the port\n",
    "client_socket.connect(server_address)\n",
    "\n",
    "# Receive data from the server\n",
    "data = client_socket.recv(1024)\n",
    "print(f\"Received: {data.decode()}\")\n",
    "\n",
    "# Close the connection\n",
    "client_socket.close()\n"
   ]
  }
 ],
 "metadata": {
  "kernelspec": {
   "display_name": "Python 3",
   "language": "python",
   "name": "python3"
  },
  "language_info": {
   "codemirror_mode": {
    "name": "ipython",
    "version": 3
   },
   "file_extension": ".py",
   "mimetype": "text/x-python",
   "name": "python",
   "nbconvert_exporter": "python",
   "pygments_lexer": "ipython3",
   "version": "3.11.5"
  }
 },
 "nbformat": 4,
 "nbformat_minor": 2
}
