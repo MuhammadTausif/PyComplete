{
 "cells": [
  {
   "cell_type": "markdown",
   "metadata": {},
   "source": [
    "# Socket Programming"
   ]
  },
  {
   "cell_type": "code",
   "execution_count": 1,
   "metadata": {},
   "outputs": [
    {
     "name": "stdout",
     "output_type": "stream",
     "text": [
      "Server is listening on localhost:9999\n",
      "Got a connection from ('127.0.0.1', 64887)\n",
      "Received 'GET / HTTP/1.1\n",
      "Host: localhost:9999\n",
      "Connection: keep-alive\n",
      "sec-ch-ua: \"Chromium\";v=\"122\", \"Not(A:Brand\";v=\"24\", \"Google Chrome\";v=\"122\"\n",
      "sec-ch-ua-mobile: ?0\n",
      "sec-ch-ua-platform: \"Windows\"\n",
      "Upgrade-Insecure-Requests: 1\n",
      "User-Agent: Mozilla/5.0 (Windows NT 10.0; Win64; x64) AppleWebKit/537.36 (KHTML, like Gecko) Chrome/122.0.0.0 Safari/537.36\n",
      "Accept: text/html,application/xhtml+xml,application/xml;q=0.9,image/avif,image/webp,image/apng,*/*;q=0.8,application/signed-exchange;v=b3;q=0.7\n",
      "Sec-Fetch-Site: none\n",
      "Sec-Fetch-Mode: navigate\n",
      "Sec-Fetch-User: ?1\n",
      "Sec-Fetch-Dest: document\n",
      "Accept-Encoding: gzip, deflate, br, zstd\n",
      "Accept-Language: en-US,en;q=0.9,de-DE;q=0.8,de;q=0.7,ur-PK;q=0.6,ur;q=0.5,hi-IN;q=0.4,hi;q=0.3\n",
      "\n",
      "' from the client\n",
      "Got a connection from ('127.0.0.1', 64888)\n",
      "Received 'GET / HTTP/1.1\n",
      "Host: localhost:9999\n",
      "Connection: keep-alive\n",
      "Cache-Control: max-age=0\n",
      "sec-ch-ua: \"Chromium\";v=\"122\", \"Not(A:Brand\";v=\"24\", \"Google Chrome\";v=\"122\"\n",
      "sec-ch-ua-mobile: ?0\n",
      "sec-ch-ua-platform: \"Windows\"\n",
      "Upgrade-Insecure-Requests: 1\n",
      "User-Agent: Mozilla/5.0 (Windows NT 10.0; Win64; x64) AppleWebKit/537.36 (KHTML, like Gecko) Chrome/122.0.0.0 Safari/537.36\n",
      "Accept: text/html,application/xhtml+xml,application/xml;q=0.9,image/avif,image/webp,image/apng,*/*;q=0.8,application/signed-exchange;v=b3;q=0.7\n",
      "Sec-Fetch-Site: none\n",
      "Sec-Fetch-Mode: navigate\n",
      "Sec-Fetch-User: ?1\n",
      "Sec-Fetch-Dest: document\n",
      "Accept-Encoding: gzip, deflate, br, zstd\n",
      "Accept-Language: en-US,en;q=0.9,de-DE;q=0.8,de;q=0.7,ur-PK;q=0.6,ur;q=0.5,hi-IN;q=0.4,hi;q=0.3\n",
      "\n",
      "' from the client\n",
      "Got a connection from ('127.0.0.1', 64995)\n",
      "Received 'Hello, server!' from the client\n",
      "Got a connection from ('127.0.0.1', 65011)\n",
      "Received 'Hello, server!' from the client\n",
      "Got a connection from ('127.0.0.1', 65023)\n",
      "Received 'Hello, server!' from the client\n"
     ]
    }
   ],
   "source": [
    "import socket\n",
    "\n",
    "# Create a socket object using IPv4 and TCP protocol\n",
    "server_socket = socket.socket(socket.AF_INET, socket.SOCK_STREAM)\n",
    "\n",
    "# Bind the socket to a public host and a port\n",
    "server_socket.bind(('localhost', 9999))\n",
    "\n",
    "# Enable the server to accept connections (max 5 clients in the waiting queue)\n",
    "server_socket.listen(5)\n",
    "print(\"Server is listening on localhost:9999\")\n",
    "\n",
    "while True:\n",
    "    # Wait for client connection\n",
    "    client_socket, addr = server_socket.accept()\n",
    "    print(f\"Got a connection from {addr}\")\n",
    "\n",
    "    # Receive data from the client\n",
    "    data = client_socket.recv(1024)\n",
    "    print(f\"Received '{data.decode()}' from the client\")\n",
    "\n",
    "    # Send data to the client\n",
    "    response = 'Thank you for connecting'\n",
    "    client_socket.send(response.encode())\n",
    "\n",
    "    # Close the connection with the client\n",
    "    client_socket.close()\n"
   ]
  },
  {
   "cell_type": "code",
   "execution_count": null,
   "metadata": {},
   "outputs": [],
   "source": [
    "import socket\n",
    "\n",
    "server_socket = socket.socket(socket.AF_INET, socket.SOCK_STREAM)\n",
    "host = '103.121.179.74'  # Server's IP address\n",
    "port = 12345\n",
    "server_socket.bind((host, port))\n",
    "\n",
    "server_socket.listen(5)\n",
    "print(f\"Listening on {host}:{port}\")\n",
    "\n",
    "while True:\n",
    "    client_socket, addr = server_socket.accept()\n",
    "    print(f\"Received connection from {addr}\")\n",
    "    client_socket.send(\"Hello from the server!\".encode('utf-8'))\n",
    "    client_socket.close()\n"
   ]
  },
  {
   "cell_type": "code",
   "execution_count": 2,
   "metadata": {},
   "outputs": [
    {
     "name": "stdout",
     "output_type": "stream",
     "text": [
      "Server is waiting for connections...\n"
     ]
    }
   ],
   "source": [
    "import socket\n",
    "\n",
    "server_socket = socket.socket(socket.AF_INET, socket.SOCK_STREAM)\n",
    "\n",
    "# Bind the socket to the host and a port\n",
    "server_socket.bind((\"0.0.0.0\", 12345))  # Bind to all interfaces\n",
    "\n",
    "# Listen for incoming connections\n",
    "server_socket.listen(1)\n",
    "print(\"Server is waiting for connections...\")\n",
    "\n",
    "while True:\n",
    "    # Accept a connection\n",
    "    client_socket, addr = server_socket.accept()\n",
    "    print(f\"Connected to {addr}\")\n",
    "\n",
    "    # Send a message to the client\n",
    "    client_socket.send(b\"Hello, client!\")\n",
    "\n",
    "    # Close the connection\n",
    "    client_socket.close()\n"
   ]
  }
 ],
 "metadata": {
  "kernelspec": {
   "display_name": "Python 3",
   "language": "python",
   "name": "python3"
  },
  "language_info": {
   "codemirror_mode": {
    "name": "ipython",
    "version": 3
   },
   "file_extension": ".py",
   "mimetype": "text/x-python",
   "name": "python",
   "nbconvert_exporter": "python",
   "pygments_lexer": "ipython3",
   "version": "3.11.5"
  }
 },
 "nbformat": 4,
 "nbformat_minor": 2
}
