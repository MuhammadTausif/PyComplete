{
 "cells": [
  {
   "cell_type": "markdown",
   "metadata": {},
   "source": [
    "# SQLITE"
   ]
  },
  {
   "cell_type": "code",
   "execution_count": null,
   "metadata": {},
   "outputs": [],
   "source": [
    "!pip install icecream"
   ]
  },
  {
   "cell_type": "code",
   "execution_count": 1,
   "metadata": {},
   "outputs": [],
   "source": [
    "import sqlite3\n",
    "from icecream import ic as print"
   ]
  },
  {
   "cell_type": "code",
   "execution_count": 2,
   "metadata": {},
   "outputs": [],
   "source": [
    "connection = sqlite3.connect('subscriber.db')\n",
    "cursor = connection.cursor()"
   ]
  },
  {
   "cell_type": "code",
   "execution_count": 3,
   "metadata": {},
   "outputs": [],
   "source": [
    "# Step 1:\n",
    "def get_connection(db_name):\n",
    "    try:\n",
    "        return sqlite3.connect(db_name)\n",
    "    except Exception as e:\n",
    "        print(f\"Effor {e}\")"
   ]
  },
  {
   "cell_type": "code",
   "execution_count": null,
   "metadata": {},
   "outputs": [],
   "source": [
    "# Step 2: Create table\n",
    "def create_table(connection):\n",
    "    query = \"\"\"\n",
    "    CREATE TABLE IF NOT EXISTS  users(\n",
    "        id INTEGER PRIMARY KEY,\n",
    "        name TEXT NOT NULL,\n",
    "        age INTEGER,\n",
    "        email TEXT UNIQUE\n",
    "        \n",
    "    )\n",
    "    \"\"\"\n",
    "    \n",
    "    try:\n",
    "        with connection:\n",
    "            connection.execute(query)\n",
    "        print('Table was created.')\n",
    "    except Exception as e:\n",
    "        print(e)"
   ]
  },
  {
   "cell_type": "code",
   "execution_count": 8,
   "metadata": {},
   "outputs": [],
   "source": [
    "# Step 3: Insert User\n",
    "def insert_user(connection, name:str, age:int, email:str):\n",
    "    query =  \"INSERT INTO users (name, age, email) VALUES (?, ?, ?)\"\n",
    "    try:\n",
    "        with connection:\n",
    "            connection.execute(query, (name, age, email))\n",
    "        print(f\"user: {name} was added to your database\")\n",
    "    except Exception as e:\n",
    "        print(e)"
   ]
  },
  {
   "cell_type": "code",
   "execution_count": 17,
   "metadata": {},
   "outputs": [],
   "source": [
    "def fetch_user(connection, condition: str = None) -> list[tuple]:\n",
    "    query = 'SELECT * FROM users'\n",
    "    if condition:\n",
    "        query += f\" WHERE {condition}\"\n",
    "    \n",
    "    try:\n",
    "        with connection:\n",
    "            rows = connection.execute(query).fetchall()\n",
    "        return rows\n",
    "    except Exception as e:\n",
    "        print(e)"
   ]
  },
  {
   "cell_type": "code",
   "execution_count": 19,
   "metadata": {},
   "outputs": [],
   "source": [
    "def main():\n",
    "    # Get connection to database\n",
    "    connection = get_connection('subscriber.db')\n",
    "    try:\n",
    "        # Create table\n",
    "        create_table(connection)\n",
    "        \n",
    "        # Insert data to table\n",
    "        start = input('Enter Option (Add, Delete, Update, Search, Add Many): ').lower()\n",
    "        if start=='add':\n",
    "            name= input('Enter name: ')\n",
    "            age = input('Enter age: ')\n",
    "            email = input('Enter email: ')\n",
    "            insert_user(connection, name, age, email)\n",
    "        elif start == 'search':\n",
    "            print(\"All Users\")\n",
    "            for user in fetch_user(connection):\n",
    "                print(user)\n",
    "        \n",
    "        \n",
    "    finally:\n",
    "        connection.close()"
   ]
  },
  {
   "cell_type": "code",
   "execution_count": 20,
   "metadata": {},
   "outputs": [
    {
     "name": "stderr",
     "output_type": "stream",
     "text": [
      "ic| 'Table was created.'\n",
      "ic| 'All Users'\n",
      "ic| user: (1, 'Aslam', 19, 'e@mail.com')\n",
      "ic| user: (2, 'Akram', 29, 'emai@mail.com')\n"
     ]
    }
   ],
   "source": [
    "main()"
   ]
  },
  {
   "cell_type": "code",
   "execution_count": null,
   "metadata": {},
   "outputs": [],
   "source": []
  }
 ],
 "metadata": {
  "kernelspec": {
   "display_name": ".venv",
   "language": "python",
   "name": "python3"
  },
  "language_info": {
   "codemirror_mode": {
    "name": "ipython",
    "version": 3
   },
   "file_extension": ".py",
   "mimetype": "text/x-python",
   "name": "python",
   "nbconvert_exporter": "python",
   "pygments_lexer": "ipython3",
   "version": "3.11.5"
  }
 },
 "nbformat": 4,
 "nbformat_minor": 2
}
