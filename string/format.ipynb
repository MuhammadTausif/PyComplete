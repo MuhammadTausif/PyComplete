{
 "cells": [
  {
   "cell_type": "markdown",
   "metadata": {},
   "source": [
    "🌟 **Elevate Your Python Strings with the Power of `String.format()`** 🌟\n",
    "\n",
    "In the ever-evolving world of Python programming, there’s a shining star that often doesn’t get the spotlight it truly deserves - the `String.format()` method. This versatile method is the key to unlocking a new level of clarity and efficiency in your code, allowing you to seamlessly integrate variables into strings with precision and style.\n",
    "\n",
    "Why `String.format()`, you ask? Imagine crafting messages, logs, or any text output with the ease of piecing together a puzzle. Whether you're formatting dates, numbers, or incorporating user input into strings, `String.format()` makes it not just possible, but beautifully simple.\n",
    "\n",
    "### A Taste of Its Magic:\n",
    "```python\n",
    "name = \"Alice\"\n",
    "age = 30\n",
    "greeting = \"Hello, {0}. You are {1} years old.\".format(name, age)\n",
    "print(greeting)\n",
    "```\n",
    "\n",
    "Just like that, `String.format()` breathes life into your strings, making them dynamic and adaptable to the data they're meant to represent.\n",
    "\n",
    "But the magic of `String.format()` doesn't end with basic substitutions. It opens a realm of possibilities:\n",
    "- Formatting financial figures with precision\n",
    "- Aligning text for clear, readable output\n",
    "- Dynamically inserting data into emails or messages\n",
    "\n",
    "### Let's Dive Deeper Together:\n",
    "Have you ever stumbled upon a clever use of `String.format()` that made your code cleaner or more efficient? Or perhaps you've discovered a formatting trick that saved the day?\n",
    "\n",
    "🔥 **Share your experiences or questions below**. Whether it's a challenge you've tackled with `String.format()` or a tip you're curious about exploring, let's ignite a conversation around the creative ways we can leverage this method.\n",
    "\n",
    "👍 **Like** if you're excited about harnessing the power of `String.format()` in your next project, **Comment** to share your insights or seek advice, and **Repost** to spread the word about this invaluable tool.\n",
    "\n",
    "Together, let's format our way to clearer, more expressive Python code!\n",
    "\n",
    "#Python #StringFormatting #CodingTips #Programming #TechCommunity"
   ]
  },
  {
   "cell_type": "code",
   "execution_count": 1,
   "metadata": {},
   "outputs": [
    {
     "name": "stdout",
     "output_type": "stream",
     "text": [
      "Hello, Alice. You are 30 years old.\n"
     ]
    }
   ],
   "source": [
    "name = \"Alice\"\n",
    "age = 30\n",
    "greeting = \"Hello, {0}. You are {1} years old.\".format(name, age)\n",
    "print(greeting)"
   ]
  },
  {
   "cell_type": "markdown",
   "metadata": {},
   "source": [
    "Example 1: Basic Placeholders"
   ]
  },
  {
   "cell_type": "code",
   "execution_count": 2,
   "metadata": {},
   "outputs": [
    {
     "name": "stdout",
     "output_type": "stream",
     "text": [
      "My name is John and I am 28 years old.\n"
     ]
    }
   ],
   "source": [
    "name = \"John\"\n",
    "age = 28\n",
    "message = \"My name is {0} and I am {1} years old.\".format(name, age)\n",
    "print(message)"
   ]
  },
  {
   "cell_type": "markdown",
   "metadata": {},
   "source": [
    "### Formating with f string"
   ]
  },
  {
   "cell_type": "code",
   "execution_count": 3,
   "metadata": {},
   "outputs": [
    {
     "name": "stdout",
     "output_type": "stream",
     "text": [
      "The value of pi is approximately 3.142.\n"
     ]
    }
   ],
   "source": [
    "import math\n",
    "print(f'The value of pi is approximately {math.pi:.3f}.')"
   ]
  },
  {
   "cell_type": "code",
   "execution_count": 5,
   "metadata": {},
   "outputs": [
    {
     "name": "stdout",
     "output_type": "stream",
     "text": [
      "My hovercraft is full of eels.\n",
      "My hovercraft is full of 'eels'.\n"
     ]
    }
   ],
   "source": [
    "animals = \"eels\"\n",
    "print(f'My hovercraft is full of {animals}.')\n",
    "print(f'My hovercraft is full of {animals!r}.')"
   ]
  }
 ],
 "metadata": {
  "kernelspec": {
   "display_name": "Python 3",
   "language": "python",
   "name": "python3"
  },
  "language_info": {
   "codemirror_mode": {
    "name": "ipython",
    "version": 3
   },
   "file_extension": ".py",
   "mimetype": "text/x-python",
   "name": "python",
   "nbconvert_exporter": "python",
   "pygments_lexer": "ipython3",
   "version": "3.11.5"
  }
 },
 "nbformat": 4,
 "nbformat_minor": 2
}
