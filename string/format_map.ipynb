{
 "cells": [
  {
   "cell_type": "markdown",
   "metadata": {},
   "source": [
    "🚀 **Elevating Your Python Skills: Discover `String.format_map()`** 🚀\n",
    "\n",
    "Python enthusiasts, have you ever stumbled upon a method that felt like finding a secret passage in a labyrinth? Today, let's unfold the mystery of such a hidden gem: `String.format_map()`. This method is a powerful ally in the world of string formatting, providing a sleek, efficient way to inject dictionary values directly into your strings.\n",
    "\n",
    "### Why `String.format_map()`?\n",
    "\n",
    "Imagine having a dictionary brimming with data that you need to present in a formatted string. Traditional methods might require you to manually extract each value, but `String.format_map()` streamlines this process, allowing for a cleaner, more readable code.\n",
    "\n",
    "### A Glimpse of Its Magic:\n",
    "\n",
    "```python\n",
    "person_info = {'name': 'Alice', 'age': 30}\n",
    "message = \"Hello, {name}. You are {age} years old.\".format_map(person_info)\n",
    "print(message)\n",
    "```\n",
    "\n",
    "With just one line, you've crafted a personalized message, dynamically populating it with values from a dictionary. This method not only enhances code readability but also minimizes the risk of errors in data representation.\n",
    "\n",
    "### Beyond Basics:\n",
    "\n",
    "`String.format_map()` shines in scenarios where data structure and presentation go hand in hand. Whether it's generating dynamic emails, reports, or logs, this method offers a seamless way to integrate complex data into meaningful text outputs.\n",
    "\n",
    "### Over to You:\n",
    "\n",
    "- Have you ever leveraged `String.format_map()` in your projects? \n",
    "- Could you share an innovative use case or a problem it helped you solve?\n",
    "\n",
    "🔍 **Share your insights**, challenges, or questions in the comments. Whether you're a seasoned developer or just starting your Python journey, your experiences can inspire and enlighten others.\n",
    "\n",
    "👍 **Like** if you're intrigued by the possibilities of `String.format_map()`, **Comment** to contribute to our collective learning, and **Repost** to spread the knowledge. Together, let's unlock the full potential of Python string formatting!\n",
    "\n",
    "#Python #StringFormatting #CodeEfficiency #ProgrammingTips #TechCommunity"
   ]
  },
  {
   "cell_type": "code",
   "execution_count": 1,
   "metadata": {},
   "outputs": [
    {
     "name": "stdout",
     "output_type": "stream",
     "text": [
      "My name is John and I am 28 years old.\n"
     ]
    }
   ],
   "source": [
    "# Basic Usage\n",
    "person = {'name': 'John', 'age': 28}\n",
    "message = \"My name is {name} and I am {age} years old.\".format_map(person)\n",
    "print(message)\n"
   ]
  },
  {
   "cell_type": "code",
   "execution_count": 3,
   "metadata": {},
   "outputs": [
    {
     "name": "stdout",
     "output_type": "stream",
     "text": [
      "Hello, Alice. Welcome to {city}.\n"
     ]
    }
   ],
   "source": [
    "# Handling Missing values gracefully\n",
    "class SafeDict(dict):\n",
    "    def __missing__(self, key):\n",
    "        return '{' + key + '}'\n",
    "\n",
    "info = SafeDict(name='Alice')\n",
    "message = \"Hello, {name}. Welcome to {city}.\".format_map(info)\n",
    "print(message)\n"
   ]
  },
  {
   "cell_type": "code",
   "execution_count": 4,
   "metadata": {},
   "outputs": [
    {
     "name": "stdout",
     "output_type": "stream",
     "text": [
      "Dear David,\n",
      "\n",
      "Thank you for purchasing the Wireless Mouse on 2023-03-15. We hope you enjoy your new product!\n",
      "\n",
      "Best,\n",
      "Customer Service Team\n"
     ]
    }
   ],
   "source": [
    "# Dynamic Email content\n",
    "user_data = {'first_name': 'David', 'product_name': 'Wireless Mouse', 'purchase_date': '2023-03-15'}\n",
    "email_template = \"\"\"\n",
    "Dear {first_name},\n",
    "\n",
    "Thank you for purchasing the {product_name} on {purchase_date}. We hope you enjoy your new product!\n",
    "\n",
    "Best,\n",
    "Customer Service Team\n",
    "\"\"\".strip()\n",
    "\n",
    "print(email_template.format_map(user_data))\n"
   ]
  },
  {
   "cell_type": "code",
   "execution_count": 6,
   "metadata": {},
   "outputs": [
    {
     "name": "stdout",
     "output_type": "stream",
     "text": [
      "Report for February 2023: Sales - $15000, Expenses - $9500\n"
     ]
    }
   ],
   "source": [
    "# Formating reports\n",
    "report_data = {'month': 'February', 'year': '2023', 'sales': 15000, 'expenses': 9500}\n",
    "report_template = \"Report for {month} {year}: Sales - ${sales}, Expenses - ${expenses}\".format_map(report_data)\n",
    "print(report_template)\n"
   ]
  },
  {
   "cell_type": "code",
   "execution_count": 12,
   "metadata": {},
   "outputs": [
    {
     "name": "stdout",
     "output_type": "stream",
     "text": [
      "Welcome, Megan! The current year is 2024.\n"
     ]
    }
   ],
   "source": [
    "# Customising reports with function\n",
    "from datetime import datetime\n",
    "\n",
    "def current_year():\n",
    "    return datetime.now().year\n",
    "\n",
    "data = {'user': 'Megan', 'year': current_year()}\n",
    "message = \"Welcome, {user}! The current year is {year}.\".format_map(data)\n",
    "print(message)"
   ]
  }
 ],
 "metadata": {
  "kernelspec": {
   "display_name": "Python 3",
   "language": "python",
   "name": "python3"
  },
  "language_info": {
   "codemirror_mode": {
    "name": "ipython",
    "version": 3
   },
   "file_extension": ".py",
   "mimetype": "text/x-python",
   "name": "python",
   "nbconvert_exporter": "python",
   "pygments_lexer": "ipython3",
   "version": "3.11.5"
  }
 },
 "nbformat": 4,
 "nbformat_minor": 2
}
