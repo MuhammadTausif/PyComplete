{
 "cells": [
  {
   "cell_type": "markdown",
   "metadata": {},
   "source": [
    "# Text to Image"
   ]
  },
  {
   "cell_type": "markdown",
   "metadata": {},
   "source": [
    "Basic rectangel image"
   ]
  },
  {
   "cell_type": "code",
   "execution_count": 1,
   "metadata": {},
   "outputs": [],
   "source": [
    "from PIL import Image, ImageDraw\n",
    "\n",
    "# Create a blank image with white background\n",
    "image = Image.new('RGB', (200, 200), 'white')\n",
    "draw = ImageDraw.Draw(image)\n",
    "\n",
    "# Draw a red rectangle\n",
    "draw.rectangle([(50, 50), (150, 150)], outline=\"red\", width=3)\n",
    "\n",
    "# Save the image\n",
    "image.save('image_with_pillow.png')\n",
    "\n",
    "# Display the image\n",
    "image.show()\n"
   ]
  },
  {
   "cell_type": "markdown",
   "metadata": {},
   "source": [
    "### Drawing python code in image"
   ]
  },
  {
   "cell_type": "code",
   "execution_count": 2,
   "metadata": {},
   "outputs": [],
   "source": [
    "from PIL import Image, ImageDraw, ImageFont\n",
    "\n",
    "# Create a blank image with white background\n",
    "image = Image.new('RGB', (800, 400), 'white')\n",
    "draw = ImageDraw.Draw(image)\n",
    "\n",
    "# Define the Python code you want to add\n",
    "python_code = \"\"\"\n",
    "import matplotlib.pyplot as plt\n",
    "import numpy as np\n",
    "\n",
    "# Create a blank image with white background\n",
    "image = np.ones((200, 200, 3), dtype=np.uint8) * 255\n",
    "\n",
    "# Draw a red rectangle\n",
    "image[50:150, 50:150] = [255, 0, 0]\n",
    "\n",
    "# Save the image\n",
    "plt.imsave('image_with_matplotlib.png', image)\n",
    "\n",
    "# Display the image\n",
    "plt.imshow(image)\n",
    "plt.axis('off') # Hide axes\n",
    "plt.show()\n",
    "\"\"\"\n",
    "\n",
    "# Define a font (you might need to provide the path to a font file on your system)\n",
    "font = ImageFont.load_default()\n",
    "\n",
    "# Split the code into lines and draw them on the image\n",
    "lines = python_code.strip().split('\\n')\n",
    "y_text = 10\n",
    "for line in lines:\n",
    "    draw.text((10, y_text), line, font=font, fill='black')\n",
    "    y_text += 15\n",
    "\n",
    "# Save the image\n",
    "image.save('python_code_image.png')\n",
    "\n",
    "# Display the image\n",
    "image.show()\n"
   ]
  },
  {
   "cell_type": "code",
   "execution_count": null,
   "metadata": {},
   "outputs": [],
   "source": []
  }
 ],
 "metadata": {
  "kernelspec": {
   "display_name": "Python 3",
   "language": "python",
   "name": "python3"
  },
  "language_info": {
   "codemirror_mode": {
    "name": "ipython",
    "version": 3
   },
   "file_extension": ".py",
   "mimetype": "text/x-python",
   "name": "python",
   "nbconvert_exporter": "python",
   "pygments_lexer": "ipython3",
   "version": "3.11.5"
  }
 },
 "nbformat": 4,
 "nbformat_minor": 2
}
