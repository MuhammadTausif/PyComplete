{
 "cells": [
  {
   "cell_type": "markdown",
   "metadata": {},
   "source": [
    "# Custom lambda"
   ]
  },
  {
   "cell_type": "code",
   "execution_count": 1,
   "metadata": {},
   "outputs": [
    {
     "name": "stdout",
     "output_type": "stream",
     "text": [
      "IIFE Method\n"
     ]
    }
   ],
   "source": [
    "@lambda _:_()\n",
    "def call_on_execution():\n",
    "    print(\"IIFE Method\")"
   ]
  },
  {
   "cell_type": "code",
   "execution_count": 6,
   "metadata": {},
   "outputs": [
    {
     "name": "stdout",
     "output_type": "stream",
     "text": [
      "<generator object <genexpr> at 0x000001C16E0905F0>\n",
      "<map object at 0x000001C16DFF6BC0>\n",
      "1 2 3 4 5 6 7 8 9 10\n",
      "<enumerate object at 0x000001C16E057060>\n"
     ]
    }
   ],
   "source": [
    "print(_ for _ in range(1,5))\n",
    "print(map(int, range(1, 5)))\n",
    "print(*range(1,11))\n",
    "print(enumerate(range(1,5)))"
   ]
  }
 ],
 "metadata": {
  "kernelspec": {
   "display_name": "Python 3",
   "language": "python",
   "name": "python3"
  },
  "language_info": {
   "codemirror_mode": {
    "name": "ipython",
    "version": 3
   },
   "file_extension": ".py",
   "mimetype": "text/x-python",
   "name": "python",
   "nbconvert_exporter": "python",
   "pygments_lexer": "ipython3",
   "version": "3.11.5"
  }
 },
 "nbformat": 4,
 "nbformat_minor": 2
}
