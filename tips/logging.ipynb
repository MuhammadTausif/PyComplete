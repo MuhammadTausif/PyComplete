{
 "cells": [
  {
   "cell_type": "markdown",
   "metadata": {},
   "source": [
    "# Logging"
   ]
  },
  {
   "cell_type": "code",
   "execution_count": 1,
   "metadata": {},
   "outputs": [
    {
     "name": "stderr",
     "output_type": "stream",
     "text": [
      "WARNING:root:Divide by zero error\n"
     ]
    }
   ],
   "source": [
    "import logging\n",
    "try:\n",
    "   1/0\n",
    "except ZeroDivisionError:\n",
    "   logging.warning(\"Divide by zero error\")\n",
    "except Exception:\n",
    "   logging.critical(\"Other exception\")\n",
    "finally:\n",
    "   logging.info(\"Cleaning up...\")"
   ]
  },
  {
   "cell_type": "markdown",
   "metadata": {},
   "source": [
    "## Detailed Logging"
   ]
  },
  {
   "cell_type": "code",
   "execution_count": 2,
   "metadata": {},
   "outputs": [
    {
     "name": "stderr",
     "output_type": "stream",
     "text": [
      "WARNING:root:Divide by zero error\n",
      "CRITICAL:root:Other exception\n"
     ]
    }
   ],
   "source": [
    "def detailedLogging(i):\n",
    "    import logging\n",
    "    try:\n",
    "        1/i\n",
    "    except ZeroDivisionError:\n",
    "        logging.warning(\"Divide by zero error\")\n",
    "    except Exception:\n",
    "        logging.critical(\"Other exception\")\n",
    "    finally:\n",
    "        logging.info(\"Cleaning up...\")\n",
    "\n",
    "detailedLogging(0)\n",
    "detailedLogging('a')\n",
    "detailedLogging(1)"
   ]
  }
 ],
 "metadata": {
  "kernelspec": {
   "display_name": "Python 3",
   "language": "python",
   "name": "python3"
  },
  "language_info": {
   "codemirror_mode": {
    "name": "ipython",
    "version": 3
   },
   "file_extension": ".py",
   "mimetype": "text/x-python",
   "name": "python",
   "nbconvert_exporter": "python",
   "pygments_lexer": "ipython3",
   "version": "3.11.5"
  }
 },
 "nbformat": 4,
 "nbformat_minor": 2
}
