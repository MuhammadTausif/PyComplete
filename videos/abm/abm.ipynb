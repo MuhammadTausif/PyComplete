{
 "cells": [
  {
   "cell_type": "markdown",
   "metadata": {},
   "source": [
    "### ABM Video"
   ]
  },
  {
   "cell_type": "code",
   "execution_count": 2,
   "metadata": {},
   "outputs": [],
   "source": [
    "from manim import *"
   ]
  },
  {
   "cell_type": "code",
   "execution_count": 17,
   "metadata": {},
   "outputs": [
    {
     "data": {
      "text/html": [
       "<pre style=\"white-space:pre;overflow-x:auto;line-height:normal;font-family:Menlo,'DejaVu Sans Mono',consolas,'Courier New',monospace\">Manim Community <span style=\"color: #008000; text-decoration-color: #008000\">v0.18.1</span>\n",
       "\n",
       "</pre>\n"
      ],
      "text/plain": [
       "Manim Community \u001b[32mv0.\u001b[0m\u001b[32m18.1\u001b[0m\n",
       "\n"
      ]
     },
     "metadata": {},
     "output_type": "display_data"
    },
    {
     "name": "stderr",
     "output_type": "stream",
     "text": [
      "                                                                                \r"
     ]
    },
    {
     "data": {
      "text/html": [
       "<video src=\"media\\jupyter\\SquareToCircle@2025-03-18@22-40-26.mp4\" controls autoplay loop style=\"max-width: 60%;\"  >\n",
       "      Your browser does not support the <code>video</code> element.\n",
       "    </video>"
      ],
      "text/plain": [
       "<IPython.core.display.Video object>"
      ]
     },
     "metadata": {},
     "output_type": "display_data"
    }
   ],
   "source": [
    "\n",
    "%%manim -ql -v Warning SquareToCircle\n",
    "\n",
    "class SquareToCircle(Scene):\n",
    "   def construct(self):\n",
    "      square = Square()\n",
    "      circle = Circle()\n",
    "      circle.set_fill(PINK, opacity=0.5)\n",
    "      self.play(Create(square))\n",
    "      self.play(Transform(square, circle))\n",
    "      self.wait()"
   ]
  },
  {
   "cell_type": "code",
   "execution_count": 3,
   "metadata": {},
   "outputs": [
    {
     "data": {
      "text/html": [
       "<pre style=\"white-space:pre;overflow-x:auto;line-height:normal;font-family:Menlo,'DejaVu Sans Mono',consolas,'Courier New',monospace\">Manim Community <span style=\"color: #008000; text-decoration-color: #008000\">v0.18.1</span>\n",
       "\n",
       "</pre>\n"
      ],
      "text/plain": [
       "Manim Community \u001b[32mv0.\u001b[0m\u001b[32m18.1\u001b[0m\n",
       "\n"
      ]
     },
     "metadata": {},
     "output_type": "display_data"
    },
    {
     "name": "stderr",
     "output_type": "stream",
     "text": [
      "<string>:20: DeprecationWarning: This method is not guaranteed to stay around. Please prefer setting the attribute normally or with Mobject.set().\n",
      "                                                                                                                                                                                                                                      \r"
     ]
    },
    {
     "data": {
      "text/html": [
       "<video src=\"media\\jupyter\\ABMIntro@2025-03-18@22-16-43.mp4\" controls autoplay loop style=\"max-width: 60%;\"  >\n",
       "      Your browser does not support the <code>video</code> element.\n",
       "    </video>"
      ],
      "text/plain": [
       "<IPython.core.display.Video object>"
      ]
     },
     "metadata": {},
     "output_type": "display_data"
    }
   ],
   "source": [
    "%%manim -ql -v Warning ABMIntro\n",
    "\n",
    "class ABMIntro(Scene):\n",
    "    def construct(self):\n",
    "        # Title Text\n",
    "        title = Text(\"Agent-Based Modeling\", font_size=50).set_color(BLUE)\n",
    "        subtitle = Text(\"Understanding Complex Systems\", font_size=30).set_color(WHITE).next_to(title, DOWN)\n",
    "\n",
    "        # Fade In Title & Subtitle\n",
    "        self.play(FadeIn(title), FadeIn(subtitle))\n",
    "        self.wait(2)\n",
    "\n",
    "        # Move title up to make space\n",
    "        self.play(title.animate.shift(UP * 2), subtitle.animate.shift(UP * 2))\n",
    "\n",
    "        # Introduction Text\n",
    "        intro_text = Text(\n",
    "            \"Agent-Based Modeling—or ABM—is a powerful simulation technique used to study complex systems. \"\n",
    "            \"But what exactly is it? Let's find out in just two minutes!\",\n",
    "            font_size=24\n",
    "        ).set_width(6)\n",
    "\n",
    "        # Fade In Introduction\n",
    "        self.play(Write(intro_text))\n",
    "        self.wait(3)\n",
    "\n",
    "        # Fade Out\n",
    "        self.play(FadeOut(title), FadeOut(subtitle), FadeOut(intro_text))\n"
   ]
  },
  {
   "cell_type": "code",
   "execution_count": 31,
   "metadata": {},
   "outputs": [
    {
     "data": {
      "text/html": [
       "<pre style=\"white-space:pre;overflow-x:auto;line-height:normal;font-family:Menlo,'DejaVu Sans Mono',consolas,'Courier New',monospace\">Manim Community <span style=\"color: #008000; text-decoration-color: #008000\">v0.18.1</span>\n",
       "\n",
       "</pre>\n"
      ],
      "text/plain": [
       "Manim Community \u001b[32mv0.\u001b[0m\u001b[32m18.1\u001b[0m\n",
       "\n"
      ]
     },
     "metadata": {},
     "output_type": "display_data"
    },
    {
     "name": "stderr",
     "output_type": "stream",
     "text": [
      "                                                                                                             \r"
     ]
    },
    {
     "data": {
      "text/html": [
       "<video src=\"media\\jupyter\\ABMIntro@2025-03-18@23-02-28.mp4\" controls autoplay loop style=\"max-width: 60%;\"  >\n",
       "      Your browser does not support the <code>video</code> element.\n",
       "    </video>"
      ],
      "text/plain": [
       "<IPython.core.display.Video object>"
      ]
     },
     "metadata": {},
     "output_type": "display_data"
    }
   ],
   "source": [
    "%%manim -ql -v Warning ABMIntro\n",
    "\n",
    "from manim import *\n",
    "\n",
    "class ABMIntro(Scene):\n",
    "    def construct(self):\n",
    "        # Title Text\n",
    "        title = Text(\"Agent-Based Modeling\", font_size=60).set_color(BLUE)\n",
    "        subtitle = Text(\"Understanding Complex Systems\", font_size=35).set_color(WHITE).next_to(title, DOWN)\n",
    "\n",
    "        # Fade In Title & Subtitle\n",
    "        self.play(FadeIn(title))\n",
    "        self.wait(0.5)\n",
    "        \n",
    "        # Move title up to make space\n",
    "        self.play(title.animate.shift(UP * 0.5))\n",
    "        \n",
    "        self.play(FadeIn(subtitle))\n",
    "        self.wait(2)\n",
    "\n",
    "        # Move title up to make space\n",
    "        self.play(title.animate.shift(UP * 2), subtitle.animate.shift(UP * 2.5))\n",
    "\n",
    "\n",
    "        rectangle = Rectangle(width=6.5, height=2).set_stroke(WHITE, width=2)\n",
    "        # rectangle.move_to(DOWN * 1)  # Position the rectangle\n",
    "\n",
    "        # Create text inside the rectangle\n",
    "        text_content = \"Agent-Based Modeling is powerful!\"\n",
    "        text = Text(text_content, font_size=28).move_to(rectangle.get_center()).align_to(rectangle, LEFT).shift(RIGHT * 0.3)\n",
    "\n",
    "        # Show the rectangle\n",
    "        self.play(Create(rectangle))\n",
    "        self.wait(0.5)\n",
    "\n",
    "        # Animate text appearing from left to right\n",
    "        self.play(Write(text))  # Built-in Manim animation\n",
    "        self.wait(2)\n",
    "\n",
    "        # Fade out everything\n",
    "        self.play(FadeOut(rectangle),FadeOut(text))\n",
    "        self.wait(0.2)\n",
    "        self.play(FadeOut(subtitle))\n",
    "        self.wait(0.1)\n",
    "        self.play( FadeOut(title))\n",
    "\n"
   ]
  },
  {
   "cell_type": "code",
   "execution_count": 26,
   "metadata": {},
   "outputs": [
    {
     "data": {
      "text/html": [
       "<pre style=\"white-space:pre;overflow-x:auto;line-height:normal;font-family:Menlo,'DejaVu Sans Mono',consolas,'Courier New',monospace\">Manim Community <span style=\"color: #008000; text-decoration-color: #008000\">v0.18.1</span>\n",
       "\n",
       "</pre>\n"
      ],
      "text/plain": [
       "Manim Community \u001b[32mv0.\u001b[0m\u001b[32m18.1\u001b[0m\n",
       "\n"
      ]
     },
     "metadata": {},
     "output_type": "display_data"
    },
    {
     "name": "stderr",
     "output_type": "stream",
     "text": [
      "                                                                                                              \r"
     ]
    },
    {
     "data": {
      "text/html": [
       "<video src=\"media\\jupyter\\TextInsideRectangle@2025-03-18@22-53-53.mp4\" controls autoplay loop style=\"max-width: 60%;\"  >\n",
       "      Your browser does not support the <code>video</code> element.\n",
       "    </video>"
      ],
      "text/plain": [
       "<IPython.core.display.Video object>"
      ]
     },
     "metadata": {},
     "output_type": "display_data"
    }
   ],
   "source": [
    "%%manim -ql -v Warning TextInsideRectangle\n",
    "\n",
    "class TextInsideRectangle(Scene):\n",
    "    def construct(self):\n",
    "        # Create a rectangle\n",
    "        rectangle = Rectangle(width=6.5, height=2).set_stroke(WHITE, width=2)\n",
    "        # rectangle.move_to(DOWN * 1)  # Position the rectangle\n",
    "\n",
    "        # Create text inside the rectangle\n",
    "        text_content = \"Agent-Based Modeling is powerful!\"\n",
    "        text = Text(text_content, font_size=28).move_to(rectangle.get_center()).align_to(rectangle, LEFT).shift(RIGHT * 0.3)\n",
    "\n",
    "        # Show the rectangle\n",
    "        self.play(Create(rectangle))\n",
    "        self.wait(0.5)\n",
    "\n",
    "        # Animate text appearing from left to right\n",
    "        self.play(Write(text))  # Built-in Manim animation\n",
    "        self.wait(2)\n",
    "\n",
    "        # Fade out everything\n",
    "        self.play(FadeOut(rectangle), FadeOut(text))\n"
   ]
  },
  {
   "cell_type": "code",
   "execution_count": null,
   "metadata": {},
   "outputs": [
    {
     "data": {
      "text/html": [
       "<pre style=\"white-space:pre;overflow-x:auto;line-height:normal;font-family:Menlo,'DejaVu Sans Mono',consolas,'Courier New',monospace\">Manim Community <span style=\"color: #008000; text-decoration-color: #008000\">v0.18.1</span>\n",
       "\n",
       "</pre>\n"
      ],
      "text/plain": [
       "Manim Community \u001b[32mv0.\u001b[0m\u001b[32m18.1\u001b[0m\n",
       "\n"
      ]
     },
     "metadata": {},
     "output_type": "display_data"
    },
    {
     "name": "stderr",
     "output_type": "stream",
     "text": [
      "<string>:15: DeprecationWarning: This method is not guaranteed to stay around. Please prefer setting the attribute normally or with Mobject.set().\n",
      "<string>:16: DeprecationWarning: This method is not guaranteed to stay around. Please prefer setting the attribute normally or with Mobject.set().\n",
      "<string>:17: DeprecationWarning: This method is not guaranteed to stay around. Please prefer setting the attribute normally or with Mobject.set().\n",
      "                                                                                                        \r"
     ]
    },
    {
     "data": {
      "text/html": [
       "<video src=\"media\\jupyter\\ParagraphText@2025-03-19@00-04-11.mp4\" controls autoplay loop style=\"max-width: 60%;\"  >\n",
       "      Your browser does not support the <code>video</code> element.\n",
       "    </video>"
      ],
      "text/plain": [
       "<IPython.core.display.Video object>"
      ]
     },
     "metadata": {},
     "output_type": "display_data"
    }
   ],
   "source": [
    "%%manim -ql -v Warning ParagraphText\n",
    "\n",
    "from manim import *\n",
    "\n",
    "class ParagraphText(Scene):\n",
    "    def construct(self):\n",
    "        # Create a rectangle\n",
    "        rectangle = Rectangle(width=6, height=3).set_stroke(WHITE, width=2)\n",
    "        rectangle.move_to(DOWN * 1)\n",
    "\n",
    "        # Create text lines\n",
    "        text_content = \"Agent-Based Modeling helps\"\n",
    "        text_content1 = \"simulate real-world complex\"\n",
    "        text_content2 = \"systems efficiently.\"\n",
    "\n",
    "        text = Text(text_content, font_size=24).set_width(5.5)\n",
    "        text1 = Text(text_content1, font_size=24).set_width(5.5)\n",
    "        text2 = Text(text_content2, font_size=24).set_width(5.5)\n",
    "\n",
    "        # Adjust positions properly inside the rectangle\n",
    "        text.move_to(rectangle.get_center() + UP * 0.6)  # Move first line up\n",
    "        text1.move_to(rectangle.get_center())  # Keep second line in center\n",
    "        text2.move_to(rectangle.get_center() + DOWN * 0.6)  # Move third line down\n",
    "\n",
    "        # Show the rectangle\n",
    "        self.play(Create(rectangle))\n",
    "        \n",
    "        # Animate text appearing\n",
    "        self.play(Write(text))\n",
    "        self.play(Write(text1))\n",
    "        self.play( Write(text2))\n",
    "        self.wait(2)\n",
    "\n",
    "        # Fade out\n",
    "        self.play(FadeOut(rectangle), FadeOut(text), FadeOut(text1), FadeOut(text2))\n"
   ]
  }
 ],
 "metadata": {
  "kernelspec": {
   "display_name": "Python 3",
   "language": "python",
   "name": "python3"
  },
  "language_info": {
   "codemirror_mode": {
    "name": "ipython",
    "version": 3
   },
   "file_extension": ".py",
   "mimetype": "text/x-python",
   "name": "python",
   "nbconvert_exporter": "python",
   "pygments_lexer": "ipython3",
   "version": "3.11.5"
  }
 },
 "nbformat": 4,
 "nbformat_minor": 2
}
